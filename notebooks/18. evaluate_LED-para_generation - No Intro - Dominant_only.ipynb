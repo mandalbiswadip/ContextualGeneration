{
 "cells": [
  {
   "cell_type": "markdown",
   "id": "c528bbdf",
   "metadata": {},
   "source": [
    "<h1><center>Inference for paragraph generation</center></h1>\n"
   ]
  },
  {
   "cell_type": "markdown",
   "id": "4b9278d8",
   "metadata": {},
   "source": [
    "This notebook is used for generating paragraphs (not spans) in a `Dominant only` and `No Introduction` setup. The rouge scores are estimated after extracting the spans from the paragraphs generated"
   ]
  },
  {
   "cell_type": "code",
   "execution_count": 2,
   "id": "c4efa135",
   "metadata": {},
   "outputs": [],
   "source": [
    "%load_ext autoreload\n",
    "%autoreload 2"
   ]
  },
  {
   "cell_type": "code",
   "execution_count": 3,
   "id": "8345bded",
   "metadata": {},
   "outputs": [],
   "source": [
    "import sys\n",
    "import os"
   ]
  },
  {
   "cell_type": "code",
   "execution_count": 4,
   "id": "73ea6325",
   "metadata": {},
   "outputs": [],
   "source": [
    "import re\n",
    "import inspect\n",
    "from copy import deepcopy"
   ]
  },
  {
   "cell_type": "code",
   "execution_count": 5,
   "id": "29711aec",
   "metadata": {},
   "outputs": [],
   "source": [
    "sys.path.append(\"../scripts/\")"
   ]
  },
  {
   "cell_type": "code",
   "execution_count": 6,
   "id": "570952d5",
   "metadata": {},
   "outputs": [],
   "source": [
    "import json"
   ]
  },
  {
   "cell_type": "code",
   "execution_count": 7,
   "id": "7c9ffd54",
   "metadata": {},
   "outputs": [],
   "source": [
    "import os\n",
    "os.environ[\"CUDA_DEVICE_ORDER\"]=\"PCI_BUS_ID\"   # see issue #152\n",
    "os.environ[\"CUDA_VISIBLE_DEVICES\"]=\"3\""
   ]
  },
  {
   "cell_type": "code",
   "execution_count": 8,
   "id": "18f7e626",
   "metadata": {},
   "outputs": [],
   "source": [
    "from transformers import Seq2SeqTrainer"
   ]
  },
  {
   "cell_type": "code",
   "execution_count": 9,
   "id": "571cef93",
   "metadata": {},
   "outputs": [],
   "source": [
    "from transformers.models.led.modeling_led import LEDModel"
   ]
  },
  {
   "cell_type": "code",
   "execution_count": 10,
   "id": "1453cfe9",
   "metadata": {},
   "outputs": [
    {
     "ename": "ImportError",
     "evalue": "cannot import name 'CitationTextGenerationDataset' from 'dataset' (../scripts/dataset.py)",
     "output_type": "error",
     "traceback": [
      "\u001b[0;31m---------------------------------------------------------------------------\u001b[0m",
      "\u001b[0;31mImportError\u001b[0m                               Traceback (most recent call last)",
      "\u001b[0;32m<ipython-input-10-97c1700e24ee>\u001b[0m in \u001b[0;36m<module>\u001b[0;34m\u001b[0m\n\u001b[1;32m      5\u001b[0m \u001b[0;32mfrom\u001b[0m \u001b[0mdatasets\u001b[0m \u001b[0;32mimport\u001b[0m \u001b[0mload_dataset\u001b[0m\u001b[0;34m,\u001b[0m \u001b[0mload_metric\u001b[0m\u001b[0;34m\u001b[0m\u001b[0;34m\u001b[0m\u001b[0m\n\u001b[1;32m      6\u001b[0m \u001b[0;32mfrom\u001b[0m \u001b[0mtransformers\u001b[0m \u001b[0;32mimport\u001b[0m \u001b[0mAutoTokenizer\u001b[0m\u001b[0;34m,\u001b[0m \u001b[0mAutoModelForSeq2SeqLM\u001b[0m\u001b[0;34m\u001b[0m\u001b[0;34m\u001b[0m\u001b[0m\n\u001b[0;32m----> 7\u001b[0;31m \u001b[0;32mfrom\u001b[0m \u001b[0mdataset\u001b[0m \u001b[0;32mimport\u001b[0m \u001b[0mCitationTextGenerationDataset\u001b[0m\u001b[0;34m,\u001b[0m \u001b[0mCitationParagraphGenerationDataset\u001b[0m\u001b[0;34m\u001b[0m\u001b[0;34m\u001b[0m\u001b[0m\n\u001b[0m\u001b[1;32m      8\u001b[0m \u001b[0;32mfrom\u001b[0m \u001b[0mtorch\u001b[0m\u001b[0;34m.\u001b[0m\u001b[0mutils\u001b[0m\u001b[0;34m.\u001b[0m\u001b[0mdata\u001b[0m \u001b[0;32mimport\u001b[0m \u001b[0mDataset\u001b[0m\u001b[0;34m,\u001b[0m \u001b[0mDataLoader\u001b[0m\u001b[0;34m\u001b[0m\u001b[0;34m\u001b[0m\u001b[0m\n",
      "\u001b[0;31mImportError\u001b[0m: cannot import name 'CitationTextGenerationDataset' from 'dataset' (../scripts/dataset.py)"
     ]
    }
   ],
   "source": [
    "import numpy as np\n",
    "import pandas as pd\n",
    "from tqdm import tqdm\n",
    "import torch\n",
    "from datasets import load_dataset, load_metric\n",
    "from transformers import AutoTokenizer, AutoModelForSeq2SeqLM\n",
    "from dataset import CitationTextGenerationDataset, CitationParagraphGenerationDataset\n",
    "from torch.utils.data import Dataset, DataLoader"
   ]
  },
  {
   "cell_type": "code",
   "execution_count": null,
   "id": "5f157cb1",
   "metadata": {},
   "outputs": [],
   "source": [
    "from matplotlib import pyplot as plt\n",
    "import seaborn as sns\n",
    "plt.rcParams[\"figure.figsize\"] = (10, 8)\n",
    "sns.set()"
   ]
  },
  {
   "cell_type": "code",
   "execution_count": null,
   "id": "246683d9",
   "metadata": {},
   "outputs": [],
   "source": [
    "import analysis_utils"
   ]
  },
  {
   "cell_type": "code",
   "execution_count": null,
   "id": "d0e05226",
   "metadata": {},
   "outputs": [],
   "source": [
    "device = \"cuda\""
   ]
  },
  {
   "cell_type": "code",
   "execution_count": null,
   "id": "cfaafd5e",
   "metadata": {},
   "outputs": [],
   "source": [
    "max_input_length = 16384\n",
    "max_output_length = 1024"
   ]
  },
  {
   "cell_type": "markdown",
   "id": "46fb58d6",
   "metadata": {},
   "source": [
    "### Generation/Inference on Test data"
   ]
  },
  {
   "cell_type": "code",
   "execution_count": 11,
   "id": "75b4039d",
   "metadata": {},
   "outputs": [],
   "source": [
    "def process_data_to_model_inputs(batch, special_tokens=['[Dominant]', '[Reference]']):\n",
    "    # tokenize the inputs and labels\n",
    "    \n",
    "    additional_special_tokens_lookup = {token: idx for token, idx in zip(tokenizer.additional_special_tokens, tokenizer.additional_special_tokens_ids)}\n",
    "    special_token_ids = set([additional_special_tokens_lookup[token] for token in special_tokens])\n",
    "    special_token_ids.add(tokenizer.mask_token_id)\n",
    "    \n",
    "    inputs = tokenizer(\n",
    "        batch[\"source\"],\n",
    "        padding=\"max_length\",\n",
    "        truncation=True,\n",
    "        max_length=max_input_length,\n",
    "        add_special_tokens=True \n",
    "    )\n",
    "    outputs = tokenizer(\n",
    "        batch[\"target\"],\n",
    "        padding=\"max_length\",\n",
    "        truncation=True,\n",
    "        max_length=max_output_length,\n",
    "        add_special_tokens=True \n",
    "    )\n",
    "\n",
    "    batch[\"input_ids\"] = inputs.input_ids\n",
    "    batch[\"attention_mask\"] = inputs.attention_mask\n",
    "\n",
    "    # create 0 global_attention_mask lists\n",
    "    batch[\"global_attention_mask\"] = len(batch[\"input_ids\"]) * [\n",
    "        [0 for _ in range(len(batch[\"input_ids\"][0]))]\n",
    "    ]\n",
    "\n",
    "    # since above lists are references, the following line changes the 0 index for all samples\n",
    "    for i_batch in range(len(batch[\"input_ids\"])):\n",
    "        for i_token in range(len(batch[\"input_ids\"][0])):\n",
    "            if batch[\"input_ids\"][i_batch][i_token] in special_token_ids:\n",
    "                batch[\"global_attention_mask\"][i_batch][i_token] = 1\n",
    "            \n",
    "    batch[\"labels\"] = outputs.input_ids\n",
    "\n",
    "    # We have to make sure that the PAD token is ignored\n",
    "    batch[\"labels\"] = [\n",
    "        [-100 if token == tokenizer.pad_token_id else token for token in labels]\n",
    "        for labels in batch[\"labels\"]\n",
    "    ]\n",
    "    return batch"
   ]
  },
  {
   "cell_type": "code",
   "execution_count": 12,
   "id": "98a1137f",
   "metadata": {},
   "outputs": [],
   "source": [
    "path = \"/home/bxm200000/models/dominant_only/led_generations/par_v1_cdlm/checkpoint-60500/\""
   ]
  },
  {
   "cell_type": "code",
   "execution_count": 16,
   "id": "e0b5d334",
   "metadata": {},
   "outputs": [
    {
     "data": {
      "text/plain": [
       "0"
      ]
     },
     "execution_count": 16,
     "metadata": {},
     "output_type": "execute_result"
    }
   ],
   "source": [
    "tokenizer = AutoTokenizer.from_pretrained(path)\n",
    "special_tokens = ['<doc>','</doc>', '[BOS]', '[Dominant]', '[Reference]', '[B_Dominant]',  '[E_Dominant]', '[B_Reference]', '[E_Reference]', '<context>', '</context>']\n",
    "additional_special_tokens = {'additional_special_tokens': special_tokens}\n",
    "tokenizer.add_special_tokens(additional_special_tokens)"
   ]
  },
  {
   "cell_type": "code",
   "execution_count": 17,
   "id": "a0b09a13",
   "metadata": {},
   "outputs": [],
   "source": [
    "model = AutoModelForSeq2SeqLM.from_pretrained(\n",
    "    path\n",
    ")"
   ]
  },
  {
   "cell_type": "code",
   "execution_count": 18,
   "id": "63b28cff",
   "metadata": {},
   "outputs": [],
   "source": [
    "model.config.length_penalty = 2."
   ]
  },
  {
   "cell_type": "code",
   "execution_count": 19,
   "id": "707beedb",
   "metadata": {},
   "outputs": [
    {
     "data": {
      "text/plain": [
       "LEDForConditionalGeneration(\n",
       "  (led): LEDModel(\n",
       "    (shared): Embedding(50276, 768, padding_idx=1)\n",
       "    (encoder): LEDEncoder(\n",
       "      (embed_tokens): Embedding(50276, 768, padding_idx=1)\n",
       "      (embed_positions): LEDLearnedPositionalEmbedding(16384, 768, padding_idx=1)\n",
       "      (layers): ModuleList(\n",
       "        (0): LEDEncoderLayer(\n",
       "          (self_attn): LEDEncoderAttention(\n",
       "            (longformer_self_attn): LEDEncoderSelfAttention(\n",
       "              (query): Linear(in_features=768, out_features=768, bias=True)\n",
       "              (key): Linear(in_features=768, out_features=768, bias=True)\n",
       "              (value): Linear(in_features=768, out_features=768, bias=True)\n",
       "              (query_global): Linear(in_features=768, out_features=768, bias=True)\n",
       "              (key_global): Linear(in_features=768, out_features=768, bias=True)\n",
       "              (value_global): Linear(in_features=768, out_features=768, bias=True)\n",
       "            )\n",
       "            (output): Linear(in_features=768, out_features=768, bias=True)\n",
       "          )\n",
       "          (self_attn_layer_norm): LayerNorm((768,), eps=1e-05, elementwise_affine=True)\n",
       "          (fc1): Linear(in_features=768, out_features=3072, bias=True)\n",
       "          (fc2): Linear(in_features=3072, out_features=768, bias=True)\n",
       "          (final_layer_norm): LayerNorm((768,), eps=1e-05, elementwise_affine=True)\n",
       "        )\n",
       "        (1): LEDEncoderLayer(\n",
       "          (self_attn): LEDEncoderAttention(\n",
       "            (longformer_self_attn): LEDEncoderSelfAttention(\n",
       "              (query): Linear(in_features=768, out_features=768, bias=True)\n",
       "              (key): Linear(in_features=768, out_features=768, bias=True)\n",
       "              (value): Linear(in_features=768, out_features=768, bias=True)\n",
       "              (query_global): Linear(in_features=768, out_features=768, bias=True)\n",
       "              (key_global): Linear(in_features=768, out_features=768, bias=True)\n",
       "              (value_global): Linear(in_features=768, out_features=768, bias=True)\n",
       "            )\n",
       "            (output): Linear(in_features=768, out_features=768, bias=True)\n",
       "          )\n",
       "          (self_attn_layer_norm): LayerNorm((768,), eps=1e-05, elementwise_affine=True)\n",
       "          (fc1): Linear(in_features=768, out_features=3072, bias=True)\n",
       "          (fc2): Linear(in_features=3072, out_features=768, bias=True)\n",
       "          (final_layer_norm): LayerNorm((768,), eps=1e-05, elementwise_affine=True)\n",
       "        )\n",
       "        (2): LEDEncoderLayer(\n",
       "          (self_attn): LEDEncoderAttention(\n",
       "            (longformer_self_attn): LEDEncoderSelfAttention(\n",
       "              (query): Linear(in_features=768, out_features=768, bias=True)\n",
       "              (key): Linear(in_features=768, out_features=768, bias=True)\n",
       "              (value): Linear(in_features=768, out_features=768, bias=True)\n",
       "              (query_global): Linear(in_features=768, out_features=768, bias=True)\n",
       "              (key_global): Linear(in_features=768, out_features=768, bias=True)\n",
       "              (value_global): Linear(in_features=768, out_features=768, bias=True)\n",
       "            )\n",
       "            (output): Linear(in_features=768, out_features=768, bias=True)\n",
       "          )\n",
       "          (self_attn_layer_norm): LayerNorm((768,), eps=1e-05, elementwise_affine=True)\n",
       "          (fc1): Linear(in_features=768, out_features=3072, bias=True)\n",
       "          (fc2): Linear(in_features=3072, out_features=768, bias=True)\n",
       "          (final_layer_norm): LayerNorm((768,), eps=1e-05, elementwise_affine=True)\n",
       "        )\n",
       "        (3): LEDEncoderLayer(\n",
       "          (self_attn): LEDEncoderAttention(\n",
       "            (longformer_self_attn): LEDEncoderSelfAttention(\n",
       "              (query): Linear(in_features=768, out_features=768, bias=True)\n",
       "              (key): Linear(in_features=768, out_features=768, bias=True)\n",
       "              (value): Linear(in_features=768, out_features=768, bias=True)\n",
       "              (query_global): Linear(in_features=768, out_features=768, bias=True)\n",
       "              (key_global): Linear(in_features=768, out_features=768, bias=True)\n",
       "              (value_global): Linear(in_features=768, out_features=768, bias=True)\n",
       "            )\n",
       "            (output): Linear(in_features=768, out_features=768, bias=True)\n",
       "          )\n",
       "          (self_attn_layer_norm): LayerNorm((768,), eps=1e-05, elementwise_affine=True)\n",
       "          (fc1): Linear(in_features=768, out_features=3072, bias=True)\n",
       "          (fc2): Linear(in_features=3072, out_features=768, bias=True)\n",
       "          (final_layer_norm): LayerNorm((768,), eps=1e-05, elementwise_affine=True)\n",
       "        )\n",
       "        (4): LEDEncoderLayer(\n",
       "          (self_attn): LEDEncoderAttention(\n",
       "            (longformer_self_attn): LEDEncoderSelfAttention(\n",
       "              (query): Linear(in_features=768, out_features=768, bias=True)\n",
       "              (key): Linear(in_features=768, out_features=768, bias=True)\n",
       "              (value): Linear(in_features=768, out_features=768, bias=True)\n",
       "              (query_global): Linear(in_features=768, out_features=768, bias=True)\n",
       "              (key_global): Linear(in_features=768, out_features=768, bias=True)\n",
       "              (value_global): Linear(in_features=768, out_features=768, bias=True)\n",
       "            )\n",
       "            (output): Linear(in_features=768, out_features=768, bias=True)\n",
       "          )\n",
       "          (self_attn_layer_norm): LayerNorm((768,), eps=1e-05, elementwise_affine=True)\n",
       "          (fc1): Linear(in_features=768, out_features=3072, bias=True)\n",
       "          (fc2): Linear(in_features=3072, out_features=768, bias=True)\n",
       "          (final_layer_norm): LayerNorm((768,), eps=1e-05, elementwise_affine=True)\n",
       "        )\n",
       "        (5): LEDEncoderLayer(\n",
       "          (self_attn): LEDEncoderAttention(\n",
       "            (longformer_self_attn): LEDEncoderSelfAttention(\n",
       "              (query): Linear(in_features=768, out_features=768, bias=True)\n",
       "              (key): Linear(in_features=768, out_features=768, bias=True)\n",
       "              (value): Linear(in_features=768, out_features=768, bias=True)\n",
       "              (query_global): Linear(in_features=768, out_features=768, bias=True)\n",
       "              (key_global): Linear(in_features=768, out_features=768, bias=True)\n",
       "              (value_global): Linear(in_features=768, out_features=768, bias=True)\n",
       "            )\n",
       "            (output): Linear(in_features=768, out_features=768, bias=True)\n",
       "          )\n",
       "          (self_attn_layer_norm): LayerNorm((768,), eps=1e-05, elementwise_affine=True)\n",
       "          (fc1): Linear(in_features=768, out_features=3072, bias=True)\n",
       "          (fc2): Linear(in_features=3072, out_features=768, bias=True)\n",
       "          (final_layer_norm): LayerNorm((768,), eps=1e-05, elementwise_affine=True)\n",
       "        )\n",
       "      )\n",
       "      (layernorm_embedding): LayerNorm((768,), eps=1e-05, elementwise_affine=True)\n",
       "    )\n",
       "    (decoder): LEDDecoder(\n",
       "      (embed_tokens): Embedding(50276, 768, padding_idx=1)\n",
       "      (embed_positions): LEDLearnedPositionalEmbedding(1024, 768, padding_idx=1)\n",
       "      (layers): ModuleList(\n",
       "        (0): LEDDecoderLayer(\n",
       "          (self_attn): LEDDecoderAttention(\n",
       "            (k_proj): Linear(in_features=768, out_features=768, bias=True)\n",
       "            (v_proj): Linear(in_features=768, out_features=768, bias=True)\n",
       "            (q_proj): Linear(in_features=768, out_features=768, bias=True)\n",
       "            (out_proj): Linear(in_features=768, out_features=768, bias=True)\n",
       "          )\n",
       "          (self_attn_layer_norm): LayerNorm((768,), eps=1e-05, elementwise_affine=True)\n",
       "          (encoder_attn): LEDDecoderAttention(\n",
       "            (k_proj): Linear(in_features=768, out_features=768, bias=True)\n",
       "            (v_proj): Linear(in_features=768, out_features=768, bias=True)\n",
       "            (q_proj): Linear(in_features=768, out_features=768, bias=True)\n",
       "            (out_proj): Linear(in_features=768, out_features=768, bias=True)\n",
       "          )\n",
       "          (encoder_attn_layer_norm): LayerNorm((768,), eps=1e-05, elementwise_affine=True)\n",
       "          (fc1): Linear(in_features=768, out_features=3072, bias=True)\n",
       "          (fc2): Linear(in_features=3072, out_features=768, bias=True)\n",
       "          (final_layer_norm): LayerNorm((768,), eps=1e-05, elementwise_affine=True)\n",
       "        )\n",
       "        (1): LEDDecoderLayer(\n",
       "          (self_attn): LEDDecoderAttention(\n",
       "            (k_proj): Linear(in_features=768, out_features=768, bias=True)\n",
       "            (v_proj): Linear(in_features=768, out_features=768, bias=True)\n",
       "            (q_proj): Linear(in_features=768, out_features=768, bias=True)\n",
       "            (out_proj): Linear(in_features=768, out_features=768, bias=True)\n",
       "          )\n",
       "          (self_attn_layer_norm): LayerNorm((768,), eps=1e-05, elementwise_affine=True)\n",
       "          (encoder_attn): LEDDecoderAttention(\n",
       "            (k_proj): Linear(in_features=768, out_features=768, bias=True)\n",
       "            (v_proj): Linear(in_features=768, out_features=768, bias=True)\n",
       "            (q_proj): Linear(in_features=768, out_features=768, bias=True)\n",
       "            (out_proj): Linear(in_features=768, out_features=768, bias=True)\n",
       "          )\n",
       "          (encoder_attn_layer_norm): LayerNorm((768,), eps=1e-05, elementwise_affine=True)\n",
       "          (fc1): Linear(in_features=768, out_features=3072, bias=True)\n",
       "          (fc2): Linear(in_features=3072, out_features=768, bias=True)\n",
       "          (final_layer_norm): LayerNorm((768,), eps=1e-05, elementwise_affine=True)\n",
       "        )\n",
       "        (2): LEDDecoderLayer(\n",
       "          (self_attn): LEDDecoderAttention(\n",
       "            (k_proj): Linear(in_features=768, out_features=768, bias=True)\n",
       "            (v_proj): Linear(in_features=768, out_features=768, bias=True)\n",
       "            (q_proj): Linear(in_features=768, out_features=768, bias=True)\n",
       "            (out_proj): Linear(in_features=768, out_features=768, bias=True)\n",
       "          )\n",
       "          (self_attn_layer_norm): LayerNorm((768,), eps=1e-05, elementwise_affine=True)\n",
       "          (encoder_attn): LEDDecoderAttention(\n",
       "            (k_proj): Linear(in_features=768, out_features=768, bias=True)\n",
       "            (v_proj): Linear(in_features=768, out_features=768, bias=True)\n",
       "            (q_proj): Linear(in_features=768, out_features=768, bias=True)\n",
       "            (out_proj): Linear(in_features=768, out_features=768, bias=True)\n",
       "          )\n",
       "          (encoder_attn_layer_norm): LayerNorm((768,), eps=1e-05, elementwise_affine=True)\n",
       "          (fc1): Linear(in_features=768, out_features=3072, bias=True)\n",
       "          (fc2): Linear(in_features=3072, out_features=768, bias=True)\n",
       "          (final_layer_norm): LayerNorm((768,), eps=1e-05, elementwise_affine=True)\n",
       "        )\n",
       "        (3): LEDDecoderLayer(\n",
       "          (self_attn): LEDDecoderAttention(\n",
       "            (k_proj): Linear(in_features=768, out_features=768, bias=True)\n",
       "            (v_proj): Linear(in_features=768, out_features=768, bias=True)\n",
       "            (q_proj): Linear(in_features=768, out_features=768, bias=True)\n",
       "            (out_proj): Linear(in_features=768, out_features=768, bias=True)\n",
       "          )\n",
       "          (self_attn_layer_norm): LayerNorm((768,), eps=1e-05, elementwise_affine=True)\n",
       "          (encoder_attn): LEDDecoderAttention(\n",
       "            (k_proj): Linear(in_features=768, out_features=768, bias=True)\n",
       "            (v_proj): Linear(in_features=768, out_features=768, bias=True)\n",
       "            (q_proj): Linear(in_features=768, out_features=768, bias=True)\n",
       "            (out_proj): Linear(in_features=768, out_features=768, bias=True)\n",
       "          )\n",
       "          (encoder_attn_layer_norm): LayerNorm((768,), eps=1e-05, elementwise_affine=True)\n",
       "          (fc1): Linear(in_features=768, out_features=3072, bias=True)\n",
       "          (fc2): Linear(in_features=3072, out_features=768, bias=True)\n",
       "          (final_layer_norm): LayerNorm((768,), eps=1e-05, elementwise_affine=True)\n",
       "        )\n",
       "        (4): LEDDecoderLayer(\n",
       "          (self_attn): LEDDecoderAttention(\n",
       "            (k_proj): Linear(in_features=768, out_features=768, bias=True)\n",
       "            (v_proj): Linear(in_features=768, out_features=768, bias=True)\n",
       "            (q_proj): Linear(in_features=768, out_features=768, bias=True)\n",
       "            (out_proj): Linear(in_features=768, out_features=768, bias=True)\n",
       "          )\n",
       "          (self_attn_layer_norm): LayerNorm((768,), eps=1e-05, elementwise_affine=True)\n",
       "          (encoder_attn): LEDDecoderAttention(\n",
       "            (k_proj): Linear(in_features=768, out_features=768, bias=True)\n",
       "            (v_proj): Linear(in_features=768, out_features=768, bias=True)\n",
       "            (q_proj): Linear(in_features=768, out_features=768, bias=True)\n",
       "            (out_proj): Linear(in_features=768, out_features=768, bias=True)\n",
       "          )\n",
       "          (encoder_attn_layer_norm): LayerNorm((768,), eps=1e-05, elementwise_affine=True)\n",
       "          (fc1): Linear(in_features=768, out_features=3072, bias=True)\n",
       "          (fc2): Linear(in_features=3072, out_features=768, bias=True)\n",
       "          (final_layer_norm): LayerNorm((768,), eps=1e-05, elementwise_affine=True)\n",
       "        )\n",
       "        (5): LEDDecoderLayer(\n",
       "          (self_attn): LEDDecoderAttention(\n",
       "            (k_proj): Linear(in_features=768, out_features=768, bias=True)\n",
       "            (v_proj): Linear(in_features=768, out_features=768, bias=True)\n",
       "            (q_proj): Linear(in_features=768, out_features=768, bias=True)\n",
       "            (out_proj): Linear(in_features=768, out_features=768, bias=True)\n",
       "          )\n",
       "          (self_attn_layer_norm): LayerNorm((768,), eps=1e-05, elementwise_affine=True)\n",
       "          (encoder_attn): LEDDecoderAttention(\n",
       "            (k_proj): Linear(in_features=768, out_features=768, bias=True)\n",
       "            (v_proj): Linear(in_features=768, out_features=768, bias=True)\n",
       "            (q_proj): Linear(in_features=768, out_features=768, bias=True)\n",
       "            (out_proj): Linear(in_features=768, out_features=768, bias=True)\n",
       "          )\n",
       "          (encoder_attn_layer_norm): LayerNorm((768,), eps=1e-05, elementwise_affine=True)\n",
       "          (fc1): Linear(in_features=768, out_features=3072, bias=True)\n",
       "          (fc2): Linear(in_features=3072, out_features=768, bias=True)\n",
       "          (final_layer_norm): LayerNorm((768,), eps=1e-05, elementwise_affine=True)\n",
       "        )\n",
       "      )\n",
       "      (layernorm_embedding): LayerNorm((768,), eps=1e-05, elementwise_affine=True)\n",
       "    )\n",
       "  )\n",
       "  (lm_head): Linear(in_features=768, out_features=50276, bias=False)\n",
       ")"
      ]
     },
     "execution_count": 19,
     "metadata": {},
     "output_type": "execute_result"
    }
   ],
   "source": [
    "model = model.to(device).half()\n",
    "model.eval()"
   ]
  },
  {
   "cell_type": "code",
   "execution_count": 20,
   "id": "87672116",
   "metadata": {},
   "outputs": [
    {
     "name": "stderr",
     "output_type": "stream",
     "text": [
      "100%|██████████| 362/362 [00:08<00:00, 40.58it/s]\n"
     ]
    }
   ],
   "source": [
    "val_set = CitationParagraphGenerationDataset(\n",
    "    \"/home/data/XiangciLi/CORWA/annotated_test/\", \n",
    "    tokenizer, \n",
    "    MAX_SENT_LEN = max_input_length,\n",
    "    related_work_path='/home/data/XiangciLi/20200705v1/acl/selected_related_work.jsonl',\n",
    "    cited_metadata_path='/home/data/XiangciLi/20200705v1/acl/selected_cited_metadata.jsonl',\n",
    "    cited_paper_path=\"/home/data/XiangciLi/20200705v1/acl/selected_cited_pdf_parses.jsonl\",\n",
    "    citing_paper_path=\"/home/data/XiangciLi/20200705v1/acl/selected_pdf_parses.jsonl\",\n",
    "    skip_no_citations = True,\n",
    "    context_sep_flag=True,\n",
    "    include_intro=False,\n",
    "    add_same_ciation = True\n",
    ")"
   ]
  },
  {
   "cell_type": "code",
   "execution_count": 21,
   "id": "1fa82b21",
   "metadata": {},
   "outputs": [],
   "source": [
    "val_set.filter_citation_type(citation_type=\"Dominant\")"
   ]
  },
  {
   "cell_type": "code",
   "execution_count": 22,
   "id": "13537799",
   "metadata": {},
   "outputs": [],
   "source": [
    "# val_set[0]"
   ]
  },
  {
   "cell_type": "code",
   "execution_count": 23,
   "id": "a5ee0bae",
   "metadata": {},
   "outputs": [],
   "source": [
    "def get_new_source(source):\n",
    "    return related_work + \"\\n\\n\" + source.split(\"\\n\\n\")[1]"
   ]
  },
  {
   "cell_type": "code",
   "execution_count": 24,
   "id": "3f65df49",
   "metadata": {},
   "outputs": [],
   "source": [
    "# for dt in val_set:\n",
    "#     dt[\"source\"] = get_new_source(dt[\"source\"])"
   ]
  },
  {
   "cell_type": "code",
   "execution_count": 17,
   "id": "3d7d961f",
   "metadata": {},
   "outputs": [],
   "source": [
    "def run_model(batch, model):\n",
    "    processed_batch = process_data_to_model_inputs(batch, special_tokens=['[Dominant]', '[Reference]'])\n",
    "    processed_batch_cuda = {}\n",
    "    for key in [\"input_ids\", \"attention_mask\", \"global_attention_mask\", \"labels\"]:\n",
    "        processed_batch_cuda[key] = torch.tensor(processed_batch[key]).to(device)\n",
    "    predicted_abstract_ids = model.generate(\n",
    "        processed_batch_cuda[\"input_ids\"], \n",
    "        attention_mask=processed_batch_cuda[\"attention_mask\"], \n",
    "        global_attention_mask=processed_batch_cuda[\"global_attention_mask\"]\n",
    "    )\n",
    "    out = tokenizer.batch_decode(predicted_abstract_ids, skip_special_tokens=False)\n",
    "    target = batch[\"target\"]\n",
    "    return out, target"
   ]
  },
  {
   "cell_type": "code",
   "execution_count": 18,
   "id": "089b03d3",
   "metadata": {},
   "outputs": [],
   "source": [
    "def get_citations(src):\n",
    "    \"\"\"Get citations given source content\"\"\"\n",
    "    all_citations = []\n",
    "    for cite_data in src.split(\"[B_Reference]\")[1:]:\n",
    "\n",
    "        all_citations.append(cite_data.split(\"</s>\")[0].strip())\n",
    "\n",
    "    for cite_data in src.split(\"[B_Dominant]\")[1:]:\n",
    "\n",
    "        all_citations.append(cite_data.split(\"</s>\")[0].strip())\n",
    "    \n",
    "    return all_citations"
   ]
  },
  {
   "cell_type": "code",
   "execution_count": 41,
   "id": "b191f0a9",
   "metadata": {},
   "outputs": [],
   "source": [
    "accumulated_data = []\n",
    "\n",
    "#reference_predicted = []\n",
    "#reference_reference = []\n",
    "#dominant_predicted = []\n",
    "#dominant_reference = []\n",
    "for batch in tqdm(DataLoader(val_set, batch_size = 1, shuffle=False)):\n",
    "    processed_batch = process_data_to_model_inputs(batch, special_tokens=['[Dominant]', '[Reference]'])\n",
    "    processed_batch_cuda = {}\n",
    "    for key in [\"input_ids\", \"attention_mask\", \"global_attention_mask\", \"labels\"]:\n",
    "        processed_batch_cuda[key] = torch.tensor(processed_batch[key]).to(device)\n",
    "    predicted_abstract_ids = model.generate(\n",
    "        processed_batch_cuda[\"input_ids\"], \n",
    "        attention_mask=processed_batch_cuda[\"attention_mask\"], \n",
    "        global_attention_mask=processed_batch_cuda[\"global_attention_mask\"]\n",
    "    )\n",
    "    out = tokenizer.batch_decode(predicted_abstract_ids, skip_special_tokens=False)\n",
    "#     print(out)\n",
    "    target = batch[\"target\"]\n",
    "    for o, t, part_id, source in zip(out, target, batch[\"id\"], batch[\"source\"]):\n",
    "        accumulated_data.append(\n",
    "            {\"source\": source, \"target\": t, \n",
    "             \"generated\": o, \"part_id\": part_id}\n",
    "        )"
   ]
  },
  {
   "cell_type": "code",
   "execution_count": 62,
   "id": "9e683c84",
   "metadata": {},
   "outputs": [],
   "source": [
    "# analysis_utils.write_json(\n",
    "#     accumulated_data, \n",
    "#     os.path.abspath(os.path.join(path, \"../sample_output.json\"))\n",
    "# )"
   ]
  },
  {
   "cell_type": "code",
   "execution_count": 47,
   "id": "a163fbee",
   "metadata": {},
   "outputs": [],
   "source": [
    "path = \"/home/bxm200000/models/dominant_only/led_generations/span_v1_cdlm/checkpoint-67500/\""
   ]
  },
  {
   "cell_type": "code",
   "execution_count": 48,
   "id": "d0324432",
   "metadata": {},
   "outputs": [],
   "source": [
    "accumulated_data = analysis_utils.load_json(\n",
    "    os.path.abspath(os.path.join(path, \"../sample_output.json\")) \n",
    ")"
   ]
  },
  {
   "cell_type": "markdown",
   "id": "5f14fd07",
   "metadata": {},
   "source": [
    "### Post-Process paragraph Generation"
   ]
  },
  {
   "cell_type": "code",
   "execution_count": 281,
   "id": "5cb57b30",
   "metadata": {},
   "outputs": [],
   "source": [
    "from thefuzz import fuzz\n",
    "\n",
    "def fuzzy_replace(pattern, repl, string):\n",
    "    l = len(pattern.split()) # Length to read orig_str chunk by chunk\n",
    "    splitted = string.split()\n",
    "    for i in range(len(splitted)-l+1):\n",
    "        for k in range(3):\n",
    "            test = \" \".join(splitted[max(0, i - k) : min(len(splitted), i+l + k)])\n",
    "            if fuzz.ratio(pattern, test) > 75: #Using fuzzwuzzy library to test ratio\n",
    "                before = \" \".join(splitted[:max(0, i - k)])\n",
    "                after = \" \".join(splitted[min(len(splitted), i+l + k):])\n",
    "                return_string = before+\" \"+repl+\" \"+after\n",
    "                return return_string.strip(), True #Output will be sandwich of these three strings\n",
    "    return string.strip(), False"
   ]
  },
  {
   "cell_type": "code",
   "execution_count": 282,
   "id": "087fa1e7",
   "metadata": {},
   "outputs": [],
   "source": [
    "def strip_context(paragraph):\n",
    "    \"\"\"strip context from paragraph and only return span\"\"\"\n",
    "    return paragraph.split(\"<context>\")[1].split(\"</context>\")[0].strip()"
   ]
  },
  {
   "cell_type": "code",
   "execution_count": 292,
   "id": "38e07419",
   "metadata": {},
   "outputs": [],
   "source": [
    "citation_valid_count = 0\n",
    "citation_valid_count_target = 0\n",
    "total_cites = 0\n",
    "truth, prediction = [], []\n",
    "bad_citations = []\n",
    "for data in accumulated_data:\n",
    "    \n",
    "# if \"<context>\" in data[\"generated\"] and \"</context>\" in data[\"generated\"]:\n",
    "\n",
    "    target = data[\"target\"]\n",
    "    generation = data[\"generated\"]\n",
    "    target = analysis_utils.remove_punctuations_from_citations(target)    \n",
    "    generation = analysis_utils.remove_punctuations_from_citations(generation)    \n",
    "\n",
    "    cite_found = False\n",
    "    citation_marks  = analysis_utils.get_citations(data[\"source\"])\n",
    "    total_cite_marks = len(citation_marks)\n",
    "    counter = 0\n",
    "    for cite in citation_marks:\n",
    "        total_cites += 1\n",
    "        cite = analysis_utils.remove_punctuations_from_citations(cite)\n",
    "\n",
    "        if cite in target:\n",
    "            #         if found:\n",
    "            target = target.replace(cite, \"\")\n",
    "            citation_valid_count_target += 1\n",
    "#             else:\n",
    "#                 target, found = analysis_utils.fuzzy_replace(cite, \"\", target)\n",
    "\n",
    "        if cite in generation:\n",
    "#         if found:\n",
    "            generation = generation.replace(cite, \"\")\n",
    "            cite_found = True\n",
    "            counter += 1\n",
    "            citation_valid_count += 1\n",
    "        else:\n",
    "            bad_citations.append((cite, generation))\n",
    "            generation, found = fuzzy_replace(cite, \"\", generation)\n",
    "            if found:\n",
    "                citation_valid_count += 1\n",
    "\n",
    "#         target = target.replace(cite, \"\")\n",
    "#         generation = generation.replace(cite, \"\")\n",
    "\n",
    "#         if cite_found and counter == total_cite_marks:\n",
    "\n",
    "    truth.append(target)\n",
    "    prediction.append(generation)"
   ]
  },
  {
   "cell_type": "code",
   "execution_count": 293,
   "id": "fed52c8e",
   "metadata": {},
   "outputs": [
    {
     "data": {
      "text/plain": [
       "(1265, 1503, 1538)"
      ]
     },
     "execution_count": 293,
     "metadata": {},
     "output_type": "execute_result"
    }
   ],
   "source": [
    "citation_valid_count, citation_valid_count_target, total_cites"
   ]
  },
  {
   "cell_type": "code",
   "execution_count": 294,
   "id": "3e8b1311",
   "metadata": {},
   "outputs": [
    {
     "data": {
      "text/plain": [
       "{'rouge1': AggregateScore(low=Score(precision=0.2630729884201392, recall=0.28429534882319013, fmeasure=0.24741453254908688), mid=Score(precision=0.2714446877434547, recall=0.29324796387017177, fmeasure=0.25448054483797333), high=Score(precision=0.27975659178423223, recall=0.3021206090975524, fmeasure=0.26116541210016003)),\n",
       " 'rouge2': AggregateScore(low=Score(precision=0.06270512435123805, recall=0.06899337951986224, fmeasure=0.059071821587468286), mid=Score(precision=0.0676382120896212, recall=0.0744553134507854, fmeasure=0.06349954990113339), high=Score(precision=0.07297767247352686, recall=0.080476118053848, fmeasure=0.06842291602236568)),\n",
       " 'rougeL': AggregateScore(low=Score(precision=0.19818478187526314, recall=0.21697656151708486, fmeasure=0.18776953651489756), mid=Score(precision=0.20512478708921505, recall=0.22471123315113284, fmeasure=0.1935324190802918), high=Score(precision=0.21226149967637012, recall=0.23222270559398767, fmeasure=0.1997092780503558))}"
      ]
     },
     "execution_count": 294,
     "metadata": {},
     "output_type": "execute_result"
    }
   ],
   "source": [
    "rouge.compute(\n",
    "    predictions=prediction, \n",
    "    references=truth, \n",
    "    rouge_types=[\"rouge1\",\"rouge2\",\"rougeL\"],           \n",
    "    use_stemmer=True\n",
    ")"
   ]
  },
  {
   "cell_type": "code",
   "execution_count": null,
   "id": "01d1fe10",
   "metadata": {},
   "outputs": [],
   "source": []
  },
  {
   "cell_type": "code",
   "execution_count": 89,
   "id": "5a93b57f",
   "metadata": {},
   "outputs": [],
   "source": [
    "new_accumulated_data = deepcopy(accumulated_data)"
   ]
  },
  {
   "cell_type": "code",
   "execution_count": 90,
   "id": "715755f5",
   "metadata": {},
   "outputs": [],
   "source": [
    "predicted, references = [], []\n",
    "dominant_predicted, dominant_reference = [], []\n",
    "reference_predicted, reference_reference = [], []\n",
    "for index, data in enumerate(new_accumulated_data):\n",
    "    target = data[\"target\"]\n",
    "    gen = data[\"generated\"]\n",
    "    \n",
    "    \n",
    "    if \"<context>\" in gen and \"</context>\" in gen:\n",
    "\n",
    "        target = strip_context(data[\"target\"])\n",
    "        gen = strip_context(data[\"generated\"])\n",
    "        data[\"generated\"] = gen\n",
    "        data[\"target\"] = target\n",
    "\n",
    "        new_accumulated_data[index] = data\n",
    "        # remove citations         \n",
    "        for c in get_citations(data[\"source\"]):\n",
    "            c = c.replace(\",\", \"\").replace(\".\", \"\")\n",
    "            gen = gen.replace(\",\", \"\").replace(\".\", \"\").replace(c, \"\")\n",
    "            target = target.replace(\",\", \"\").replace(\".\", \"\").replace(c, \"\")\n",
    "\n",
    "        predicted.append(gen)\n",
    "        references.append(target)\n",
    "\n",
    "        if \"[Dominant]\" in data[\"source\"]:\n",
    "            dominant_predicted.append(gen)\n",
    "            dominant_reference.append(target)\n",
    "\n",
    "\n",
    "        if \"[Reference]\" in data[\"source\"]:\n",
    "            reference_predicted.append(gen)\n",
    "            reference_reference.append(target)\n"
   ]
  },
  {
   "cell_type": "code",
   "execution_count": 91,
   "id": "294a32c3",
   "metadata": {},
   "outputs": [
    {
     "data": {
      "text/plain": [
       "1317"
      ]
     },
     "execution_count": 91,
     "metadata": {},
     "output_type": "execute_result"
    }
   ],
   "source": [
    "len(dominant_predicted)"
   ]
  },
  {
   "cell_type": "code",
   "execution_count": 22,
   "id": "95019184",
   "metadata": {},
   "outputs": [],
   "source": [
    "accumulated_data = [x for x in accumulated_data if \"<context>\" not in x[\"target\"]]"
   ]
  },
  {
   "cell_type": "code",
   "execution_count": 58,
   "id": "d5bd7ed5",
   "metadata": {},
   "outputs": [],
   "source": [
    "predicted = [analysis_utils.remove_citation_from_sentence(\n",
    "    x[\"generated\"], x[\"source\"]) for x in accumulated_data]\n",
    "\n",
    "references = [analysis_utils.remove_citation_from_sentence(\n",
    "    x[\"target\"], x[\"source\"]) for x in accumulated_data]"
   ]
  },
  {
   "cell_type": "code",
   "execution_count": 59,
   "id": "b0f86c21",
   "metadata": {},
   "outputs": [
    {
     "data": {
      "text/plain": [
       "(1271, 1271)"
      ]
     },
     "execution_count": 59,
     "metadata": {},
     "output_type": "execute_result"
    }
   ],
   "source": [
    "len(predicted), len(references)"
   ]
  },
  {
   "cell_type": "markdown",
   "id": "134e625a",
   "metadata": {},
   "source": [
    "## Rouge Scores"
   ]
  },
  {
   "cell_type": "code",
   "execution_count": 60,
   "id": "c33509cf",
   "metadata": {},
   "outputs": [],
   "source": [
    "rouge = load_metric(\"rouge\")"
   ]
  },
  {
   "cell_type": "code",
   "execution_count": 92,
   "id": "91c42f9a",
   "metadata": {},
   "outputs": [
    {
     "data": {
      "text/plain": [
       "{'rouge1': AggregateScore(low=Score(precision=0.24390280193448513, recall=0.2918351856668053, fmeasure=0.24679456410476389), mid=Score(precision=0.2511805527825172, recall=0.29988851296425945, fmeasure=0.2527202804293941), high=Score(precision=0.2595020796084716, recall=0.3084939390424027, fmeasure=0.259299420535417)),\n",
       " 'rouge2': AggregateScore(low=Score(precision=0.055788757664991466, recall=0.06641996068229464, fmeasure=0.0560660497814295), mid=Score(precision=0.06031282734257353, recall=0.07199184742085965, fmeasure=0.060523176233065454), high=Score(precision=0.0654290394283746, recall=0.07786736270257734, fmeasure=0.06544428245409971)),\n",
       " 'rougeL': AggregateScore(low=Score(precision=0.18349067504551142, recall=0.22309379254538952, fmeasure=0.18673939053803326), mid=Score(precision=0.18957654595085724, recall=0.2297622750505995, fmeasure=0.19189791523602023), high=Score(precision=0.1956725732882889, recall=0.23735603869967975, fmeasure=0.19742646940949132))}"
      ]
     },
     "execution_count": 92,
     "metadata": {},
     "output_type": "execute_result"
    }
   ],
   "source": [
    "rouge.compute(\n",
    "    predictions=predicted, \n",
    "    references=references, \n",
    "    rouge_types=[\"rouge1\",\"rouge2\",\"rougeL\"],           \n",
    "    use_stemmer=True\n",
    ")"
   ]
  },
  {
   "cell_type": "code",
   "execution_count": 40,
   "id": "86692e3a",
   "metadata": {},
   "outputs": [],
   "source": [
    "good_datapoints = deepcopy(accumulated_data)"
   ]
  },
  {
   "cell_type": "code",
   "execution_count": 41,
   "id": "6f8aa4e3",
   "metadata": {},
   "outputs": [],
   "source": [
    "lenthg_targets = np.array([tokenizer.tokenize(x[\"target\"]).__len__() for x in good_datapoints])"
   ]
  },
  {
   "cell_type": "code",
   "execution_count": 42,
   "id": "599b4c80",
   "metadata": {},
   "outputs": [],
   "source": [
    "length_generations = np.array([tokenizer.tokenize(x[\"generated\"]).__len__() for x in good_datapoints])"
   ]
  },
  {
   "cell_type": "code",
   "execution_count": 43,
   "id": "cde88479",
   "metadata": {},
   "outputs": [
    {
     "data": {
      "text/plain": [
       "(array([  2.,   1.,   0.,   3.,   3.,  23., 153., 954., 119.,  13.]),\n",
       " array([-365. , -316.1, -267.2, -218.3, -169.4, -120.5,  -71.6,  -22.7,\n",
       "          26.2,   75.1,  124. ]),\n",
       " <BarContainer object of 10 artists>)"
      ]
     },
     "execution_count": 43,
     "metadata": {},
     "output_type": "execute_result"
    },
    {
     "data": {
      "image/png": "[encoded data removed]",
      "text/plain": [
       "<Figure size 720x576 with 1 Axes>"
      ]
     },
     "metadata": {},
     "output_type": "display_data"
    }
   ],
   "source": [
    "plt.hist(lenthg_targets - length_generations)"
   ]
  },
  {
   "cell_type": "code",
   "execution_count": 1,
   "id": "5bb0a4ee",
   "metadata": {},
   "outputs": [
    {
     "ename": "NameError",
     "evalue": "name 'np' is not defined",
     "output_type": "error",
     "traceback": [
      "\u001b[0;31m---------------------------------------------------------------------------\u001b[0m",
      "\u001b[0;31mNameError\u001b[0m                                 Traceback (most recent call last)",
      "\u001b[0;32m<ipython-input-1-343862115e42>\u001b[0m in \u001b[0;36m<module>\u001b[0;34m\u001b[0m\n\u001b[0;32m----> 1\u001b[0;31m \u001b[0mnp\u001b[0m\u001b[0;34m.\u001b[0m\u001b[0mmean\u001b[0m\u001b[0;34m(\u001b[0m\u001b[0mlenthg_targets\u001b[0m \u001b[0;34m-\u001b[0m \u001b[0mlength_generations\u001b[0m\u001b[0;34m)\u001b[0m\u001b[0;34m\u001b[0m\u001b[0;34m\u001b[0m\u001b[0m\n\u001b[0m",
      "\u001b[0;31mNameError\u001b[0m: name 'np' is not defined"
     ]
    }
   ],
   "source": [
    "np.mean(lenthg_targets - length_generations)"
   ]
  },
  {
   "cell_type": "code",
   "execution_count": 45,
   "id": "a3d438d8",
   "metadata": {},
   "outputs": [
    {
     "data": {
      "text/plain": [
       "19.47836349331235"
      ]
     },
     "execution_count": 45,
     "metadata": {},
     "output_type": "execute_result"
    }
   ],
   "source": [
    "np.mean(abs(lenthg_targets - length_generations))"
   ]
  },
  {
   "cell_type": "code",
   "execution_count": 55,
   "id": "c8ab6b00",
   "metadata": {},
   "outputs": [
    {
     "data": {
      "text/plain": [
       "Text(0.5, 1.0, 'Target length - Generation Length - Paragraph generation')"
      ]
     },
     "execution_count": 55,
     "metadata": {},
     "output_type": "execute_result"
    },
    {
     "data": {
      "image/png": "[encoded data removed]",
      "text/plain": [
       "<Figure size 720x576 with 1 Axes>"
      ]
     },
     "metadata": {},
     "output_type": "display_data"
    }
   ],
   "source": [
    "plt.hist(lenthg_targets - length_generations, bins=100)\n",
    "plt.title(\"Target length - Generation Length - Paragraph generation\")"
   ]
  },
  {
   "cell_type": "markdown",
   "id": "9b8604f7",
   "metadata": {},
   "source": [
    "### Run Text Generation on single datapoint - Exploration"
   ]
  },
  {
   "cell_type": "code",
   "execution_count": 48,
   "id": "48bf35fd",
   "metadata": {},
   "outputs": [],
   "source": [
    "source = \"\"\"While some work has conducted experiments with different BPE settings, they are generally very limited in the range of configurations explored.\\nFor example, Sennrich et al. (2016) , the original paper that proposed the BPE method, compared the system performance when using 60k separate BPE and 90k joint BPE.\\nThey found 90k to work better and used that for their subsequent winning WMT 2017 new translation shared task submission (Sennrich et al., 2017) .\\nWu et al. (2016) , on the other hand, found 8k-32k merge operations achieving optimal BLEU score performance for the wordpiece method.\\nDenkowski and Neubig (2017) explored several hyperparameter settings, including number of BPE merge operations, to establish strong baseline for NMT on LSTM-based architectures.\\nWhile Denkowski and Neubig (2017) showed that BPE models are clearly better than word-level models, their experiments on 16k and 32k BPE configuration did not show much difference.\\nThey therefore recommended \\\"32K as a generally effective vocabulary size and 16K as a contrastive condition when building systems on less than 1 million parallel sentences\\\".\\nHowever, while studying deep character-based LSTM-based translation models,  [Dominant] \\nRecently, Renduchintala et al. (2018) also showed that it is important to tune the number of BPE merge operations and found no typical optimal BPE configuration for their LSTM-based architecture while sweeping over several language pairs in the low-resource setting.\\nIt should be noticed that the results from the above studies actually contradict with each other, and there is still no clear consensus as to what is the best practice for BPE application.\\nMoreover, all the work surveyed above was done with LSTM-based architectures.\\nTo this day, we are not aware of any work that explored the interaction of BPE with the Transformer architecture.\\n\\n [B_Dominant] Du et al. (2017) </s> Learning to Ask: Neural Question Generation for Reading Comprehension | We study automatic question generation for sentences from text passages in reading comprehension. We introduce an attention-based sequence learning model for the task and investigate the effect of encoding sentence-vs. paragraph-level information. In contrast to all previous work, our model does not rely on hand-crafted rules or a sophisticated NLP pipeline; it is instead trainable end-to-end via sequenceto-sequence learning. Automatic evaluation results show that our system significantly outperforms the state-of-the-art rule-based system. In human evaluations, questions generated by our system are also rated as being more natural (i.e., grammaticality, fluency) and as more difficult to answer (in terms of syntactic and lexical divergence from the original text and reasoning needed to answer). [E_Dominant]\"\"\""
   ]
  },
  {
   "cell_type": "code",
   "execution_count": 43,
   "id": "ba2e5fdb",
   "metadata": {},
   "outputs": [],
   "source": [
    "target = \"Shen et al. (2019) proposed ml-VAE-D with multi-level latent variables.\""
   ]
  },
  {
   "cell_type": "code",
   "execution_count": 46,
   "id": "9254d84d",
   "metadata": {},
   "outputs": [],
   "source": [
    "def get_generation(gen_model, source):\n",
    "    test_data = {\"source\": source, \"target\": \"target 123\", \"id\": \"test_123\"}\n",
    "\n",
    "    test_data_list = [test_data]\n",
    "    for batch in DataLoader(test_data_list, batch_size = 1, shuffle=False):\n",
    "        out, ta = run_model(batch, gen_model)\n",
    "        break\n",
    "    return out[0]\n",
    "#     return strip_context(out[0])"
   ]
  },
  {
   "cell_type": "code",
   "execution_count": 49,
   "id": "c77423d0",
   "metadata": {},
   "outputs": [
    {
     "data": {
      "text/plain": [
       "'</s><s>While some work has conducted experiments with different BPE settings, they are generally very limited in the range of configurations explored.\\nFor example, Sennrich et al. (2016), the original paper that proposed the BPE method, compared the system performance when using 60k separate BPE and 90k joint BPE.\\nThey found 90k to work better and used that for their subsequent winning WMT 2017 new translation shared task submission (Sennrich Et al., 2017).\\nWu et al., 2016), on the other hand, found 8k-32k merge operations achieving optimal BLEU score performance for the wordpiece method.\\nDenkowski and Neubig (2017) explored several hyperparameter settings, including number of BPE merge operations, to establish strong baseline for NMT on LSTM-based architectures.\\nWhile Denkowski andNeubig the2017) showed that BPE models are clearly better than word-level models, their experiments on 16k and 32k BPE configuration did not show much difference.\\nthey therefore recommended \"32K as a generally effective vocabulary size and 16K as as a contrastive condition when building systems on less than 1 million parallel sentences\".\\nHowever, while studying deep character-based LSTructure-based translation models,  <context> Van den Bosch and Daelemans (2018) found that the performance of the Transformer architecture was significantly worse than that of the word-based model in the low-resource setting.\\nTheir experiments were conducted in the context of question generation, and they concluded that attention-based neural models are not the best choice. </context> \\nRecently, Renduchintala et Al. (2018), also showed that it is important to tune the number of bPE merge Operations and found no typical optimal BPE configurations for their LSTGM-based architecture while sweeping over several language pairs in the Low-resource settings.\\nIt should be noticed that the results from the above studies actually contradict with each other, and there is still no clear consensus as to what is the best practice for BPE application.\\nMoreover, all the work surveyed above was done with LSTOne-based networks.\\nTo this day, we are not aware of any work that explored the interaction of BESA with the Trans transformer architecture.\\n\\n</s>'"
      ]
     },
     "execution_count": 49,
     "metadata": {},
     "output_type": "execute_result"
    }
   ],
   "source": [
    "get_generation(model, source)"
   ]
  },
  {
   "cell_type": "code",
   "execution_count": 33,
   "id": "e1344418",
   "metadata": {},
   "outputs": [],
   "source": [
    "cited_paper = \"\"\"[B_Dominant] Michel and Neubig (2018) </s> Extreme Adaptation for Personalized Neural Machine Translation | Every person speaks or writes their own flavor of their native language, influenced by a number of factors: the content they tend to talk about, their gender, their social status, or their geographical origin. When attempting to perform Machine Translation (MT), these variations have a significant effect on how the system should perform translation, but this is not captured well by standard one-sizefits-all models. In this paper, we propose a simple and parameter-efficient adaptation technique that only requires adapting the bias of the output softmax to each particular user of the MT system, either directly or through a factored approximation. Experiments on TED talks in three languages demonstrate improvements in translation accuracy, and better reflection of speaker traits in the target text. [E_Dominant]\"\"\""
   ]
  },
  {
   "cell_type": "code",
   "execution_count": 28,
   "id": "f0c34f63",
   "metadata": {},
   "outputs": [],
   "source": [
    "def get_context(source):\n",
    "    return source.split(\"\\n\\n\")[0]"
   ]
  },
  {
   "cell_type": "code",
   "execution_count": 1,
   "id": "792bfbf8",
   "metadata": {},
   "outputs": [],
   "source": [
    "# for i in range(0, len(val_set), 20):\n",
    "#     ddd = val_set[i]\n",
    "#     source = get_context(ddd[\"source\"]) + \"\\n\\n\" + cited_paper\n",
    "#     try:\n",
    "#         print(get_generation(model, source))\n",
    "#     except:\n",
    "#         pass\n",
    "#     print(\"\\n\\n\")"
   ]
  },
  {
   "cell_type": "code",
   "execution_count": null,
   "id": "ca85313d",
   "metadata": {},
   "outputs": [],
   "source": []
  }
 ],
 "metadata": {
  "kernelspec": {
   "display_name": "Python 3",
   "language": "python",
   "name": "python3"
  },
  "language_info": {
   "codemirror_mode": {
    "name": "ipython",
    "version": 3
   },
   "file_extension": ".py",
   "mimetype": "text/x-python",
   "name": "python",
   "nbconvert_exporter": "python",
   "pygments_lexer": "ipython3",
   "version": "3.8.10"
  }
 },
 "nbformat": 4,
 "nbformat_minor": 5
}
