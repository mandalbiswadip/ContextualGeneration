{
 "cells": [
  {
   "cell_type": "code",
   "execution_count": 1,
   "id": "c4efa135",
   "metadata": {},
   "outputs": [],
   "source": [
    "%load_ext autoreload\n",
    "%autoreload 2"
   ]
  },
  {
   "cell_type": "code",
   "execution_count": 2,
   "id": "8345bded",
   "metadata": {},
   "outputs": [],
   "source": [
    "import sys\n",
    "import os"
   ]
  },
  {
   "cell_type": "code",
   "execution_count": 3,
   "id": "73ea6325",
   "metadata": {},
   "outputs": [],
   "source": [
    "import inspect"
   ]
  },
  {
   "cell_type": "code",
   "execution_count": 4,
   "id": "29711aec",
   "metadata": {},
   "outputs": [],
   "source": [
    "sys.path.append(\"../scripts/\")"
   ]
  },
  {
   "cell_type": "code",
   "execution_count": 5,
   "id": "570952d5",
   "metadata": {},
   "outputs": [],
   "source": [
    "import json\n",
    "from copy import deepcopy"
   ]
  },
  {
   "cell_type": "code",
   "execution_count": 6,
   "id": "23bd9350",
   "metadata": {},
   "outputs": [],
   "source": [
    "import os\n",
    "os.environ[\"CUDA_DEVICE_ORDER\"]=\"PCI_BUS_ID\"   # see issue #152\n",
    "os.environ[\"CUDA_VISIBLE_DEVICES\"]=\"2\""
   ]
  },
  {
   "cell_type": "code",
   "execution_count": 7,
   "id": "7a0681a9",
   "metadata": {},
   "outputs": [],
   "source": [
    "from datasets import Dataset as HuggingfaceDataset"
   ]
  },
  {
   "cell_type": "code",
   "execution_count": 8,
   "id": "c24c1d58",
   "metadata": {},
   "outputs": [],
   "source": [
    "import numpy as np\n",
    "import matplotlib.pyplot as plt\n",
    "import seaborn as sns\n",
    "sns.set()\n",
    "plt.rcParams[\"figure.figsize\"] = (10, 8)"
   ]
  },
  {
   "cell_type": "code",
   "execution_count": 9,
   "id": "18f7e626",
   "metadata": {},
   "outputs": [],
   "source": [
    "from transformers import Seq2SeqTrainer"
   ]
  },
  {
   "cell_type": "code",
   "execution_count": 10,
   "id": "11f88756",
   "metadata": {},
   "outputs": [],
   "source": [
    "from sinusoidal_positional_embedding_new import SinusoidalPositionalEmbedding"
   ]
  },
  {
   "cell_type": "code",
   "execution_count": 11,
   "id": "1453cfe9",
   "metadata": {},
   "outputs": [],
   "source": [
    "from tqdm import tqdm\n",
    "from collections import defaultdict\n",
    "import torch\n",
    "import transformers\n",
    "from torch.nn import CrossEntropyLoss, MSELoss\n",
    "from datasets import load_dataset, load_metric\n",
    "from transformers import AutoTokenizer, AutoModelForSeq2SeqLM\n",
    "from dataset import (CitationTextGenerationDataset, \n",
    "                     CitationParagraphGenerationDatasetOld, \n",
    "                     CitationParagraphGenerationDataset,\n",
    "                     CitationContextSpanSeparateDataset\n",
    "                    )\n",
    "from torch.utils.data import Dataset, DataLoader\n",
    "from sklearn.metrics import accuracy_score, confusion_matrix, classification_report"
   ]
  },
  {
   "cell_type": "code",
   "execution_count": 13,
   "id": "ab5594cf",
   "metadata": {},
   "outputs": [],
   "source": [
    "import analysis_utils\n",
    "from modelling_led_multitask import (\n",
    "    LEDForConditionalGenerationAddContextLength as LEDForConditionalGeneration\n",
    ")"
   ]
  },
  {
   "cell_type": "code",
   "execution_count": 14,
   "id": "d0e05226",
   "metadata": {},
   "outputs": [],
   "source": [
    "device = \"cuda\""
   ]
  },
  {
   "cell_type": "code",
   "execution_count": 15,
   "id": "cfaafd5e",
   "metadata": {},
   "outputs": [],
   "source": [
    "max_input_length = 16384\n",
    "max_output_length = 1024"
   ]
  },
  {
   "cell_type": "code",
   "execution_count": 16,
   "id": "75b4039d",
   "metadata": {},
   "outputs": [],
   "source": [
    "def process_data_to_model_inputs(batch, special_tokens=None, length=None, classification=False):\n",
    "    # tokenize the inputs and labels\n",
    "    if special_tokens is None:\n",
    "        special_tokens = ['[Dominant]', '[Reference]']\n",
    "    \n",
    "    additional_special_tokens_lookup = {token: idx for token, idx in zip(tokenizer.additional_special_tokens, tokenizer.additional_special_tokens_ids)}\n",
    "    special_token_ids = set([additional_special_tokens_lookup[token] for token in special_tokens])\n",
    "    special_token_ids.add(tokenizer.mask_token_id)\n",
    "    \n",
    "    inputs = tokenizer(\n",
    "        batch[\"source\"],\n",
    "        padding=\"max_length\",\n",
    "        truncation=True,\n",
    "        max_length=max_input_length,\n",
    "        add_special_tokens=True \n",
    "    )\n",
    "    outputs = tokenizer(\n",
    "        batch[\"target\"],\n",
    "        padding=\"max_length\",\n",
    "        truncation=True,\n",
    "        max_length=max_output_length,\n",
    "        add_special_tokens=True \n",
    "    )\n",
    "    if length:\n",
    "        batch[\"length\"] = length\n",
    "    else:\n",
    "        span_outputs = tokenizer(\n",
    "            batch[\"span_target\"],\n",
    "            padding=\"max_length\",\n",
    "            truncation=True,\n",
    "            max_length=max_output_length,\n",
    "            add_special_tokens=True \n",
    "        )\n",
    "\n",
    "        batch[\"length\"] = [sum(x) for x in span_outputs.attention_mask]\n",
    "\n",
    "\n",
    "    batch[\"input_ids\"] = inputs.input_ids\n",
    "    batch[\"attention_mask\"] = inputs.attention_mask\n",
    "\n",
    "    # create 0 global_attention_mask lists\n",
    "    batch[\"global_attention_mask\"] = len(batch[\"input_ids\"]) * [\n",
    "        [0 for _ in range(len(batch[\"input_ids\"][0]))]\n",
    "    ]\n",
    "\n",
    "    # since above lists are references, the following line changes the 0 index for all samples\n",
    "    for i_batch in range(len(batch[\"input_ids\"])):\n",
    "        for i_token in range(len(batch[\"input_ids\"][0])):\n",
    "            if batch[\"input_ids\"][i_batch][i_token] in special_token_ids:\n",
    "                batch[\"global_attention_mask\"][i_batch][i_token] = 1\n",
    "    \n",
    "    # setting [CLS] token as global attention token for classification\n",
    "    if classification:\n",
    "        batch[\"global_attention_mask\"][i_batch][0] = 1\n",
    "            \n",
    "    batch[\"labels\"] = outputs.input_ids\n",
    "\n",
    "    # We have to make sure that the PAD token is ignored\n",
    "    batch[\"labels\"] = [\n",
    "        [-100 if token == tokenizer.pad_token_id else token for token in labels]\n",
    "        for labels in batch[\"labels\"]\n",
    "    ]\n",
    "    return batch"
   ]
  },
  {
   "cell_type": "code",
   "execution_count": 22,
   "id": "98a1137f",
   "metadata": {},
   "outputs": [],
   "source": [
    "path = \"/home/bxm200000/models/dominant_only/length_control/para_cdlm_v1_add_context_length_perturb/checkpoint-36500/\""
   ]
  },
  {
   "cell_type": "code",
   "execution_count": 23,
   "id": "e0b5d334",
   "metadata": {},
   "outputs": [
    {
     "data": {
      "text/plain": [
       "0"
      ]
     },
     "execution_count": 23,
     "metadata": {},
     "output_type": "execute_result"
    }
   ],
   "source": [
    "tokenizer = AutoTokenizer.from_pretrained(path)\n",
    "special_tokens = ['<doc>','</doc>', '[BOS]', '[Dominant]', '[Reference]', '[B_Dominant]',  '[E_Dominant]', '[B_Reference]', '[E_Reference]', '<context>', '</context>']\n",
    "additional_special_tokens = {'additional_special_tokens': special_tokens}\n",
    "tokenizer.add_special_tokens(additional_special_tokens)"
   ]
  },
  {
   "cell_type": "code",
   "execution_count": 24,
   "id": "40df09fe",
   "metadata": {},
   "outputs": [],
   "source": [
    "model = LEDForConditionalGeneration.from_pretrained(\n",
    "    path\n",
    ")"
   ]
  },
  {
   "cell_type": "code",
   "execution_count": 25,
   "id": "707beedb",
   "metadata": {},
   "outputs": [],
   "source": [
    "model = model.to(device).half()"
   ]
  },
  {
   "cell_type": "code",
   "execution_count": 26,
   "id": "9975be88",
   "metadata": {},
   "outputs": [
    {
     "data": {
      "text/plain": [
       "True"
      ]
     },
     "execution_count": 26,
     "metadata": {},
     "output_type": "execute_result"
    }
   ],
   "source": [
    "model.config.add_perturbation"
   ]
  },
  {
   "cell_type": "code",
   "execution_count": 27,
   "id": "17de6a3d",
   "metadata": {},
   "outputs": [
    {
     "data": {
      "text/plain": [
       "LEDForConditionalGenerationAddContextLength(\n",
       "  (led): LEDModel(\n",
       "    (shared): Embedding(50276, 768, padding_idx=1)\n",
       "    (encoder): LEDEncoder(\n",
       "      (embed_tokens): Embedding(50276, 768, padding_idx=1)\n",
       "      (embed_positions): LEDLearnedPositionalEmbedding(16384, 768, padding_idx=1)\n",
       "      (layers): ModuleList(\n",
       "        (0): LEDEncoderLayer(\n",
       "          (self_attn): LEDEncoderAttention(\n",
       "            (longformer_self_attn): LEDEncoderSelfAttention(\n",
       "              (query): Linear(in_features=768, out_features=768, bias=True)\n",
       "              (key): Linear(in_features=768, out_features=768, bias=True)\n",
       "              (value): Linear(in_features=768, out_features=768, bias=True)\n",
       "              (query_global): Linear(in_features=768, out_features=768, bias=True)\n",
       "              (key_global): Linear(in_features=768, out_features=768, bias=True)\n",
       "              (value_global): Linear(in_features=768, out_features=768, bias=True)\n",
       "            )\n",
       "            (output): Linear(in_features=768, out_features=768, bias=True)\n",
       "          )\n",
       "          (self_attn_layer_norm): LayerNorm((768,), eps=1e-05, elementwise_affine=True)\n",
       "          (fc1): Linear(in_features=768, out_features=3072, bias=True)\n",
       "          (fc2): Linear(in_features=3072, out_features=768, bias=True)\n",
       "          (final_layer_norm): LayerNorm((768,), eps=1e-05, elementwise_affine=True)\n",
       "        )\n",
       "        (1): LEDEncoderLayer(\n",
       "          (self_attn): LEDEncoderAttention(\n",
       "            (longformer_self_attn): LEDEncoderSelfAttention(\n",
       "              (query): Linear(in_features=768, out_features=768, bias=True)\n",
       "              (key): Linear(in_features=768, out_features=768, bias=True)\n",
       "              (value): Linear(in_features=768, out_features=768, bias=True)\n",
       "              (query_global): Linear(in_features=768, out_features=768, bias=True)\n",
       "              (key_global): Linear(in_features=768, out_features=768, bias=True)\n",
       "              (value_global): Linear(in_features=768, out_features=768, bias=True)\n",
       "            )\n",
       "            (output): Linear(in_features=768, out_features=768, bias=True)\n",
       "          )\n",
       "          (self_attn_layer_norm): LayerNorm((768,), eps=1e-05, elementwise_affine=True)\n",
       "          (fc1): Linear(in_features=768, out_features=3072, bias=True)\n",
       "          (fc2): Linear(in_features=3072, out_features=768, bias=True)\n",
       "          (final_layer_norm): LayerNorm((768,), eps=1e-05, elementwise_affine=True)\n",
       "        )\n",
       "        (2): LEDEncoderLayer(\n",
       "          (self_attn): LEDEncoderAttention(\n",
       "            (longformer_self_attn): LEDEncoderSelfAttention(\n",
       "              (query): Linear(in_features=768, out_features=768, bias=True)\n",
       "              (key): Linear(in_features=768, out_features=768, bias=True)\n",
       "              (value): Linear(in_features=768, out_features=768, bias=True)\n",
       "              (query_global): Linear(in_features=768, out_features=768, bias=True)\n",
       "              (key_global): Linear(in_features=768, out_features=768, bias=True)\n",
       "              (value_global): Linear(in_features=768, out_features=768, bias=True)\n",
       "            )\n",
       "            (output): Linear(in_features=768, out_features=768, bias=True)\n",
       "          )\n",
       "          (self_attn_layer_norm): LayerNorm((768,), eps=1e-05, elementwise_affine=True)\n",
       "          (fc1): Linear(in_features=768, out_features=3072, bias=True)\n",
       "          (fc2): Linear(in_features=3072, out_features=768, bias=True)\n",
       "          (final_layer_norm): LayerNorm((768,), eps=1e-05, elementwise_affine=True)\n",
       "        )\n",
       "        (3): LEDEncoderLayer(\n",
       "          (self_attn): LEDEncoderAttention(\n",
       "            (longformer_self_attn): LEDEncoderSelfAttention(\n",
       "              (query): Linear(in_features=768, out_features=768, bias=True)\n",
       "              (key): Linear(in_features=768, out_features=768, bias=True)\n",
       "              (value): Linear(in_features=768, out_features=768, bias=True)\n",
       "              (query_global): Linear(in_features=768, out_features=768, bias=True)\n",
       "              (key_global): Linear(in_features=768, out_features=768, bias=True)\n",
       "              (value_global): Linear(in_features=768, out_features=768, bias=True)\n",
       "            )\n",
       "            (output): Linear(in_features=768, out_features=768, bias=True)\n",
       "          )\n",
       "          (self_attn_layer_norm): LayerNorm((768,), eps=1e-05, elementwise_affine=True)\n",
       "          (fc1): Linear(in_features=768, out_features=3072, bias=True)\n",
       "          (fc2): Linear(in_features=3072, out_features=768, bias=True)\n",
       "          (final_layer_norm): LayerNorm((768,), eps=1e-05, elementwise_affine=True)\n",
       "        )\n",
       "        (4): LEDEncoderLayer(\n",
       "          (self_attn): LEDEncoderAttention(\n",
       "            (longformer_self_attn): LEDEncoderSelfAttention(\n",
       "              (query): Linear(in_features=768, out_features=768, bias=True)\n",
       "              (key): Linear(in_features=768, out_features=768, bias=True)\n",
       "              (value): Linear(in_features=768, out_features=768, bias=True)\n",
       "              (query_global): Linear(in_features=768, out_features=768, bias=True)\n",
       "              (key_global): Linear(in_features=768, out_features=768, bias=True)\n",
       "              (value_global): Linear(in_features=768, out_features=768, bias=True)\n",
       "            )\n",
       "            (output): Linear(in_features=768, out_features=768, bias=True)\n",
       "          )\n",
       "          (self_attn_layer_norm): LayerNorm((768,), eps=1e-05, elementwise_affine=True)\n",
       "          (fc1): Linear(in_features=768, out_features=3072, bias=True)\n",
       "          (fc2): Linear(in_features=3072, out_features=768, bias=True)\n",
       "          (final_layer_norm): LayerNorm((768,), eps=1e-05, elementwise_affine=True)\n",
       "        )\n",
       "        (5): LEDEncoderLayer(\n",
       "          (self_attn): LEDEncoderAttention(\n",
       "            (longformer_self_attn): LEDEncoderSelfAttention(\n",
       "              (query): Linear(in_features=768, out_features=768, bias=True)\n",
       "              (key): Linear(in_features=768, out_features=768, bias=True)\n",
       "              (value): Linear(in_features=768, out_features=768, bias=True)\n",
       "              (query_global): Linear(in_features=768, out_features=768, bias=True)\n",
       "              (key_global): Linear(in_features=768, out_features=768, bias=True)\n",
       "              (value_global): Linear(in_features=768, out_features=768, bias=True)\n",
       "            )\n",
       "            (output): Linear(in_features=768, out_features=768, bias=True)\n",
       "          )\n",
       "          (self_attn_layer_norm): LayerNorm((768,), eps=1e-05, elementwise_affine=True)\n",
       "          (fc1): Linear(in_features=768, out_features=3072, bias=True)\n",
       "          (fc2): Linear(in_features=3072, out_features=768, bias=True)\n",
       "          (final_layer_norm): LayerNorm((768,), eps=1e-05, elementwise_affine=True)\n",
       "        )\n",
       "      )\n",
       "      (layernorm_embedding): LayerNorm((768,), eps=1e-05, elementwise_affine=True)\n",
       "    )\n",
       "    (decoder): LEDDecoder(\n",
       "      (embed_tokens): Embedding(50276, 768, padding_idx=1)\n",
       "      (embed_positions): SinusoidalPositionalEmbedding()\n",
       "      (layers): ModuleList(\n",
       "        (0): LEDDecoderLayer(\n",
       "          (self_attn): LEDDecoderAttention(\n",
       "            (k_proj): Linear(in_features=768, out_features=768, bias=True)\n",
       "            (v_proj): Linear(in_features=768, out_features=768, bias=True)\n",
       "            (q_proj): Linear(in_features=768, out_features=768, bias=True)\n",
       "            (out_proj): Linear(in_features=768, out_features=768, bias=True)\n",
       "          )\n",
       "          (self_attn_layer_norm): LayerNorm((768,), eps=1e-05, elementwise_affine=True)\n",
       "          (encoder_attn): LEDDecoderAttention(\n",
       "            (k_proj): Linear(in_features=768, out_features=768, bias=True)\n",
       "            (v_proj): Linear(in_features=768, out_features=768, bias=True)\n",
       "            (q_proj): Linear(in_features=768, out_features=768, bias=True)\n",
       "            (out_proj): Linear(in_features=768, out_features=768, bias=True)\n",
       "          )\n",
       "          (encoder_attn_layer_norm): LayerNorm((768,), eps=1e-05, elementwise_affine=True)\n",
       "          (fc1): Linear(in_features=768, out_features=3072, bias=True)\n",
       "          (fc2): Linear(in_features=3072, out_features=768, bias=True)\n",
       "          (final_layer_norm): LayerNorm((768,), eps=1e-05, elementwise_affine=True)\n",
       "        )\n",
       "        (1): LEDDecoderLayer(\n",
       "          (self_attn): LEDDecoderAttention(\n",
       "            (k_proj): Linear(in_features=768, out_features=768, bias=True)\n",
       "            (v_proj): Linear(in_features=768, out_features=768, bias=True)\n",
       "            (q_proj): Linear(in_features=768, out_features=768, bias=True)\n",
       "            (out_proj): Linear(in_features=768, out_features=768, bias=True)\n",
       "          )\n",
       "          (self_attn_layer_norm): LayerNorm((768,), eps=1e-05, elementwise_affine=True)\n",
       "          (encoder_attn): LEDDecoderAttention(\n",
       "            (k_proj): Linear(in_features=768, out_features=768, bias=True)\n",
       "            (v_proj): Linear(in_features=768, out_features=768, bias=True)\n",
       "            (q_proj): Linear(in_features=768, out_features=768, bias=True)\n",
       "            (out_proj): Linear(in_features=768, out_features=768, bias=True)\n",
       "          )\n",
       "          (encoder_attn_layer_norm): LayerNorm((768,), eps=1e-05, elementwise_affine=True)\n",
       "          (fc1): Linear(in_features=768, out_features=3072, bias=True)\n",
       "          (fc2): Linear(in_features=3072, out_features=768, bias=True)\n",
       "          (final_layer_norm): LayerNorm((768,), eps=1e-05, elementwise_affine=True)\n",
       "        )\n",
       "        (2): LEDDecoderLayer(\n",
       "          (self_attn): LEDDecoderAttention(\n",
       "            (k_proj): Linear(in_features=768, out_features=768, bias=True)\n",
       "            (v_proj): Linear(in_features=768, out_features=768, bias=True)\n",
       "            (q_proj): Linear(in_features=768, out_features=768, bias=True)\n",
       "            (out_proj): Linear(in_features=768, out_features=768, bias=True)\n",
       "          )\n",
       "          (self_attn_layer_norm): LayerNorm((768,), eps=1e-05, elementwise_affine=True)\n",
       "          (encoder_attn): LEDDecoderAttention(\n",
       "            (k_proj): Linear(in_features=768, out_features=768, bias=True)\n",
       "            (v_proj): Linear(in_features=768, out_features=768, bias=True)\n",
       "            (q_proj): Linear(in_features=768, out_features=768, bias=True)\n",
       "            (out_proj): Linear(in_features=768, out_features=768, bias=True)\n",
       "          )\n",
       "          (encoder_attn_layer_norm): LayerNorm((768,), eps=1e-05, elementwise_affine=True)\n",
       "          (fc1): Linear(in_features=768, out_features=3072, bias=True)\n",
       "          (fc2): Linear(in_features=3072, out_features=768, bias=True)\n",
       "          (final_layer_norm): LayerNorm((768,), eps=1e-05, elementwise_affine=True)\n",
       "        )\n",
       "        (3): LEDDecoderLayer(\n",
       "          (self_attn): LEDDecoderAttention(\n",
       "            (k_proj): Linear(in_features=768, out_features=768, bias=True)\n",
       "            (v_proj): Linear(in_features=768, out_features=768, bias=True)\n",
       "            (q_proj): Linear(in_features=768, out_features=768, bias=True)\n",
       "            (out_proj): Linear(in_features=768, out_features=768, bias=True)\n",
       "          )\n",
       "          (self_attn_layer_norm): LayerNorm((768,), eps=1e-05, elementwise_affine=True)\n",
       "          (encoder_attn): LEDDecoderAttention(\n",
       "            (k_proj): Linear(in_features=768, out_features=768, bias=True)\n",
       "            (v_proj): Linear(in_features=768, out_features=768, bias=True)\n",
       "            (q_proj): Linear(in_features=768, out_features=768, bias=True)\n",
       "            (out_proj): Linear(in_features=768, out_features=768, bias=True)\n",
       "          )\n",
       "          (encoder_attn_layer_norm): LayerNorm((768,), eps=1e-05, elementwise_affine=True)\n",
       "          (fc1): Linear(in_features=768, out_features=3072, bias=True)\n",
       "          (fc2): Linear(in_features=3072, out_features=768, bias=True)\n",
       "          (final_layer_norm): LayerNorm((768,), eps=1e-05, elementwise_affine=True)\n",
       "        )\n",
       "        (4): LEDDecoderLayer(\n",
       "          (self_attn): LEDDecoderAttention(\n",
       "            (k_proj): Linear(in_features=768, out_features=768, bias=True)\n",
       "            (v_proj): Linear(in_features=768, out_features=768, bias=True)\n",
       "            (q_proj): Linear(in_features=768, out_features=768, bias=True)\n",
       "            (out_proj): Linear(in_features=768, out_features=768, bias=True)\n",
       "          )\n",
       "          (self_attn_layer_norm): LayerNorm((768,), eps=1e-05, elementwise_affine=True)\n",
       "          (encoder_attn): LEDDecoderAttention(\n",
       "            (k_proj): Linear(in_features=768, out_features=768, bias=True)\n",
       "            (v_proj): Linear(in_features=768, out_features=768, bias=True)\n",
       "            (q_proj): Linear(in_features=768, out_features=768, bias=True)\n",
       "            (out_proj): Linear(in_features=768, out_features=768, bias=True)\n",
       "          )\n",
       "          (encoder_attn_layer_norm): LayerNorm((768,), eps=1e-05, elementwise_affine=True)\n",
       "          (fc1): Linear(in_features=768, out_features=3072, bias=True)\n",
       "          (fc2): Linear(in_features=3072, out_features=768, bias=True)\n",
       "          (final_layer_norm): LayerNorm((768,), eps=1e-05, elementwise_affine=True)\n",
       "        )\n",
       "        (5): LEDDecoderLayer(\n",
       "          (self_attn): LEDDecoderAttention(\n",
       "            (k_proj): Linear(in_features=768, out_features=768, bias=True)\n",
       "            (v_proj): Linear(in_features=768, out_features=768, bias=True)\n",
       "            (q_proj): Linear(in_features=768, out_features=768, bias=True)\n",
       "            (out_proj): Linear(in_features=768, out_features=768, bias=True)\n",
       "          )\n",
       "          (self_attn_layer_norm): LayerNorm((768,), eps=1e-05, elementwise_affine=True)\n",
       "          (encoder_attn): LEDDecoderAttention(\n",
       "            (k_proj): Linear(in_features=768, out_features=768, bias=True)\n",
       "            (v_proj): Linear(in_features=768, out_features=768, bias=True)\n",
       "            (q_proj): Linear(in_features=768, out_features=768, bias=True)\n",
       "            (out_proj): Linear(in_features=768, out_features=768, bias=True)\n",
       "          )\n",
       "          (encoder_attn_layer_norm): LayerNorm((768,), eps=1e-05, elementwise_affine=True)\n",
       "          (fc1): Linear(in_features=768, out_features=3072, bias=True)\n",
       "          (fc2): Linear(in_features=3072, out_features=768, bias=True)\n",
       "          (final_layer_norm): LayerNorm((768,), eps=1e-05, elementwise_affine=True)\n",
       "        )\n",
       "      )\n",
       "      (layernorm_embedding): LayerNorm((768,), eps=1e-05, elementwise_affine=True)\n",
       "    )\n",
       "  )\n",
       "  (lm_head): Linear(in_features=768, out_features=50276, bias=False)\n",
       "  (lm_length): Sequential(\n",
       "    (0): Linear(in_features=768, out_features=100, bias=True)\n",
       "    (1): ReLU()\n",
       "    (2): Linear(in_features=100, out_features=1, bias=True)\n",
       "  )\n",
       ")"
      ]
     },
     "execution_count": 27,
     "metadata": {},
     "output_type": "execute_result"
    }
   ],
   "source": [
    "# model.led.decoder.embed_positions.sinpostype = None\n",
    "# model.config.sinpostype = None\n",
    "model.eval()"
   ]
  },
  {
   "cell_type": "code",
   "execution_count": 28,
   "id": "87672116",
   "metadata": {},
   "outputs": [
    {
     "name": "stderr",
     "output_type": "stream",
     "text": [
      "100%|██████████| 362/362 [00:12<00:00, 29.61it/s]\n"
     ]
    }
   ],
   "source": [
    "val_set = CitationParagraphGenerationDataset(\n",
    "    \"/home/data/XiangciLi/CORWA/annotated_test/\", \n",
    "    tokenizer, \n",
    "    MAX_SENT_LEN = max_input_length,\n",
    "    related_work_path='/home/data/XiangciLi/20200705v1/acl/selected_related_work.jsonl',\n",
    "    cited_metadata_path='/home/data/XiangciLi/20200705v1/acl/selected_cited_metadata.jsonl',\n",
    "    cited_paper_path=\"/home/data/XiangciLi/20200705v1/acl/selected_cited_pdf_parses.jsonl\",\n",
    "    citing_paper_path=\"/home/data/XiangciLi/20200705v1/acl/selected_pdf_parses.jsonl\",\n",
    "    skip_no_citations = True,context_sep_flag=True,\n",
    "    include_intro=False,\n",
    "    add_length_signal=True\n",
    ")"
   ]
  },
  {
   "cell_type": "code",
   "execution_count": 29,
   "id": "41c663f5",
   "metadata": {},
   "outputs": [],
   "source": [
    "val_set.filter_citation_type(citation_type=\"Dominant\")"
   ]
  },
  {
   "cell_type": "code",
   "execution_count": 36,
   "id": "089b03d3",
   "metadata": {},
   "outputs": [],
   "source": [
    "def get_citations(src):\n",
    "    \"\"\"Get citations given source content\"\"\"\n",
    "    all_citations = []\n",
    "    for cite_data in src.split(\"[B_Reference]\")[1:]:\n",
    "\n",
    "        all_citations.append(cite_data.split(\"</s>\")[0].strip())\n",
    "\n",
    "    for cite_data in src.split(\"[B_Dominant]\")[1:]:\n",
    "\n",
    "        all_citations.append(cite_data.split(\"</s>\")[0].strip())\n",
    "    \n",
    "    return all_citations"
   ]
  },
  {
   "cell_type": "code",
   "execution_count": null,
   "id": "8bcd27a2",
   "metadata": {
    "scrolled": true
   },
   "outputs": [
    {
     "name": "stderr",
     "output_type": "stream",
     "text": [
      "  0%|          | 0/1198 [00:00<?, ?it/s]/home/bxm200000/anaconda3/envs/tagger_4/lib/python3.7/site-packages/ipykernel_launcher.py:10: UserWarning: To copy construct from a tensor, it is recommended to use sourceTensor.clone().detach() or sourceTensor.clone().detach().requires_grad_(True), rather than torch.tensor(sourceTensor).\n",
      "  # Remove the CWD from sys.path while we load stuff.\n",
      "/home/bxm200000/anaconda3/envs/tagger_4/lib/python3.7/site-packages/torch/utils/checkpoint.py:25: UserWarning: None of the inputs have requires_grad=True. Gradients will be None\n",
      "  warnings.warn(\"None of the inputs have requires_grad=True. Gradients will be None\")\n",
      " 96%|█████████▌| 1146/1198 [15:52:09<40:51, 47.15s/it]   "
     ]
    }
   ],
   "source": [
    "# accumulated_data = []\n",
    "for batch in tqdm(DataLoader(val_set[124:], batch_size = 1, shuffle=False)):\n",
    "    processed_batch = process_data_to_model_inputs(\n",
    "        batch, \n",
    "        special_tokens=['[Dominant]', '[Reference]'], \n",
    "        classification=True\n",
    "    )\n",
    "    processed_batch_cuda = {}\n",
    "    for key in [\"input_ids\", \"attention_mask\", \"global_attention_mask\", \"labels\", \"length\", \"context_length\"]:\n",
    "        processed_batch_cuda[key] = torch.tensor(processed_batch[key]).to(device)\n",
    "    model_kwargs = {'decoder_context_length' : processed_batch_cuda[\"context_length\"]}\n",
    "    predicted_abstract_ids = model.generate(\n",
    "        input_ids = processed_batch_cuda[\"input_ids\"], \n",
    "        attention_mask=processed_batch_cuda[\"attention_mask\"], \n",
    "        global_attention_mask=processed_batch_cuda[\"global_attention_mask\"],\n",
    "        **model_kwargs\n",
    "    )\n",
    "    out = tokenizer.batch_decode(predicted_abstract_ids, skip_special_tokens=False)\n",
    "    target = batch[\"target\"]\n",
    "    for o, t, part_id, source in zip(out, target, batch[\"id\"], batch[\"source\"]):\n",
    "        accumulated_data.append(\n",
    "            {\"source\": source, \"target\": t, \n",
    "             \"generated\": o, \"part_id\": part_id}\n",
    "        )"
   ]
  },
  {
   "cell_type": "code",
   "execution_count": 54,
   "id": "0db27709",
   "metadata": {},
   "outputs": [
    {
     "data": {
      "text/plain": [
       "1322"
      ]
     },
     "execution_count": 54,
     "metadata": {},
     "output_type": "execute_result"
    }
   ],
   "source": [
    "len(accumulated_data)"
   ]
  },
  {
   "cell_type": "code",
   "execution_count": 39,
   "id": "63eb20d8",
   "metadata": {},
   "outputs": [],
   "source": [
    "# diffs = []\n",
    "\n",
    "# for dt in accumulated_data:\n",
    "#     diffs.append(tokenizer.tokenize(dt[\"target\"]).__len__() - tokenizer.tokenize(dt[\"generated\"]).__len__() )"
   ]
  },
  {
   "cell_type": "code",
   "execution_count": 40,
   "id": "8ed80788",
   "metadata": {},
   "outputs": [],
   "source": [
    "# plt.hist(diffs)"
   ]
  },
  {
   "cell_type": "code",
   "execution_count": 55,
   "id": "95ee6f52",
   "metadata": {},
   "outputs": [],
   "source": [
    "def get_val(tensor):\n",
    "    return tensor.cpu().detach().numpy().item()"
   ]
  },
  {
   "cell_type": "code",
   "execution_count": 126,
   "id": "2c59125b",
   "metadata": {
    "scrolled": true
   },
   "outputs": [
    {
     "name": "stderr",
     "output_type": "stream",
     "text": [
      "100%|██████████| 1322/1322 [12:43<00:00,  1.73it/s]\n"
     ]
    }
   ],
   "source": [
    "# LENGTH PREDICTION\n",
    "length_data = []\n",
    "for batch in tqdm(DataLoader(val_set, batch_size = 1, shuffle=False)):\n",
    "    processed_batch = process_data_to_model_inputs(\n",
    "        batch, \n",
    "        special_tokens=None, \n",
    "        classification=True\n",
    "    )\n",
    "    processed_batch_cuda = {}\n",
    "    for key in [\"input_ids\", \"attention_mask\", \"global_attention_mask\", \"labels\", \"length\"]:\n",
    "        processed_batch_cuda[key] = torch.tensor(processed_batch[key]).to(device)\n",
    "    model_kwargs = {'decoder_length' : processed_batch_cuda[\"length\"].unsqueeze(0)}\n",
    "\n",
    "    \n",
    "    cls_encoder = model.led.encoder(\n",
    "        input_ids=processed_batch_cuda[\"input_ids\"],\n",
    "        attention_mask=processed_batch_cuda[\"attention_mask\"],\n",
    "        global_attention_mask=processed_batch_cuda[\"global_attention_mask\"],\n",
    "        return_dict=True\n",
    "    )[0][:,0,:]\n",
    "    \n",
    "    if model.config.predict_log_length:\n",
    "        length_pred = torch.exp(model.lm_length(cls_encoder))\n",
    "    else:\n",
    "        length_pred = model.lm_length(cls_encoder)\n",
    "    length_pred = length_pred.squeeze(-1)    \n",
    "    \n",
    "    for l_pred, l_actual in zip(length_pred, processed_batch_cuda[\"length\"]):\n",
    "        length_data.append( (get_val(l_pred), get_val(l_actual)) )\n",
    "        \n",
    "    \n",
    "#     for l_pred, l_actual in zip(length_pred, processed_batch_cuda[\"length\"]):\n",
    "#         length_data.append( (get_val(l_pred), get_val(l_actual)) )\n",
    "    "
   ]
  },
  {
   "cell_type": "code",
   "execution_count": 57,
   "id": "8af36531",
   "metadata": {},
   "outputs": [],
   "source": [
    "# len(length_data)"
   ]
  },
  {
   "cell_type": "markdown",
   "id": "409ef88e",
   "metadata": {},
   "source": [
    "### Save Length predictions"
   ]
  },
  {
   "cell_type": "code",
   "execution_count": 40,
   "id": "31567d80",
   "metadata": {},
   "outputs": [],
   "source": [
    "store_len_data = []\n",
    "for dt, l in zip(val_set, length_data):\n",
    "\n",
    "    store_len_data.append({\"id\": dt[\"id\"], \"length\": (float(l[0]), float(l[1])) })"
   ]
  },
  {
   "cell_type": "code",
   "execution_count": 155,
   "id": "8777daa8",
   "metadata": {},
   "outputs": [],
   "source": [
    "# with open(os.path.abspath(os.path.join(path, \"../length_output.json\")), 'w') as f:\n",
    "#     json.dump(store_len_data, f)"
   ]
  },
  {
   "cell_type": "markdown",
   "id": "66dde504",
   "metadata": {},
   "source": [
    "### Load Length Predictions"
   ]
  },
  {
   "cell_type": "code",
   "execution_count": 166,
   "id": "603cc699",
   "metadata": {},
   "outputs": [],
   "source": [
    "with open(os.path.abspath(os.path.join(path, \"../length_output.json\")), 'r') as f:\n",
    "    store_len_data = json.loads(f.read())\n",
    "length_data = [(*x[\"length\"], ) for x in store_len_data]"
   ]
  },
  {
   "cell_type": "markdown",
   "id": "828454e2",
   "metadata": {},
   "source": [
    "### Save Generations"
   ]
  },
  {
   "cell_type": "code",
   "execution_count": 59,
   "id": "092bbbbd",
   "metadata": {},
   "outputs": [],
   "source": [
    "# accumulated_data[0]"
   ]
  },
  {
   "cell_type": "code",
   "execution_count": 60,
   "id": "6ba8cb1a",
   "metadata": {},
   "outputs": [],
   "source": [
    "sep_tokens = [\"<s>\", \"</s>\"]\n",
    "for index, data in enumerate(accumulated_data):\n",
    "    for token in sep_tokens:\n",
    "        data[\"generated\"] = data[\"generated\"].replace(token, \"\").strip() "
   ]
  },
  {
   "cell_type": "code",
   "execution_count": 62,
   "id": "74ab3fac",
   "metadata": {},
   "outputs": [],
   "source": [
    "with open(os.path.abspath(os.path.join(path, \"../sample_para_output.json\")), 'w') as f:\n",
    "    json.dump(accumulated_data, f)"
   ]
  },
  {
   "cell_type": "markdown",
   "id": "1907f1e6",
   "metadata": {},
   "source": [
    "### Load generations"
   ]
  },
  {
   "cell_type": "code",
   "execution_count": 170,
   "id": "a34f033f",
   "metadata": {},
   "outputs": [],
   "source": [
    "with open(os.path.abspath(os.path.join(path, \"../sample_para_output.json\")), 'r') as f:\n",
    "    accumulated_data = json.loads(f.read())"
   ]
  },
  {
   "cell_type": "code",
   "execution_count": 171,
   "id": "b4e4a7a8",
   "metadata": {},
   "outputs": [],
   "source": [
    "def rmse(predictions, targets):\n",
    "    return np.sqrt(((predictions - targets) ** 2).mean())"
   ]
  },
  {
   "cell_type": "code",
   "execution_count": 172,
   "id": "7e35291d",
   "metadata": {},
   "outputs": [],
   "source": [
    "length_predictions = np.array(list(zip(*length_data))[0])\n",
    "lenthg_targets = np.array(list(zip(*length_data))[1])"
   ]
  },
  {
   "cell_type": "code",
   "execution_count": 173,
   "id": "f4515438",
   "metadata": {},
   "outputs": [],
   "source": [
    "# length_predictions"
   ]
  },
  {
   "cell_type": "code",
   "execution_count": null,
   "id": "b2b50c20",
   "metadata": {},
   "outputs": [],
   "source": []
  },
  {
   "cell_type": "markdown",
   "id": "b61e1a78",
   "metadata": {},
   "source": [
    "### Generated vs Target length"
   ]
  },
  {
   "cell_type": "code",
   "execution_count": 177,
   "id": "c3fd01b9",
   "metadata": {},
   "outputs": [],
   "source": [
    "good_datapoints = analysis_utils.get_valid_paragraph_datapoints(accumulated_data)"
   ]
  },
  {
   "cell_type": "code",
   "execution_count": 199,
   "id": "fca72c00",
   "metadata": {},
   "outputs": [
    {
     "data": {
      "text/plain": [
       "1322"
      ]
     },
     "execution_count": 199,
     "metadata": {},
     "output_type": "execute_result"
    }
   ],
   "source": [
    "len(accumulated_data)"
   ]
  },
  {
   "cell_type": "code",
   "execution_count": 178,
   "id": "6f8aa4e3",
   "metadata": {},
   "outputs": [],
   "source": [
    "lenthg_targets = np.array([tokenizer.tokenize(x[\"target\"]).__len__() for x in good_datapoints])"
   ]
  },
  {
   "cell_type": "code",
   "execution_count": 179,
   "id": "599b4c80",
   "metadata": {},
   "outputs": [],
   "source": [
    "length_generations = np.array([tokenizer.tokenize(x[\"generated\"]).__len__() for x in good_datapoints])"
   ]
  },
  {
   "cell_type": "code",
   "execution_count": 180,
   "id": "40b222d9",
   "metadata": {},
   "outputs": [
    {
     "data": {
      "text/plain": [
       "15.9415337889142"
      ]
     },
     "execution_count": 180,
     "metadata": {},
     "output_type": "execute_result"
    }
   ],
   "source": [
    "np.mean(abs( lenthg_targets - length_generations))"
   ]
  },
  {
   "cell_type": "code",
   "execution_count": 195,
   "id": "07016b41",
   "metadata": {},
   "outputs": [
    {
     "data": {
      "text/plain": [
       "-2.305998481397115"
      ]
     },
     "execution_count": 195,
     "metadata": {},
     "output_type": "execute_result"
    }
   ],
   "source": [
    "np.mean( lenthg_targets - length_generations)"
   ]
  },
  {
   "cell_type": "code",
   "execution_count": 182,
   "id": "0ec51a79",
   "metadata": {},
   "outputs": [
    {
     "data": {
      "text/plain": [
       "21.84516161077924"
      ]
     },
     "execution_count": 182,
     "metadata": {},
     "output_type": "execute_result"
    }
   ],
   "source": [
    "rmse(lenthg_targets, length_generations )"
   ]
  },
  {
   "cell_type": "code",
   "execution_count": 200,
   "id": "0df2b833",
   "metadata": {},
   "outputs": [
    {
     "data": {
      "text/plain": [
       "Text(0.5, 1.0, 'Target length - Generation Length - Paragraph generation LC')"
      ]
     },
     "execution_count": 200,
     "metadata": {},
     "output_type": "execute_result"
    },
    {
     "data": {
      "image/png": "[encoded data removed]",
      "text/plain": [
       "<Figure size 720x576 with 1 Axes>"
      ]
     },
     "metadata": {},
     "output_type": "display_data"
    }
   ],
   "source": [
    "plt.hist(lenthg_targets - length_generations, bins=100, range = (-150, 150))\n",
    "plt.title(\"Target length - Generation Length - Paragraph generation LC\")"
   ]
  },
  {
   "cell_type": "markdown",
   "id": "8e10449a",
   "metadata": {},
   "source": [
    "### Generation vs Predicted Length"
   ]
  },
  {
   "cell_type": "code",
   "execution_count": null,
   "id": "261b55ba",
   "metadata": {},
   "outputs": [],
   "source": []
  },
  {
   "cell_type": "markdown",
   "id": "5f14fd07",
   "metadata": {},
   "source": [
    "### Post-Process paragraph Generation - extract spans"
   ]
  },
  {
   "cell_type": "code",
   "execution_count": 63,
   "id": "087fa1e7",
   "metadata": {},
   "outputs": [],
   "source": [
    "def strip_context(paragraph):\n",
    "    \"\"\"strip context from paragraph and only return span\"\"\"\n",
    "    return paragraph.split(\"<context>\")[1].split(\"</context>\")[0].strip()"
   ]
  },
  {
   "cell_type": "code",
   "execution_count": 64,
   "id": "dc7087bb",
   "metadata": {},
   "outputs": [],
   "source": [
    "# accumulated_data[0]"
   ]
  },
  {
   "cell_type": "code",
   "execution_count": 65,
   "id": "5a93b57f",
   "metadata": {},
   "outputs": [],
   "source": [
    "new_accumulated_data = deepcopy(accumulated_data)"
   ]
  },
  {
   "cell_type": "code",
   "execution_count": 66,
   "id": "acd79065",
   "metadata": {},
   "outputs": [],
   "source": [
    "rouge = load_metric(\"rouge\")"
   ]
  },
  {
   "cell_type": "code",
   "execution_count": 67,
   "id": "715755f5",
   "metadata": {},
   "outputs": [],
   "source": [
    "predicted, references = [], []\n",
    "dominant_predicted, dominant_reference = [], []\n",
    "reference_predicted, reference_reference = [], []\n",
    "for index, data in enumerate(new_accumulated_data):\n",
    "    target = data[\"target\"]\n",
    "    gen = data[\"generated\"]\n",
    "    \n",
    "    \n",
    "    if \"<context>\" in gen and \"</context>\" in gen:\n",
    "\n",
    "        target = strip_context(data[\"target\"])\n",
    "        gen = strip_context(data[\"generated\"])\n",
    "        data[\"generated\"] = gen\n",
    "        data[\"target\"] = target\n",
    "\n",
    "        new_accumulated_data[index] = data\n",
    "        # remove citations         \n",
    "        for c in get_citations(data[\"source\"]):\n",
    "            c = c.replace(\",\", \"\").replace(\".\", \"\")\n",
    "            gen = gen.replace(\",\", \"\").replace(\".\", \"\").replace(c, \"\")\n",
    "            target = target.replace(\",\", \"\").replace(\".\", \"\").replace(c, \"\")\n",
    "\n",
    "        predicted.append(gen)\n",
    "        references.append(target)\n",
    "\n",
    "        if \"[Dominant]\" in data[\"source\"]:\n",
    "            dominant_predicted.append(gen)\n",
    "            dominant_reference.append(target)\n",
    "\n",
    "\n",
    "        if \"[Reference]\" in data[\"source\"]:\n",
    "            reference_predicted.append(gen)\n",
    "            reference_reference.append(target)\n"
   ]
  },
  {
   "cell_type": "code",
   "execution_count": 68,
   "id": "2d2b5765",
   "metadata": {},
   "outputs": [],
   "source": [
    "# dominant_predicted"
   ]
  },
  {
   "cell_type": "code",
   "execution_count": 69,
   "id": "294a32c3",
   "metadata": {},
   "outputs": [
    {
     "data": {
      "text/plain": [
       "1317"
      ]
     },
     "execution_count": 69,
     "metadata": {},
     "output_type": "execute_result"
    }
   ],
   "source": [
    "len(dominant_predicted)"
   ]
  },
  {
   "cell_type": "code",
   "execution_count": 70,
   "id": "91c42f9a",
   "metadata": {},
   "outputs": [
    {
     "data": {
      "text/plain": [
       "{'rouge1': AggregateScore(low=Score(precision=0.252551821542718, recall=0.26237485657003834, fmeasure=0.23625074011341463), mid=Score(precision=0.2603201468414728, recall=0.27014311922942136, fmeasure=0.24255346907640699), high=Score(precision=0.2687455075158768, recall=0.2780549912317007, fmeasure=0.24889547415893087)),\n",
       " 'rouge2': AggregateScore(low=Score(precision=0.05404289084709848, recall=0.05761130475788302, fmeasure=0.05089834534993279), mid=Score(precision=0.05937584493041693, recall=0.062283362650859805, fmeasure=0.055127268685939146), high=Score(precision=0.06396616794563971, recall=0.067196774794971, fmeasure=0.059183562033996384)),\n",
       " 'rougeL': AggregateScore(low=Score(precision=0.19166101346981235, recall=0.2009076742426963, fmeasure=0.1797225313079823), mid=Score(precision=0.19817983182594884, recall=0.20730878197066505, fmeasure=0.18501425713017183), high=Score(precision=0.20465630695008863, recall=0.21403363459838645, fmeasure=0.1896533675600201))}"
      ]
     },
     "execution_count": 70,
     "metadata": {},
     "output_type": "execute_result"
    }
   ],
   "source": [
    "rouge.compute(\n",
    "    predictions=predicted, \n",
    "    references=references, \n",
    "    rouge_types=[\"rouge1\",\"rouge2\",\"rougeL\"],           \n",
    "    use_stemmer=True\n",
    ")"
   ]
  },
  {
   "cell_type": "code",
   "execution_count": null,
   "id": "510e4c4a",
   "metadata": {},
   "outputs": [],
   "source": []
  }
 ],
 "metadata": {
  "kernelspec": {
   "display_name": "Python 3",
   "language": "python",
   "name": "python3"
  },
  "language_info": {
   "codemirror_mode": {
    "name": "ipython",
    "version": 3
   },
   "file_extension": ".py",
   "mimetype": "text/x-python",
   "name": "python",
   "nbconvert_exporter": "python",
   "pygments_lexer": "ipython3",
   "version": "3.7.11"
  }
 },
 "nbformat": 4,
 "nbformat_minor": 5
}
