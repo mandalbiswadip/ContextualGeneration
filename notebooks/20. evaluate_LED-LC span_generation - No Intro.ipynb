{
 "cells": [
  {
   "cell_type": "markdown",
   "id": "817c0c8b",
   "metadata": {},
   "source": [
    "**Description:** This notebook is used for inference/generation of spans in a setting where generation lengths are predicted from the encoder output and the predicted length is used for length control. Some crucial details are:\n",
    "\n",
    "1. The current model loaded is trained in Dominant spans only\n",
    "2. introduction of the current paper is not included in the input\n",
    "3. This model generated the span and not the paragraph\n",
    "4. The log length is predicted"
   ]
  },
  {
   "cell_type": "code",
   "execution_count": 1,
   "id": "c4efa135",
   "metadata": {},
   "outputs": [],
   "source": [
    "%load_ext autoreload\n",
    "%autoreload 2"
   ]
  },
  {
   "cell_type": "code",
   "execution_count": 2,
   "id": "8345bded",
   "metadata": {},
   "outputs": [],
   "source": [
    "import sys\n",
    "import os"
   ]
  },
  {
   "cell_type": "code",
   "execution_count": 3,
   "id": "73ea6325",
   "metadata": {},
   "outputs": [],
   "source": [
    "import re\n",
    "import inspect"
   ]
  },
  {
   "cell_type": "code",
   "execution_count": 4,
   "id": "29711aec",
   "metadata": {},
   "outputs": [],
   "source": [
    "sys.path.append(\"../scripts/\")"
   ]
  },
  {
   "cell_type": "code",
   "execution_count": 5,
   "id": "570952d5",
   "metadata": {},
   "outputs": [],
   "source": [
    "import json\n",
    "from random import sample"
   ]
  },
  {
   "cell_type": "code",
   "execution_count": 6,
   "id": "7c9ffd54",
   "metadata": {},
   "outputs": [],
   "source": [
    "import os\n",
    "os.environ[\"CUDA_DEVICE_ORDER\"]=\"PCI_BUS_ID\"   # see issue #152\n",
    "os.environ[\"CUDA_VISIBLE_DEVICES\"]=\"1\""
   ]
  },
  {
   "cell_type": "code",
   "execution_count": 7,
   "id": "a96766a6",
   "metadata": {},
   "outputs": [],
   "source": [
    "from matplotlib import pyplot as plt\n",
    "import seaborn as sns\n",
    "plt.rcParams[\"figure.figsize\"] = (10, 8)\n",
    "sns.set()\n",
    "import numpy as np\n",
    "import pandas as pd"
   ]
  },
  {
   "cell_type": "code",
   "execution_count": 8,
   "id": "571cef93",
   "metadata": {},
   "outputs": [],
   "source": [
    "from transformers.models.led.modeling_led import LEDModel"
   ]
  },
  {
   "cell_type": "code",
   "execution_count": 9,
   "id": "1453cfe9",
   "metadata": {},
   "outputs": [],
   "source": [
    "from tqdm import tqdm\n",
    "import torch\n",
    "from datasets import load_dataset, load_metric\n",
    "from transformers import AutoTokenizer, AutoModelForSeq2SeqLM\n",
    "from dataset import CitationTextGenerationDataset, CitationParagraphGenerationDataset\n",
    "from torch.utils.data import Dataset, DataLoader\n",
    "from transformers import Seq2SeqTrainer"
   ]
  },
  {
   "cell_type": "code",
   "execution_count": 13,
   "id": "7aaf5b09",
   "metadata": {},
   "outputs": [],
   "source": [
    "from nltk import sent_tokenize"
   ]
  },
  {
   "cell_type": "code",
   "execution_count": 28,
   "id": "4a25ac3b",
   "metadata": {},
   "outputs": [],
   "source": [
    "import util\n",
    "# import analysis_utils\n",
    "# from modelling_led_multitask import LEDForConditionalGenerationMultipleLengthPredictor as LEDForConditionalGeneration\n",
    "from modelling_led import LEDForConditionalGeneration"
   ]
  },
  {
   "cell_type": "code",
   "execution_count": 29,
   "id": "d0e05226",
   "metadata": {},
   "outputs": [],
   "source": [
    "device = \"cpu\""
   ]
  },
  {
   "cell_type": "code",
   "execution_count": 30,
   "id": "cfaafd5e",
   "metadata": {},
   "outputs": [],
   "source": [
    "max_input_length = 16384\n",
    "max_output_length = 1024"
   ]
  },
  {
   "cell_type": "code",
   "execution_count": 31,
   "id": "75b4039d",
   "metadata": {},
   "outputs": [],
   "source": [
    "def process_data_to_model_inputs(batch, special_tokens=None, length=None, classification=False):\n",
    "    # tokenize the inputs and labels\n",
    "    if special_tokens is None:\n",
    "        special_tokens = ['[Dominant]', '[Reference]']\n",
    "    \n",
    "    additional_special_tokens_lookup = {token: idx for token, idx in zip(tokenizer.additional_special_tokens, tokenizer.additional_special_tokens_ids)}\n",
    "    special_token_ids = set([additional_special_tokens_lookup[token] for token in special_tokens])\n",
    "    special_token_ids.add(tokenizer.mask_token_id)\n",
    "    \n",
    "    inputs = tokenizer(\n",
    "        batch[\"source\"],\n",
    "        padding=\"max_length\",\n",
    "        truncation=True,\n",
    "        max_length=max_input_length,\n",
    "        add_special_tokens=True \n",
    "    )\n",
    "    outputs = tokenizer(\n",
    "        batch[\"target\"],\n",
    "        padding=\"max_length\",\n",
    "        truncation=True,\n",
    "        max_length=max_output_length,\n",
    "        add_special_tokens=True \n",
    "    )\n",
    "    \n",
    "    batch[\"citation_types\"] = [int(\"[Dominant]\" in x) for x in batch[\"source\"]]\n",
    "\n",
    "    if length:\n",
    "        batch[\"length\"] = length\n",
    "    else:\n",
    "        batch[\"length\"] = [sum(x) for x in outputs.attention_mask]\n",
    "\n",
    "\n",
    "    batch[\"input_ids\"] = inputs.input_ids\n",
    "    batch[\"attention_mask\"] = inputs.attention_mask\n",
    "\n",
    "    # create 0 global_attention_mask lists\n",
    "    batch[\"global_attention_mask\"] = len(batch[\"input_ids\"]) * [\n",
    "        [0 for _ in range(len(batch[\"input_ids\"][0]))]\n",
    "    ]\n",
    "\n",
    "    # since above lists are references, the following line changes the 0 index for all samples\n",
    "    for i_batch in range(len(batch[\"input_ids\"])):\n",
    "        for i_token in range(len(batch[\"input_ids\"][0])):\n",
    "            if batch[\"input_ids\"][i_batch][i_token] in special_token_ids:\n",
    "                batch[\"global_attention_mask\"][i_batch][i_token] = 1\n",
    "    \n",
    "    # setting [CLS] token as global attention token for classification\n",
    "    if classification:\n",
    "        batch[\"global_attention_mask\"][i_batch][0] = 1\n",
    "            \n",
    "    batch[\"labels\"] = outputs.input_ids\n",
    "\n",
    "    # We have to make sure that the PAD token is ignored\n",
    "    batch[\"labels\"] = [\n",
    "        [-100 if token == tokenizer.pad_token_id else token for token in labels]\n",
    "        for labels in batch[\"labels\"]\n",
    "    ]\n",
    "    return batch"
   ]
  },
  {
   "cell_type": "code",
   "execution_count": 32,
   "id": "4ec0632d",
   "metadata": {},
   "outputs": [],
   "source": [
    "def get_context(source):\n",
    "    return source.split(\"\\n\\n\")[0]"
   ]
  },
  {
   "cell_type": "code",
   "execution_count": 33,
   "id": "ee981777",
   "metadata": {},
   "outputs": [],
   "source": [
    "def get_cited_paper(source):\n",
    "    return source.split(\"\\n\\n\")[1]"
   ]
  },
  {
   "cell_type": "code",
   "execution_count": 37,
   "id": "98a1137f",
   "metadata": {},
   "outputs": [],
   "source": [
    "path = \"/Users/biswadipmandal/Documents/MSCS/Research/CORWA_models/Dominant_only/length_control/span_v1/checkpoint-69500\""
   ]
  },
  {
   "cell_type": "code",
   "execution_count": 38,
   "id": "e0b5d334",
   "metadata": {},
   "outputs": [
    {
     "data": {
      "text/plain": [
       "0"
      ]
     },
     "execution_count": 38,
     "metadata": {},
     "output_type": "execute_result"
    }
   ],
   "source": [
    "tokenizer = AutoTokenizer.from_pretrained(path)\n",
    "special_tokens = ['<doc>','</doc>', '[BOS]', '[Dominant]', '[Reference]', '[B_Dominant]',  '[E_Dominant]', '[B_Reference]', '[E_Reference]']\n",
    "additional_special_tokens = {'additional_special_tokens': special_tokens}\n",
    "tokenizer.add_special_tokens(additional_special_tokens)"
   ]
  },
  {
   "cell_type": "code",
   "execution_count": 39,
   "id": "a0b09a13",
   "metadata": {},
   "outputs": [
    {
     "name": "stderr",
     "output_type": "stream",
     "text": [
      "Some weights of the model checkpoint at /Users/biswadipmandal/Documents/MSCS/Research/CORWA_models/Dominant_only/length_control/span_v1/checkpoint-69500 were not used when initializing LEDForConditionalGeneration: ['sigma_generation', 'lm_length.2.bias', 'lm_length.0.bias', 'lm_length.2.weight', 'sigma_length', 'lm_length.0.weight']\n",
      "- This IS expected if you are initializing LEDForConditionalGeneration from the checkpoint of a model trained on another task or with another architecture (e.g. initializing a BertForSequenceClassification model from a BertForPreTraining model).\n",
      "- This IS NOT expected if you are initializing LEDForConditionalGeneration from the checkpoint of a model that you expect to be exactly identical (initializing a BertForSequenceClassification model from a BertForSequenceClassification model).\n"
     ]
    }
   ],
   "source": [
    "model = LEDForConditionalGeneration.from_pretrained(\n",
    "    path\n",
    ")"
   ]
  },
  {
   "cell_type": "code",
   "execution_count": 24,
   "id": "c8268a1b",
   "metadata": {},
   "outputs": [
    {
     "data": {
      "text/plain": [
       "True"
      ]
     },
     "execution_count": 24,
     "metadata": {},
     "output_type": "execute_result"
    }
   ],
   "source": [
    "model.config.add_perturbation = False\n",
    "model.config.predict_log_length"
   ]
  },
  {
   "cell_type": "code",
   "execution_count": 27,
   "id": "707beedb",
   "metadata": {},
   "outputs": [
    {
     "data": {
      "text/plain": [
       "LEDForConditionalGeneration(\n",
       "  (led): LEDModel(\n",
       "    (shared): Embedding(50274, 768, padding_idx=1)\n",
       "    (encoder): LEDEncoder(\n",
       "      (embed_tokens): Embedding(50274, 768, padding_idx=1)\n",
       "      (embed_positions): LEDLearnedPositionalEmbedding(16384, 768)\n",
       "      (layers): ModuleList(\n",
       "        (0): LEDEncoderLayer(\n",
       "          (self_attn): LEDEncoderAttention(\n",
       "            (longformer_self_attn): LEDEncoderSelfAttention(\n",
       "              (query): Linear(in_features=768, out_features=768, bias=True)\n",
       "              (key): Linear(in_features=768, out_features=768, bias=True)\n",
       "              (value): Linear(in_features=768, out_features=768, bias=True)\n",
       "              (query_global): Linear(in_features=768, out_features=768, bias=True)\n",
       "              (key_global): Linear(in_features=768, out_features=768, bias=True)\n",
       "              (value_global): Linear(in_features=768, out_features=768, bias=True)\n",
       "            )\n",
       "            (output): Linear(in_features=768, out_features=768, bias=True)\n",
       "          )\n",
       "          (self_attn_layer_norm): LayerNorm((768,), eps=1e-05, elementwise_affine=True)\n",
       "          (fc1): Linear(in_features=768, out_features=3072, bias=True)\n",
       "          (fc2): Linear(in_features=3072, out_features=768, bias=True)\n",
       "          (final_layer_norm): LayerNorm((768,), eps=1e-05, elementwise_affine=True)\n",
       "        )\n",
       "        (1): LEDEncoderLayer(\n",
       "          (self_attn): LEDEncoderAttention(\n",
       "            (longformer_self_attn): LEDEncoderSelfAttention(\n",
       "              (query): Linear(in_features=768, out_features=768, bias=True)\n",
       "              (key): Linear(in_features=768, out_features=768, bias=True)\n",
       "              (value): Linear(in_features=768, out_features=768, bias=True)\n",
       "              (query_global): Linear(in_features=768, out_features=768, bias=True)\n",
       "              (key_global): Linear(in_features=768, out_features=768, bias=True)\n",
       "              (value_global): Linear(in_features=768, out_features=768, bias=True)\n",
       "            )\n",
       "            (output): Linear(in_features=768, out_features=768, bias=True)\n",
       "          )\n",
       "          (self_attn_layer_norm): LayerNorm((768,), eps=1e-05, elementwise_affine=True)\n",
       "          (fc1): Linear(in_features=768, out_features=3072, bias=True)\n",
       "          (fc2): Linear(in_features=3072, out_features=768, bias=True)\n",
       "          (final_layer_norm): LayerNorm((768,), eps=1e-05, elementwise_affine=True)\n",
       "        )\n",
       "        (2): LEDEncoderLayer(\n",
       "          (self_attn): LEDEncoderAttention(\n",
       "            (longformer_self_attn): LEDEncoderSelfAttention(\n",
       "              (query): Linear(in_features=768, out_features=768, bias=True)\n",
       "              (key): Linear(in_features=768, out_features=768, bias=True)\n",
       "              (value): Linear(in_features=768, out_features=768, bias=True)\n",
       "              (query_global): Linear(in_features=768, out_features=768, bias=True)\n",
       "              (key_global): Linear(in_features=768, out_features=768, bias=True)\n",
       "              (value_global): Linear(in_features=768, out_features=768, bias=True)\n",
       "            )\n",
       "            (output): Linear(in_features=768, out_features=768, bias=True)\n",
       "          )\n",
       "          (self_attn_layer_norm): LayerNorm((768,), eps=1e-05, elementwise_affine=True)\n",
       "          (fc1): Linear(in_features=768, out_features=3072, bias=True)\n",
       "          (fc2): Linear(in_features=3072, out_features=768, bias=True)\n",
       "          (final_layer_norm): LayerNorm((768,), eps=1e-05, elementwise_affine=True)\n",
       "        )\n",
       "        (3): LEDEncoderLayer(\n",
       "          (self_attn): LEDEncoderAttention(\n",
       "            (longformer_self_attn): LEDEncoderSelfAttention(\n",
       "              (query): Linear(in_features=768, out_features=768, bias=True)\n",
       "              (key): Linear(in_features=768, out_features=768, bias=True)\n",
       "              (value): Linear(in_features=768, out_features=768, bias=True)\n",
       "              (query_global): Linear(in_features=768, out_features=768, bias=True)\n",
       "              (key_global): Linear(in_features=768, out_features=768, bias=True)\n",
       "              (value_global): Linear(in_features=768, out_features=768, bias=True)\n",
       "            )\n",
       "            (output): Linear(in_features=768, out_features=768, bias=True)\n",
       "          )\n",
       "          (self_attn_layer_norm): LayerNorm((768,), eps=1e-05, elementwise_affine=True)\n",
       "          (fc1): Linear(in_features=768, out_features=3072, bias=True)\n",
       "          (fc2): Linear(in_features=3072, out_features=768, bias=True)\n",
       "          (final_layer_norm): LayerNorm((768,), eps=1e-05, elementwise_affine=True)\n",
       "        )\n",
       "        (4): LEDEncoderLayer(\n",
       "          (self_attn): LEDEncoderAttention(\n",
       "            (longformer_self_attn): LEDEncoderSelfAttention(\n",
       "              (query): Linear(in_features=768, out_features=768, bias=True)\n",
       "              (key): Linear(in_features=768, out_features=768, bias=True)\n",
       "              (value): Linear(in_features=768, out_features=768, bias=True)\n",
       "              (query_global): Linear(in_features=768, out_features=768, bias=True)\n",
       "              (key_global): Linear(in_features=768, out_features=768, bias=True)\n",
       "              (value_global): Linear(in_features=768, out_features=768, bias=True)\n",
       "            )\n",
       "            (output): Linear(in_features=768, out_features=768, bias=True)\n",
       "          )\n",
       "          (self_attn_layer_norm): LayerNorm((768,), eps=1e-05, elementwise_affine=True)\n",
       "          (fc1): Linear(in_features=768, out_features=3072, bias=True)\n",
       "          (fc2): Linear(in_features=3072, out_features=768, bias=True)\n",
       "          (final_layer_norm): LayerNorm((768,), eps=1e-05, elementwise_affine=True)\n",
       "        )\n",
       "        (5): LEDEncoderLayer(\n",
       "          (self_attn): LEDEncoderAttention(\n",
       "            (longformer_self_attn): LEDEncoderSelfAttention(\n",
       "              (query): Linear(in_features=768, out_features=768, bias=True)\n",
       "              (key): Linear(in_features=768, out_features=768, bias=True)\n",
       "              (value): Linear(in_features=768, out_features=768, bias=True)\n",
       "              (query_global): Linear(in_features=768, out_features=768, bias=True)\n",
       "              (key_global): Linear(in_features=768, out_features=768, bias=True)\n",
       "              (value_global): Linear(in_features=768, out_features=768, bias=True)\n",
       "            )\n",
       "            (output): Linear(in_features=768, out_features=768, bias=True)\n",
       "          )\n",
       "          (self_attn_layer_norm): LayerNorm((768,), eps=1e-05, elementwise_affine=True)\n",
       "          (fc1): Linear(in_features=768, out_features=3072, bias=True)\n",
       "          (fc2): Linear(in_features=3072, out_features=768, bias=True)\n",
       "          (final_layer_norm): LayerNorm((768,), eps=1e-05, elementwise_affine=True)\n",
       "        )\n",
       "      )\n",
       "      (layernorm_embedding): LayerNorm((768,), eps=1e-05, elementwise_affine=True)\n",
       "    )\n",
       "    (decoder): LEDDecoder(\n",
       "      (embed_tokens): Embedding(50274, 768, padding_idx=1)\n",
       "      (embed_positions): SinusoidalPositionalEmbedding()\n",
       "      (layers): ModuleList(\n",
       "        (0): LEDDecoderLayer(\n",
       "          (self_attn): LEDDecoderAttention(\n",
       "            (k_proj): Linear(in_features=768, out_features=768, bias=True)\n",
       "            (v_proj): Linear(in_features=768, out_features=768, bias=True)\n",
       "            (q_proj): Linear(in_features=768, out_features=768, bias=True)\n",
       "            (out_proj): Linear(in_features=768, out_features=768, bias=True)\n",
       "          )\n",
       "          (self_attn_layer_norm): LayerNorm((768,), eps=1e-05, elementwise_affine=True)\n",
       "          (encoder_attn): LEDDecoderAttention(\n",
       "            (k_proj): Linear(in_features=768, out_features=768, bias=True)\n",
       "            (v_proj): Linear(in_features=768, out_features=768, bias=True)\n",
       "            (q_proj): Linear(in_features=768, out_features=768, bias=True)\n",
       "            (out_proj): Linear(in_features=768, out_features=768, bias=True)\n",
       "          )\n",
       "          (encoder_attn_layer_norm): LayerNorm((768,), eps=1e-05, elementwise_affine=True)\n",
       "          (fc1): Linear(in_features=768, out_features=3072, bias=True)\n",
       "          (fc2): Linear(in_features=3072, out_features=768, bias=True)\n",
       "          (final_layer_norm): LayerNorm((768,), eps=1e-05, elementwise_affine=True)\n",
       "        )\n",
       "        (1): LEDDecoderLayer(\n",
       "          (self_attn): LEDDecoderAttention(\n",
       "            (k_proj): Linear(in_features=768, out_features=768, bias=True)\n",
       "            (v_proj): Linear(in_features=768, out_features=768, bias=True)\n",
       "            (q_proj): Linear(in_features=768, out_features=768, bias=True)\n",
       "            (out_proj): Linear(in_features=768, out_features=768, bias=True)\n",
       "          )\n",
       "          (self_attn_layer_norm): LayerNorm((768,), eps=1e-05, elementwise_affine=True)\n",
       "          (encoder_attn): LEDDecoderAttention(\n",
       "            (k_proj): Linear(in_features=768, out_features=768, bias=True)\n",
       "            (v_proj): Linear(in_features=768, out_features=768, bias=True)\n",
       "            (q_proj): Linear(in_features=768, out_features=768, bias=True)\n",
       "            (out_proj): Linear(in_features=768, out_features=768, bias=True)\n",
       "          )\n",
       "          (encoder_attn_layer_norm): LayerNorm((768,), eps=1e-05, elementwise_affine=True)\n",
       "          (fc1): Linear(in_features=768, out_features=3072, bias=True)\n",
       "          (fc2): Linear(in_features=3072, out_features=768, bias=True)\n",
       "          (final_layer_norm): LayerNorm((768,), eps=1e-05, elementwise_affine=True)\n",
       "        )\n",
       "        (2): LEDDecoderLayer(\n",
       "          (self_attn): LEDDecoderAttention(\n",
       "            (k_proj): Linear(in_features=768, out_features=768, bias=True)\n",
       "            (v_proj): Linear(in_features=768, out_features=768, bias=True)\n",
       "            (q_proj): Linear(in_features=768, out_features=768, bias=True)\n",
       "            (out_proj): Linear(in_features=768, out_features=768, bias=True)\n",
       "          )\n",
       "          (self_attn_layer_norm): LayerNorm((768,), eps=1e-05, elementwise_affine=True)\n",
       "          (encoder_attn): LEDDecoderAttention(\n",
       "            (k_proj): Linear(in_features=768, out_features=768, bias=True)\n",
       "            (v_proj): Linear(in_features=768, out_features=768, bias=True)\n",
       "            (q_proj): Linear(in_features=768, out_features=768, bias=True)\n",
       "            (out_proj): Linear(in_features=768, out_features=768, bias=True)\n",
       "          )\n",
       "          (encoder_attn_layer_norm): LayerNorm((768,), eps=1e-05, elementwise_affine=True)\n",
       "          (fc1): Linear(in_features=768, out_features=3072, bias=True)\n",
       "          (fc2): Linear(in_features=3072, out_features=768, bias=True)\n",
       "          (final_layer_norm): LayerNorm((768,), eps=1e-05, elementwise_affine=True)\n",
       "        )\n",
       "        (3): LEDDecoderLayer(\n",
       "          (self_attn): LEDDecoderAttention(\n",
       "            (k_proj): Linear(in_features=768, out_features=768, bias=True)\n",
       "            (v_proj): Linear(in_features=768, out_features=768, bias=True)\n",
       "            (q_proj): Linear(in_features=768, out_features=768, bias=True)\n",
       "            (out_proj): Linear(in_features=768, out_features=768, bias=True)\n",
       "          )\n",
       "          (self_attn_layer_norm): LayerNorm((768,), eps=1e-05, elementwise_affine=True)\n",
       "          (encoder_attn): LEDDecoderAttention(\n",
       "            (k_proj): Linear(in_features=768, out_features=768, bias=True)\n",
       "            (v_proj): Linear(in_features=768, out_features=768, bias=True)\n",
       "            (q_proj): Linear(in_features=768, out_features=768, bias=True)\n",
       "            (out_proj): Linear(in_features=768, out_features=768, bias=True)\n",
       "          )\n",
       "          (encoder_attn_layer_norm): LayerNorm((768,), eps=1e-05, elementwise_affine=True)\n",
       "          (fc1): Linear(in_features=768, out_features=3072, bias=True)\n",
       "          (fc2): Linear(in_features=3072, out_features=768, bias=True)\n",
       "          (final_layer_norm): LayerNorm((768,), eps=1e-05, elementwise_affine=True)\n",
       "        )\n",
       "        (4): LEDDecoderLayer(\n",
       "          (self_attn): LEDDecoderAttention(\n",
       "            (k_proj): Linear(in_features=768, out_features=768, bias=True)\n",
       "            (v_proj): Linear(in_features=768, out_features=768, bias=True)\n",
       "            (q_proj): Linear(in_features=768, out_features=768, bias=True)\n",
       "            (out_proj): Linear(in_features=768, out_features=768, bias=True)\n",
       "          )\n",
       "          (self_attn_layer_norm): LayerNorm((768,), eps=1e-05, elementwise_affine=True)\n",
       "          (encoder_attn): LEDDecoderAttention(\n",
       "            (k_proj): Linear(in_features=768, out_features=768, bias=True)\n",
       "            (v_proj): Linear(in_features=768, out_features=768, bias=True)\n",
       "            (q_proj): Linear(in_features=768, out_features=768, bias=True)\n",
       "            (out_proj): Linear(in_features=768, out_features=768, bias=True)\n",
       "          )\n",
       "          (encoder_attn_layer_norm): LayerNorm((768,), eps=1e-05, elementwise_affine=True)\n",
       "          (fc1): Linear(in_features=768, out_features=3072, bias=True)\n",
       "          (fc2): Linear(in_features=3072, out_features=768, bias=True)\n",
       "          (final_layer_norm): LayerNorm((768,), eps=1e-05, elementwise_affine=True)\n",
       "        )\n",
       "        (5): LEDDecoderLayer(\n",
       "          (self_attn): LEDDecoderAttention(\n",
       "            (k_proj): Linear(in_features=768, out_features=768, bias=True)\n",
       "            (v_proj): Linear(in_features=768, out_features=768, bias=True)\n",
       "            (q_proj): Linear(in_features=768, out_features=768, bias=True)\n",
       "            (out_proj): Linear(in_features=768, out_features=768, bias=True)\n",
       "          )\n",
       "          (self_attn_layer_norm): LayerNorm((768,), eps=1e-05, elementwise_affine=True)\n",
       "          (encoder_attn): LEDDecoderAttention(\n",
       "            (k_proj): Linear(in_features=768, out_features=768, bias=True)\n",
       "            (v_proj): Linear(in_features=768, out_features=768, bias=True)\n",
       "            (q_proj): Linear(in_features=768, out_features=768, bias=True)\n",
       "            (out_proj): Linear(in_features=768, out_features=768, bias=True)\n",
       "          )\n",
       "          (encoder_attn_layer_norm): LayerNorm((768,), eps=1e-05, elementwise_affine=True)\n",
       "          (fc1): Linear(in_features=768, out_features=3072, bias=True)\n",
       "          (fc2): Linear(in_features=3072, out_features=768, bias=True)\n",
       "          (final_layer_norm): LayerNorm((768,), eps=1e-05, elementwise_affine=True)\n",
       "        )\n",
       "      )\n",
       "      (layernorm_embedding): LayerNorm((768,), eps=1e-05, elementwise_affine=True)\n",
       "    )\n",
       "  )\n",
       "  (lm_head): Linear(in_features=768, out_features=50274, bias=False)\n",
       "  (lm_length): Sequential(\n",
       "    (0): Linear(in_features=768, out_features=100, bias=True)\n",
       "    (1): ReLU()\n",
       "    (2): Linear(in_features=100, out_features=1, bias=True)\n",
       "  )\n",
       ")"
      ]
     },
     "execution_count": 27,
     "metadata": {},
     "output_type": "execute_result"
    }
   ],
   "source": [
    "model = model.to(device).half()\n",
    "model.eval()"
   ]
  },
  {
   "cell_type": "code",
   "execution_count": 22,
   "id": "87672116",
   "metadata": {},
   "outputs": [
    {
     "name": "stderr",
     "output_type": "stream",
     "text": [
      "100%|██████████| 362/362 [00:09<00:00, 37.79it/s]\n"
     ]
    }
   ],
   "source": [
    "val_set = CitationTextGenerationDataset(\n",
    "    \"/home/data/XiangciLi/CORWA/annotated_test/\", \n",
    "    tokenizer, \n",
    "    MAX_SENT_LEN = max_input_length,\n",
    "    related_work_path='/home/data/XiangciLi/20200705v1/acl/selected_related_work.jsonl',\n",
    "    cited_metadata_path='/home/data/XiangciLi/20200705v1/acl/selected_cited_metadata.jsonl',\n",
    "    cited_paper_path=\"/home/data/XiangciLi/20200705v1/acl/selected_cited_pdf_parses.jsonl\",\n",
    "    citing_paper_path=\"/home/data/XiangciLi/20200705v1/acl/selected_pdf_parses.jsonl\",\n",
    "    skip_no_citations = True,\n",
    "    include_intro=False,\n",
    ")"
   ]
  },
  {
   "cell_type": "code",
   "execution_count": 23,
   "id": "ac8a1e33",
   "metadata": {},
   "outputs": [],
   "source": [
    "val_set.filter_citation_type(citation_type=\"Dominant\")"
   ]
  },
  {
   "cell_type": "code",
   "execution_count": 24,
   "id": "3d7d961f",
   "metadata": {},
   "outputs": [],
   "source": [
    "def run_model(batch, model):\n",
    "    processed_batch = process_data_to_model_inputs(batch, special_tokens=['[Dominant]', '[Reference]'])\n",
    "    processed_batch_cuda = {}\n",
    "    for key in [\"input_ids\", \"attention_mask\", \"global_attention_mask\", \"labels\"]:\n",
    "        processed_batch_cuda[key] = torch.tensor(processed_batch[key]).to(device)\n",
    "    predicted_abstract_ids = model.generate(\n",
    "        processed_batch_cuda[\"input_ids\"], \n",
    "        attention_mask=processed_batch_cuda[\"attention_mask\"], \n",
    "        global_attention_mask=processed_batch_cuda[\"global_attention_mask\"]\n",
    "    )\n",
    "    out = tokenizer.batch_decode(predicted_abstract_ids, skip_special_tokens=False)\n",
    "    target = batch[\"target\"]\n",
    "    return out, target"
   ]
  },
  {
   "cell_type": "code",
   "execution_count": 25,
   "id": "089b03d3",
   "metadata": {},
   "outputs": [],
   "source": [
    "def get_citations(src):\n",
    "    \"\"\"Get citations given source content\"\"\"\n",
    "    all_citations = []\n",
    "    for cite_data in src.split(\"[B_Reference]\")[1:]:\n",
    "\n",
    "        all_citations.append(cite_data.split(\"</s>\")[0].strip())\n",
    "\n",
    "    for cite_data in src.split(\"[B_Dominant]\")[1:]:\n",
    "\n",
    "        all_citations.append(cite_data.split(\"</s>\")[0].strip())\n",
    "    \n",
    "    return all_citations"
   ]
  },
  {
   "cell_type": "code",
   "execution_count": 55,
   "id": "1f0fd49c",
   "metadata": {
    "scrolled": true
   },
   "outputs": [
    {
     "name": "stderr",
     "output_type": "stream",
     "text": [
      "  0%|          | 0/1322 [00:00<?, ?it/s]/home/bxm200000/anaconda3/envs/tagger_4/lib/python3.7/site-packages/torch/utils/checkpoint.py:25: UserWarning: None of the inputs have requires_grad=True. Gradients will be None\n",
      "  warnings.warn(\"None of the inputs have requires_grad=True. Gradients will be None\")\n",
      "100%|██████████| 1322/1322 [1:42:41<00:00,  4.66s/it] \n"
     ]
    }
   ],
   "source": [
    "accumulated_data = []\n",
    "for batch in tqdm(DataLoader(val_set, batch_size = 1, shuffle=False)):\n",
    "    processed_batch = process_data_to_model_inputs(\n",
    "        batch, \n",
    "        special_tokens=['[Dominant]', '[Reference]'], \n",
    "        classification=True\n",
    "    )\n",
    "    processed_batch_cuda = {}\n",
    "    for key in [\"input_ids\", \"attention_mask\", \"global_attention_mask\", \"labels\", \"length\"]:\n",
    "        processed_batch_cuda[key] = torch.tensor(processed_batch[key]).to(device)\n",
    "    model_kwargs = {'decoder_length' : processed_batch_cuda[\"length\"].unsqueeze(0)}\n",
    "\n",
    "    predicted_abstract_ids = model.generate(\n",
    "        input_ids = processed_batch_cuda[\"input_ids\"], \n",
    "        attention_mask=processed_batch_cuda[\"attention_mask\"], \n",
    "        global_attention_mask=processed_batch_cuda[\"global_attention_mask\"],\n",
    "        **model_kwargs\n",
    "    )\n",
    "    out = tokenizer.batch_decode(predicted_abstract_ids, skip_special_tokens=True)\n",
    "    target = batch[\"target\"]\n",
    "    for o, t, part_id, source in zip(out, target, batch[\"id\"], batch[\"source\"]):\n",
    "        accumulated_data.append(\n",
    "            {\"source\": source, \"target\": t, \n",
    "             \"generated\": o, \"part_id\": part_id}\n",
    "        )"
   ]
  },
  {
   "cell_type": "markdown",
   "id": "8006ff37",
   "metadata": {},
   "source": [
    "### Save Generations"
   ]
  },
  {
   "cell_type": "code",
   "execution_count": 47,
   "id": "ce394160",
   "metadata": {},
   "outputs": [],
   "source": [
    "analysis_utils.write_json(\n",
    "    accumulated_data,  \n",
    "    os.path.abspath(os.path.join(path, \"../sample_output.json\"))\n",
    ")"
   ]
  },
  {
   "cell_type": "code",
   "execution_count": 219,
   "id": "909636f8",
   "metadata": {},
   "outputs": [],
   "source": [
    "accumulated_data = analysis_utils.load_json(\n",
    "    os.path.abspath(os.path.join(path, \"../sample_output.json\"))\n",
    ")"
   ]
  },
  {
   "cell_type": "code",
   "execution_count": 221,
   "id": "c2372efa",
   "metadata": {},
   "outputs": [],
   "source": [
    "# accumulated_data[0]"
   ]
  },
  {
   "cell_type": "code",
   "execution_count": 222,
   "id": "f924bdc3",
   "metadata": {},
   "outputs": [],
   "source": [
    "sep_tokens = [\"<s>\", \"</s>\"]\n",
    "for index, data in enumerate(accumulated_data):\n",
    "    for token in sep_tokens:\n",
    "        data[\"generated\"] = data[\"generated\"].replace(token, \"\").strip()\n",
    "    "
   ]
  },
  {
   "cell_type": "code",
   "execution_count": 223,
   "id": "c06f829a",
   "metadata": {},
   "outputs": [
    {
     "data": {
      "text/plain": [
       "'/home/bxm200000/models/dominant_only/length_control/span_v1_cdlm/checkpoint-69500/'"
      ]
     },
     "execution_count": 223,
     "metadata": {},
     "output_type": "execute_result"
    }
   ],
   "source": [
    "path"
   ]
  },
  {
   "cell_type": "code",
   "execution_count": 147,
   "id": "436f5baa",
   "metadata": {},
   "outputs": [],
   "source": [
    "# val_set[0]"
   ]
  },
  {
   "cell_type": "code",
   "execution_count": 36,
   "id": "2c59125b",
   "metadata": {
    "scrolled": true
   },
   "outputs": [
    {
     "name": "stderr",
     "output_type": "stream",
     "text": [
      "100%|██████████| 1322/1322 [08:56<00:00,  2.47it/s]\n"
     ]
    }
   ],
   "source": [
    "# LENGTH PREDICTION\n",
    "length_data = []\n",
    "for batch in tqdm(DataLoader(val_set, batch_size = 1, shuffle=False)):\n",
    "    processed_batch = process_data_to_model_inputs(\n",
    "        batch, \n",
    "        special_tokens=None, \n",
    "        classification=True\n",
    "    )\n",
    "    processed_batch_cuda = {}\n",
    "    for key in [\"input_ids\", \"attention_mask\", \"global_attention_mask\", \"labels\", \"length\"]:\n",
    "        processed_batch_cuda[key] = torch.tensor(processed_batch[key]).to(device)\n",
    "    model_kwargs = {'decoder_length' : processed_batch_cuda[\"length\"].unsqueeze(0)}\n",
    "\n",
    "    \n",
    "    cls_encoder = model.led.encoder(\n",
    "        input_ids=processed_batch_cuda[\"input_ids\"],\n",
    "        attention_mask=processed_batch_cuda[\"attention_mask\"],\n",
    "        global_attention_mask=processed_batch_cuda[\"global_attention_mask\"],\n",
    "        return_dict=True\n",
    "    )[0][:,0,:]\n",
    "    \n",
    "    if model.config.predict_log_length:\n",
    "        length_pred = torch.exp(model.lm_length(cls_encoder))\n",
    "    else:\n",
    "        length_pred = model.lm_length(cls_encoder)\n",
    "    length_pred = length_pred.squeeze(-1)    \n",
    "    \n",
    "    for l_pred, l_actual in zip(length_pred, processed_batch_cuda[\"length\"]):\n",
    "        length_data.append( (util.get_scaler_val(l_pred), util.get_scaler_val(l_actual)) )\n",
    "    "
   ]
  },
  {
   "cell_type": "markdown",
   "id": "3d2cc2b7",
   "metadata": {},
   "source": [
    "### Save Length predictions"
   ]
  },
  {
   "cell_type": "code",
   "execution_count": 31,
   "id": "b6a9615a",
   "metadata": {},
   "outputs": [],
   "source": [
    "store_len_data = []\n",
    "for dt, l in zip(val_set, length_data):\n",
    "\n",
    "    store_len_data.append({\"id\": dt[\"id\"], \"length\": (float(l[0]), float(l[1])) })"
   ]
  },
  {
   "cell_type": "code",
   "execution_count": 33,
   "id": "776924d5",
   "metadata": {},
   "outputs": [],
   "source": [
    "analysis_utils.write_json(\n",
    "    store_len_data,  \n",
    "    os.path.abspath(os.path.join(path, \"../length_output.json\"))\n",
    ")"
   ]
  },
  {
   "cell_type": "markdown",
   "id": "acc17dc8",
   "metadata": {},
   "source": [
    "### Predict Length From source pipeline"
   ]
  },
  {
   "cell_type": "code",
   "execution_count": 180,
   "id": "15baca8b",
   "metadata": {},
   "outputs": [],
   "source": [
    "def predict_length_from_source(source):\n",
    "    # predict length given source text in suitable input format\n",
    "    length_predictions = []\n",
    "    test_set = [{\"source\": source, \"target\": \"dummy_target\"}]\n",
    "    for batch in DataLoader(test_set, batch_size = 1, shuffle=False):\n",
    "        processed_batch = process_data_to_model_inputs(\n",
    "            batch, \n",
    "            special_tokens=None, \n",
    "            classification=True\n",
    "        )\n",
    "        processed_batch_cuda = {}\n",
    "        for key in [\"input_ids\", \"attention_mask\", \"global_attention_mask\", \"labels\"]:\n",
    "            processed_batch_cuda[key] = torch.tensor(processed_batch[key]).to(device)\n",
    "\n",
    "\n",
    "        cls_encoder = model.led.encoder(\n",
    "            input_ids=processed_batch_cuda[\"input_ids\"],\n",
    "            attention_mask=processed_batch_cuda[\"attention_mask\"],\n",
    "            global_attention_mask=processed_batch_cuda[\"global_attention_mask\"],\n",
    "            return_dict=True\n",
    "        )[0][:,0,:]\n",
    "\n",
    "        if model.config.predict_log_length:\n",
    "            length_pred = torch.exp(model.lm_length(cls_encoder))\n",
    "        else:\n",
    "            length_pred = model.lm_length(cls_encoder)\n",
    "        length_pred = length_pred.squeeze(-1)    \n",
    "\n",
    "        length_predictions.append(length_pred)\n",
    "    return length_predictions[0].cpu().detach().numpy().item()\n"
   ]
  },
  {
   "cell_type": "code",
   "execution_count": 275,
   "id": "88e8d95d",
   "metadata": {},
   "outputs": [],
   "source": [
    "def get_new_source(context, cited_paper):\n",
    "    return f\"{context}\\n\\n {cited_paper}\""
   ]
  },
  {
   "cell_type": "code",
   "execution_count": 276,
   "id": "83c80635",
   "metadata": {},
   "outputs": [
    {
     "name": "stderr",
     "output_type": "stream",
     "text": [
      "100%|██████████| 1322/1322 [09:18<00:00,  2.37it/s]\n",
      "100%|██████████| 1322/1322 [11:22<00:00,  1.94it/s]\n",
      "100%|██████████| 1322/1322 [11:11<00:00,  1.97it/s]\n",
      " 39%|███▉      | 522/1322 [04:24<06:55,  1.93it/s]IOPub message rate exceeded.\n",
      "The notebook server will temporarily stop sending output\n",
      "to the client in order to avoid crashing it.\n",
      "To change this limit, set the config variable\n",
      "`--NotebookApp.iopub_msg_rate_limit`.\n",
      "\n",
      "Current values:\n",
      "NotebookApp.iopub_msg_rate_limit=1000.0 (msgs/sec)\n",
      "NotebookApp.rate_limit_window=3.0 (secs)\n",
      "\n",
      "100%|██████████| 1322/1322 [11:03<00:00,  1.99it/s]\n",
      "100%|██████████| 1322/1322 [11:04<00:00,  1.99it/s]\n"
     ]
    }
   ],
   "source": [
    "for outer_dt in accumulated_data[:10]:\n",
    "    outer_dt[\"all_predicted_length_constant_cited_paper\"] = []\n",
    "    \n",
    "    cited_paper_content = outer_dt[\"source\"].split(\"\\n\\n\")[1]\n",
    "    for dt in tqdm(accumulated_data):\n",
    "        context = get_context(dt[\"source\"])\n",
    "        new_source = get_new_source(context, cited_paper_content)\n",
    "        new_predicted_length = predict_length_from_source(new_source)\n",
    "        \n",
    "        outer_dt[\"all_predicted_length_constant_cited_paper\"].append(new_predicted_length)"
   ]
  },
  {
   "cell_type": "code",
   "execution_count": 277,
   "id": "e55645a8",
   "metadata": {},
   "outputs": [
    {
     "name": "stderr",
     "output_type": "stream",
     "text": [
      "100%|██████████| 1322/1322 [11:05<00:00,  1.99it/s]\n",
      "100%|██████████| 1322/1322 [11:08<00:00,  1.98it/s]\n",
      " 26%|██▋       | 349/1322 [02:56<08:29,  1.91it/s]IOPub message rate exceeded.\n",
      "The notebook server will temporarily stop sending output\n",
      "to the client in order to avoid crashing it.\n",
      "To change this limit, set the config variable\n",
      "`--NotebookApp.iopub_msg_rate_limit`.\n",
      "\n",
      "Current values:\n",
      "NotebookApp.iopub_msg_rate_limit=1000.0 (msgs/sec)\n",
      "NotebookApp.rate_limit_window=3.0 (secs)\n",
      "\n",
      "100%|██████████| 1322/1322 [11:13<00:00,  1.96it/s]\n",
      "100%|██████████| 1322/1322 [11:13<00:00,  1.96it/s]\n",
      " 35%|███▍      | 461/1322 [03:56<07:22,  1.94it/s]IOPub message rate exceeded.\n",
      "The notebook server will temporarily stop sending output\n",
      "to the client in order to avoid crashing it.\n",
      "To change this limit, set the config variable\n",
      "`--NotebookApp.iopub_msg_rate_limit`.\n",
      "\n",
      "Current values:\n",
      "NotebookApp.iopub_msg_rate_limit=1000.0 (msgs/sec)\n",
      "NotebookApp.rate_limit_window=3.0 (secs)\n",
      "\n"
     ]
    }
   ],
   "source": [
    "for outer_dt in accumulated_data[:10]:\n",
    "    outer_dt[\"all_predicted_length_constant_context\"] = []\n",
    "    context = get_context(outer_dt[\"source\"])\n",
    "\n",
    "    for dt in tqdm(accumulated_data):\n",
    "        cited_paper_content = dt[\"source\"].split(\"\\n\\n\")[1]\n",
    "        new_source = get_new_source(context, cited_paper_content)\n",
    "        new_predicted_length = predict_length_from_source(new_source)\n",
    "        \n",
    "        outer_dt[\"all_predicted_length_constant_context\"].append(new_predicted_length)"
   ]
  },
  {
   "cell_type": "code",
   "execution_count": 307,
   "id": "35ca8861",
   "metadata": {},
   "outputs": [],
   "source": [
    "def update_mean(data, key):\n",
    "    for dt in data:\n",
    "        if key in dt:\n",
    "            dt[f\"{key}_mean\"] = np.mean(dt[key])"
   ]
  },
  {
   "cell_type": "code",
   "execution_count": 308,
   "id": "7350632d",
   "metadata": {},
   "outputs": [],
   "source": [
    "update_mean(accumulated_data, \"all_predicted_length_constant_context\")"
   ]
  },
  {
   "cell_type": "code",
   "execution_count": 309,
   "id": "091c965e",
   "metadata": {},
   "outputs": [],
   "source": [
    "update_mean(accumulated_data, \"all_predicted_length_constant_cited_paper\")"
   ]
  },
  {
   "cell_type": "code",
   "execution_count": 314,
   "id": "c7227929",
   "metadata": {},
   "outputs": [
    {
     "data": {
      "text/plain": [
       "[41.467201683055976,\n",
       " 61.02025813161876,\n",
       " 64.84441187594554,\n",
       " 96.33500378214826,\n",
       " 53.30911970499243,\n",
       " 47.12802571860817,\n",
       " 56.20056023071104,\n",
       " 55.95915279878971,\n",
       " 51.63996312405446,\n",
       " 57.15331883509833]"
      ]
     },
     "execution_count": 314,
     "metadata": {},
     "output_type": "execute_result"
    }
   ],
   "source": [
    "[x[\"all_predicted_length_constant_context_mean\"] for x in accumulated_data[:10]]"
   ]
  },
  {
   "cell_type": "code",
   "execution_count": 343,
   "id": "85d7f462",
   "metadata": {},
   "outputs": [],
   "source": [
    "# accumulated_data[0]"
   ]
  },
  {
   "cell_type": "code",
   "execution_count": 224,
   "id": "af28e058",
   "metadata": {},
   "outputs": [],
   "source": [
    "length_predictions = np.array(list(zip(*length_data))[0])\n",
    "lenthg_targets = np.array(list(zip(*length_data))[1])\n",
    "# length_generations = [tokenizer.tokenize(x[\"generated\"]).__len__() for x in accumulated_data]"
   ]
  },
  {
   "cell_type": "markdown",
   "id": "a69cff0b",
   "metadata": {},
   "source": [
    "### Analyze Length Data - Error Analysis"
   ]
  },
  {
   "cell_type": "code",
   "execution_count": 225,
   "id": "9b03f6f1",
   "metadata": {},
   "outputs": [],
   "source": [
    "def context_mean_senence_length(dt):\n",
    "    return np.mean([len(x) for x in get_context(dt[\"source\"]).split(\"\\n\")])"
   ]
  },
  {
   "cell_type": "code",
   "execution_count": 335,
   "id": "41e1dfa5",
   "metadata": {},
   "outputs": [],
   "source": [
    "for dt, len_pred, len_target in zip(accumulated_data, length_predictions, lenthg_targets):\n",
    "    context = get_context(dt[\"source\"])\n",
    "    dt[\"dominant_position\"] = context.index(\"[Dominant]\") / len(context)"
   ]
  },
  {
   "cell_type": "code",
   "execution_count": 344,
   "id": "60880a31",
   "metadata": {},
   "outputs": [],
   "source": [
    "for dt, len_pred, len_target in zip(accumulated_data, length_predictions, lenthg_targets):\n",
    "    cited_paper = get_cited_paper(dt[\"source\"])\n",
    "    cc = cited_paper.count(\"[B_Dominant]\") + cited_paper.count(\"[B_Reference]\")\n",
    "    dt[\"citation_count\"] = cc"
   ]
  },
  {
   "cell_type": "code",
   "execution_count": 226,
   "id": "c5eebbff",
   "metadata": {},
   "outputs": [],
   "source": [
    "for dt, len_pred, len_target in zip(accumulated_data, length_predictions, lenthg_targets):\n",
    "    dt[\"length_prediction\"] = len_pred\n",
    "    dt[\"length_target\"] = len_target\n",
    "    dt[\"context_mean_sentence_length\"] = context_mean_senence_length(\n",
    "        dt\n",
    "    )\n",
    "    dt[\"context_length\"] = get_context(dt[\"source\"]).__len__()\n",
    "    dt[\"length_error\"] = abs(len_pred - len_target)\n",
    "    dt[\"cited_paper_content_length\"] = get_cited_paper(dt[\"source\"]).__len__()\n",
    "    dt[\"cited_paper_sentence_mean_length\"] = np.mean(\n",
    "        [len(x) for x in sent_tokenize(get_cited_paper(dt[\"source\"]))]\n",
    "    )\n",
    "    dt[\"random_sample_length\"] = sample(set(length_predictions), 1)[0]"
   ]
  },
  {
   "cell_type": "code",
   "execution_count": 285,
   "id": "7d6e2c5c",
   "metadata": {},
   "outputs": [],
   "source": [
    "# plt.hist(accumulated_data[0][\"all_predicted_length_constant_context\"])"
   ]
  },
  {
   "cell_type": "code",
   "execution_count": null,
   "id": "a70b177b",
   "metadata": {},
   "outputs": [],
   "source": []
  },
  {
   "cell_type": "code",
   "execution_count": 229,
   "id": "90054261",
   "metadata": {},
   "outputs": [],
   "source": [
    "accumulated_data = sorted(\n",
    "    accumulated_data, \n",
    "    key = lambda x : x[\"length_error\"], \n",
    "    reverse=True\n",
    ")"
   ]
  },
  {
   "cell_type": "code",
   "execution_count": 340,
   "id": "f5531277",
   "metadata": {},
   "outputs": [],
   "source": [
    "source = \"\"\"A more recent line of research  [Dominant] \\nIn our work, we successfully address these issues with an improved model that also relaxes the isomorphic assumption.\\nOur model uses two separate autoencoders, one for each language, which allows us to put more constraints to guide the mapping.\\nWe also distinguish the role of an encoder from the role of a mapper.\\nThe encoder projects embeddings to latent code vectors, which are then translated by the mapper.\\nZhang et al. (2017a) improved adversarial training with orthogonal parameterization and cycle consistency.\\nTo aid training, they incorporate additional techniques like noise injection which works as a regularizer.\\nFor selecting the best model, they rely on sharp drops of the discriminator accuracy.\\nIn their follow-up work (Zhang et al., 2017b) , they minimize Earth-Mover's distance between the distribution of the transformed source embeddings and the distribution of the target embeddings.\\nConneau et al. (2018) show impressive results with adversarial training and refinement with the Procrustes solution.\\nInstead of using the adversarial loss, Xu et al. (2018a) use Sinkhorn distance and adopt cycle consistency inspired by the CycleGAN (Zhu et al., 2017) .\\nWe also incorporate cycle consistency along with the adversarial loss.\\nHowever, while all these methods learn the mapping in the original embedding space, our approach learns it in the latent code space considering both the mapper and the target encoder as adversary.\\nIn addition, we use a postcycle reconstruction to guide the mapping.\\n\\n [B_Dominant] Barone (2016) </s> [E_Dominant] [B_Dominant] (Goodfellow, 2017) </s> [E_Dominant] [B_Reference] Conneau et al. (2018) </s> Word Translation Without Parallel Data | State-of-the-art methods for learning cross-lingual word embeddings have relied on bilingual dictionaries or parallel corpora. Recent works showed that the need for parallel data supervision can be alleviated with character-level information. While these methods showed encouraging results, they are not on par with their supervised counterparts and are limited to pairs of languages sharing a common alphabet. In this work, we show that we can build a bilingual dictionary between two languages without using any parallel corpora, by aligning monolingual word embedding spaces in an unsupervised way. Without using any character information, our model even outperforms existing supervised methods on cross-lingual tasks for some language pairs. Our experiments demonstrate that our method works very well also for distant language pairs, like English-Russian or English-Chinese. We finally show that our method is a first step towards fully unsupervised machine translation and describe experiments on the English-Esperanto language pair, on which there only exists a limited amount of parallel data. Recent attempts at reducing the need for bilingual supervision (Smith et al., 2017) employ identical character strings to form a parallel vocabulary. The iterative method of Artetxe et al. (2017) gradually aligns embedding spaces, starting from a parallel vocabulary of aligned digits. These methods are however limited to similar languages sharing a common alphabet, such as European languages. Going further, Cao et al. (2016) perform moment matching and Zhang et al. (2017) adopt adversarial training to obtain cross-lingual word embeddings without parallel data. While these approaches sound appealing, their performance is significantly below supervised methods. To sum up, current * Equal contribution. Order has been determined with a coin flip. [E_Reference]\"\"\""
   ]
  },
  {
   "cell_type": "code",
   "execution_count": 341,
   "id": "fd6ece1b",
   "metadata": {},
   "outputs": [],
   "source": [
    "# source"
   ]
  },
  {
   "cell_type": "code",
   "execution_count": 342,
   "id": "6323a1a6",
   "metadata": {},
   "outputs": [
    {
     "data": {
      "text/plain": [
       "68.1875"
      ]
     },
     "execution_count": 342,
     "metadata": {},
     "output_type": "execute_result"
    }
   ],
   "source": [
    "predict_length_from_source(source)"
   ]
  },
  {
   "cell_type": "code",
   "execution_count": 267,
   "id": "26978f1a",
   "metadata": {},
   "outputs": [],
   "source": [
    "# plt.hist([dt[\"length_target\"] for dt in accumulated_data if dt[\"source\"].strip().startswith(\"[Dominant]\")])"
   ]
  },
  {
   "cell_type": "code",
   "execution_count": 333,
   "id": "20c37d19",
   "metadata": {},
   "outputs": [
    {
     "data": {
      "text/plain": [
       "'/home/bxm200000/models/dominant_only/length_control/span_v1_cdlm/checkpoint-69500/'"
      ]
     },
     "execution_count": 333,
     "metadata": {},
     "output_type": "execute_result"
    }
   ],
   "source": [
    "path"
   ]
  },
  {
   "cell_type": "code",
   "execution_count": 345,
   "id": "6754a28a",
   "metadata": {},
   "outputs": [],
   "source": [
    "# analysis_utils.write_json(\n",
    "#     data = accumulated_data,\n",
    "#     filename = os.path.abspath(os.path.join(path, \"../sample_length_output.json\"))\n",
    "# )"
   ]
  },
  {
   "cell_type": "code",
   "execution_count": 346,
   "id": "1951dffa",
   "metadata": {},
   "outputs": [],
   "source": [
    "len_data = pd.DataFrame(accumulated_data)"
   ]
  },
  {
   "cell_type": "code",
   "execution_count": 358,
   "id": "20129a1f",
   "metadata": {},
   "outputs": [
    {
     "data": {
      "text/plain": [
       "Index(['source', 'target', 'generated', 'part_id', 'length_prediction',\n",
       "       'length_target', 'context_mean_sentence_length', 'context_length',\n",
       "       'length_error', 'cited_paper_content_length',\n",
       "       'cited_paper_sentence_mean_length', 'random_sample_length',\n",
       "       'all_predicted_length_constant_cited_paper',\n",
       "       'all_predicted_length_constant_context',\n",
       "       'all_predicted_length_constant_context_mean',\n",
       "       'all_predicted_length_constant_cited_paper_mean', 'dominant_position',\n",
       "       'citation_count'],\n",
       "      dtype='object')"
      ]
     },
     "execution_count": 358,
     "metadata": {},
     "output_type": "execute_result"
    }
   ],
   "source": [
    "len_data.columns"
   ]
  },
  {
   "cell_type": "code",
   "execution_count": 136,
   "id": "e2d02bd0",
   "metadata": {},
   "outputs": [],
   "source": [
    "len_data = len_data[len_data.length_target < 100]"
   ]
  },
  {
   "cell_type": "code",
   "execution_count": 357,
   "id": "82c1b6e8",
   "metadata": {},
   "outputs": [
    {
     "data": {
      "text/plain": [
       "Text(0.5, 1.0, 'Length vs Citation Count')"
      ]
     },
     "execution_count": 357,
     "metadata": {},
     "output_type": "execute_result"
    },
    {
     "data": {
      "image/png": "[encoded data removed]",
      "text/plain": [
       "<Figure size 720x576 with 1 Axes>"
      ]
     },
     "metadata": {},
     "output_type": "display_data"
    }
   ],
   "source": [
    "plt.scatter(\n",
    "    len_data.length_prediction.values, \n",
    "    len_data.citation_count.values\n",
    ")\n",
    "plt.xlim(0, 140)\n",
    "plt.xlabel(\"Length Predictions\")\n",
    "plt.ylabel(\"Citation Count\")\n",
    "plt.title(\"Length vs Citation Count\")"
   ]
  },
  {
   "cell_type": "code",
   "execution_count": 356,
   "id": "0b4acb3c",
   "metadata": {},
   "outputs": [
    {
     "data": {
      "text/plain": [
       "Text(0.5, 1.0, 'Length vs Citation Count')"
      ]
     },
     "execution_count": 356,
     "metadata": {},
     "output_type": "execute_result"
    },
    {
     "data": {
      "image/png": "[encoded data removed]",
      "text/plain": [
       "<Figure size 720x576 with 1 Axes>"
      ]
     },
     "metadata": {},
     "output_type": "display_data"
    }
   ],
   "source": [
    "plt.scatter(\n",
    "    len_data.length_target.values, \n",
    "    len_data.citation_count.values,\n",
    ")\n",
    "plt.xlim(0, 140)\n",
    "plt.xlabel(\"Length Ground Truth\")\n",
    "plt.ylabel(\"Citation Count\")\n",
    "plt.title(\"Length vs Citation Count\")"
   ]
  },
  {
   "cell_type": "code",
   "execution_count": null,
   "id": "72959568",
   "metadata": {},
   "outputs": [],
   "source": []
  },
  {
   "cell_type": "code",
   "execution_count": null,
   "id": "4ee26bec",
   "metadata": {},
   "outputs": [],
   "source": []
  },
  {
   "cell_type": "code",
   "execution_count": 143,
   "id": "a0898a30",
   "metadata": {},
   "outputs": [
    {
     "data": {
      "text/plain": [
       "20.17510986328125"
      ]
     },
     "execution_count": 143,
     "metadata": {},
     "output_type": "execute_result"
    }
   ],
   "source": [
    "abs(len_data.random_sample_length - len_data.length_target).mean()"
   ]
  },
  {
   "cell_type": "code",
   "execution_count": 144,
   "id": "1fa1cb3f",
   "metadata": {},
   "outputs": [
    {
     "data": {
      "text/plain": [
       "13.981658935546875"
      ]
     },
     "execution_count": 144,
     "metadata": {},
     "output_type": "execute_result"
    }
   ],
   "source": [
    "abs(len_data.length_prediction - len_data.length_target).mean()"
   ]
  },
  {
   "cell_type": "code",
   "execution_count": 359,
   "id": "1cea3542",
   "metadata": {},
   "outputs": [
    {
     "data": {
      "text/plain": [
       "Text(0, 0.5, 'length error')"
      ]
     },
     "execution_count": 359,
     "metadata": {},
     "output_type": "execute_result"
    },
    {
     "data": {
      "image/png": "[encoded data removed]",
      "text/plain": [
       "<Figure size 720x576 with 1 Axes>"
      ]
     },
     "metadata": {},
     "output_type": "display_data"
    }
   ],
   "source": [
    "plt.scatter(len_data.length_target.values, len_data.length_error.values )\n",
    "plt.xlabel(\"length target\")\n",
    "plt.ylabel(\"length error\")"
   ]
  },
  {
   "cell_type": "code",
   "execution_count": 125,
   "id": "2d0e83a1",
   "metadata": {},
   "outputs": [
    {
     "data": {
      "text/html": [
       "<div>\n",
       "<style scoped>\n",
       "    .dataframe tbody tr th:only-of-type {\n",
       "        vertical-align: middle;\n",
       "    }\n",
       "\n",
       "    .dataframe tbody tr th {\n",
       "        vertical-align: top;\n",
       "    }\n",
       "\n",
       "    .dataframe thead th {\n",
       "        text-align: right;\n",
       "    }\n",
       "</style>\n",
       "<table border=\"1\" class=\"dataframe\">\n",
       "  <thead>\n",
       "    <tr style=\"text-align: right;\">\n",
       "      <th></th>\n",
       "      <th>length_prediction</th>\n",
       "      <th>length_target</th>\n",
       "      <th>context_mean_sentence_length</th>\n",
       "      <th>context_length</th>\n",
       "      <th>length_error</th>\n",
       "      <th>cited_paper_content_length</th>\n",
       "      <th>cited_paper_sentence_mean_length</th>\n",
       "      <th>random_sample_length</th>\n",
       "    </tr>\n",
       "  </thead>\n",
       "  <tbody>\n",
       "    <tr>\n",
       "      <th>length_prediction</th>\n",
       "      <td>1.000000</td>\n",
       "      <td>0.477367</td>\n",
       "      <td>0.007250</td>\n",
       "      <td>-0.063373</td>\n",
       "      <td>0.450749</td>\n",
       "      <td>-0.034763</td>\n",
       "      <td>-0.012470</td>\n",
       "      <td>0.011597</td>\n",
       "    </tr>\n",
       "    <tr>\n",
       "      <th>length_target</th>\n",
       "      <td>0.477367</td>\n",
       "      <td>1.000000</td>\n",
       "      <td>-0.023908</td>\n",
       "      <td>-0.038366</td>\n",
       "      <td>0.434346</td>\n",
       "      <td>-0.031043</td>\n",
       "      <td>-0.014167</td>\n",
       "      <td>0.044991</td>\n",
       "    </tr>\n",
       "    <tr>\n",
       "      <th>context_mean_sentence_length</th>\n",
       "      <td>0.007250</td>\n",
       "      <td>-0.023908</td>\n",
       "      <td>1.000000</td>\n",
       "      <td>0.433102</td>\n",
       "      <td>0.007080</td>\n",
       "      <td>-0.009042</td>\n",
       "      <td>0.004035</td>\n",
       "      <td>0.031682</td>\n",
       "    </tr>\n",
       "    <tr>\n",
       "      <th>context_length</th>\n",
       "      <td>-0.063373</td>\n",
       "      <td>-0.038366</td>\n",
       "      <td>0.433102</td>\n",
       "      <td>1.000000</td>\n",
       "      <td>-0.041223</td>\n",
       "      <td>-0.019726</td>\n",
       "      <td>-0.010827</td>\n",
       "      <td>0.041074</td>\n",
       "    </tr>\n",
       "    <tr>\n",
       "      <th>length_error</th>\n",
       "      <td>0.450749</td>\n",
       "      <td>0.434346</td>\n",
       "      <td>0.007080</td>\n",
       "      <td>-0.041223</td>\n",
       "      <td>1.000000</td>\n",
       "      <td>-0.030863</td>\n",
       "      <td>-0.018436</td>\n",
       "      <td>-0.013662</td>\n",
       "    </tr>\n",
       "    <tr>\n",
       "      <th>cited_paper_content_length</th>\n",
       "      <td>-0.034763</td>\n",
       "      <td>-0.031043</td>\n",
       "      <td>-0.009042</td>\n",
       "      <td>-0.019726</td>\n",
       "      <td>-0.030863</td>\n",
       "      <td>1.000000</td>\n",
       "      <td>0.557140</td>\n",
       "      <td>-0.028273</td>\n",
       "    </tr>\n",
       "    <tr>\n",
       "      <th>cited_paper_sentence_mean_length</th>\n",
       "      <td>-0.012470</td>\n",
       "      <td>-0.014167</td>\n",
       "      <td>0.004035</td>\n",
       "      <td>-0.010827</td>\n",
       "      <td>-0.018436</td>\n",
       "      <td>0.557140</td>\n",
       "      <td>1.000000</td>\n",
       "      <td>-0.037683</td>\n",
       "    </tr>\n",
       "    <tr>\n",
       "      <th>random_sample_length</th>\n",
       "      <td>0.011597</td>\n",
       "      <td>0.044991</td>\n",
       "      <td>0.031682</td>\n",
       "      <td>0.041074</td>\n",
       "      <td>-0.013662</td>\n",
       "      <td>-0.028273</td>\n",
       "      <td>-0.037683</td>\n",
       "      <td>1.000000</td>\n",
       "    </tr>\n",
       "  </tbody>\n",
       "</table>\n",
       "</div>"
      ],
      "text/plain": [
       "                                  length_prediction  length_target  \\\n",
       "length_prediction                          1.000000       0.477367   \n",
       "length_target                              0.477367       1.000000   \n",
       "context_mean_sentence_length               0.007250      -0.023908   \n",
       "context_length                            -0.063373      -0.038366   \n",
       "length_error                               0.450749       0.434346   \n",
       "cited_paper_content_length                -0.034763      -0.031043   \n",
       "cited_paper_sentence_mean_length          -0.012470      -0.014167   \n",
       "random_sample_length                       0.011597       0.044991   \n",
       "\n",
       "                                  context_mean_sentence_length  \\\n",
       "length_prediction                                     0.007250   \n",
       "length_target                                        -0.023908   \n",
       "context_mean_sentence_length                          1.000000   \n",
       "context_length                                        0.433102   \n",
       "length_error                                          0.007080   \n",
       "cited_paper_content_length                           -0.009042   \n",
       "cited_paper_sentence_mean_length                      0.004035   \n",
       "random_sample_length                                  0.031682   \n",
       "\n",
       "                                  context_length  length_error  \\\n",
       "length_prediction                      -0.063373      0.450749   \n",
       "length_target                          -0.038366      0.434346   \n",
       "context_mean_sentence_length            0.433102      0.007080   \n",
       "context_length                          1.000000     -0.041223   \n",
       "length_error                           -0.041223      1.000000   \n",
       "cited_paper_content_length             -0.019726     -0.030863   \n",
       "cited_paper_sentence_mean_length       -0.010827     -0.018436   \n",
       "random_sample_length                    0.041074     -0.013662   \n",
       "\n",
       "                                  cited_paper_content_length  \\\n",
       "length_prediction                                  -0.034763   \n",
       "length_target                                      -0.031043   \n",
       "context_mean_sentence_length                       -0.009042   \n",
       "context_length                                     -0.019726   \n",
       "length_error                                       -0.030863   \n",
       "cited_paper_content_length                          1.000000   \n",
       "cited_paper_sentence_mean_length                    0.557140   \n",
       "random_sample_length                               -0.028273   \n",
       "\n",
       "                                  cited_paper_sentence_mean_length  \\\n",
       "length_prediction                                        -0.012470   \n",
       "length_target                                            -0.014167   \n",
       "context_mean_sentence_length                              0.004035   \n",
       "context_length                                           -0.010827   \n",
       "length_error                                             -0.018436   \n",
       "cited_paper_content_length                                0.557140   \n",
       "cited_paper_sentence_mean_length                          1.000000   \n",
       "random_sample_length                                     -0.037683   \n",
       "\n",
       "                                  random_sample_length  \n",
       "length_prediction                             0.011597  \n",
       "length_target                                 0.044991  \n",
       "context_mean_sentence_length                  0.031682  \n",
       "context_length                                0.041074  \n",
       "length_error                                 -0.013662  \n",
       "cited_paper_content_length                   -0.028273  \n",
       "cited_paper_sentence_mean_length             -0.037683  \n",
       "random_sample_length                          1.000000  "
      ]
     },
     "execution_count": 125,
     "metadata": {},
     "output_type": "execute_result"
    }
   ],
   "source": [
    "len_data.corr()"
   ]
  },
  {
   "cell_type": "code",
   "execution_count": 49,
   "id": "72e9f556",
   "metadata": {},
   "outputs": [],
   "source": [
    "source_lengths = [len(x[\"source\"]) for x in val_set]"
   ]
  },
  {
   "cell_type": "code",
   "execution_count": 51,
   "id": "3edfc0db",
   "metadata": {},
   "outputs": [],
   "source": [
    "len_data = pd.DataFrame(\n",
    "    {\"length_predictions\": length_predictions, \n",
    "     \"length_targets\": lenthg_targets, \n",
    "     \"source_lengths\" : source_lengths }\n",
    ")"
   ]
  },
  {
   "cell_type": "code",
   "execution_count": 54,
   "id": "4ebfb14d",
   "metadata": {},
   "outputs": [
    {
     "data": {
      "text/plain": [
       "<matplotlib.collections.PathCollection at 0x7f39d1359050>"
      ]
     },
     "execution_count": 54,
     "metadata": {},
     "output_type": "execute_result"
    },
    {
     "data": {
      "image/png": "[encoded data removed]",
      "text/plain": [
       "<Figure size 720x576 with 1 Axes>"
      ]
     },
     "metadata": {},
     "output_type": "display_data"
    }
   ],
   "source": [
    "plt.scatter(lenthg_targets, source_lengths)"
   ]
  },
  {
   "cell_type": "code",
   "execution_count": null,
   "id": "fdef84ab",
   "metadata": {},
   "outputs": [],
   "source": []
  },
  {
   "cell_type": "code",
   "execution_count": 35,
   "id": "66d8897f",
   "metadata": {
    "scrolled": false
   },
   "outputs": [],
   "source": [
    "# i = -1\n",
    "# i += 1\n",
    "# print(tokenizer.tokenize(accumulated_data[i][\"generated\"]).__len__())\n",
    "# print(length_data[i])\n",
    "# accumulated_data[i]"
   ]
  },
  {
   "cell_type": "code",
   "execution_count": 29,
   "id": "8f8e5a00",
   "metadata": {},
   "outputs": [
    {
     "data": {
      "text/plain": [
       "1322"
      ]
     },
     "execution_count": 29,
     "metadata": {},
     "output_type": "execute_result"
    }
   ],
   "source": [
    "len(accumulated_data)"
   ]
  },
  {
   "cell_type": "code",
   "execution_count": 36,
   "id": "57165e24",
   "metadata": {},
   "outputs": [],
   "source": [
    "# cit_types = []\n",
    "# for data in val_set:\n",
    "#     if \"[Dominant]\" in data[\"source\"]:\n",
    "#         cit_types.append(\"Dominant\")\n",
    "    \n",
    "#     if \"[Reference]\" in data[\"source\"]:\n",
    "#         cit_types.append(\"Reference\")\n",
    "\n",
    "# list(zip(length_data, cit_types[:len(length_data)]))"
   ]
  },
  {
   "cell_type": "code",
   "execution_count": 75,
   "id": "a27ccd80",
   "metadata": {},
   "outputs": [],
   "source": [
    "analysis_utils.write_json(accumulated_data, os.path.join(path, \"../sample_output.json\"))"
   ]
  },
  {
   "cell_type": "code",
   "execution_count": 29,
   "id": "00fa6cdf",
   "metadata": {},
   "outputs": [],
   "source": [
    "def get_categories(length):\n",
    "    if length < 10:\n",
    "        return 1\n",
    "    elif 10 <= length  < 20:\n",
    "        return 2\n",
    "    elif 20 <= length  < 30:\n",
    "        return 3\n",
    "    elif 30 <= length  < 40:\n",
    "        return 4\n",
    "    elif 40 <= length < 50:\n",
    "        return 5\n",
    "    \n",
    "    return 6"
   ]
  },
  {
   "cell_type": "code",
   "execution_count": 30,
   "id": "b4e4a7a8",
   "metadata": {},
   "outputs": [],
   "source": [
    "def rmse(predictions, targets):\n",
    "    return np.sqrt(((predictions - targets) ** 2).mean())"
   ]
  },
  {
   "cell_type": "code",
   "execution_count": 60,
   "id": "9a972a76",
   "metadata": {},
   "outputs": [],
   "source": [
    "tar_lengths = [get_categories(l) for _, l in length_data]"
   ]
  },
  {
   "cell_type": "code",
   "execution_count": 61,
   "id": "2223af1d",
   "metadata": {},
   "outputs": [],
   "source": [
    "target_pred_diff = [y - x for x, y in  length_data]\n",
    "diff_category_dict = defaultdict(list)\n",
    "for tar_len, diff in zip(tar_lengths, target_pred_diff):\n",
    "    diff_category_dict[tar_len].append(diff)"
   ]
  },
  {
   "cell_type": "code",
   "execution_count": 62,
   "id": "2bc53318",
   "metadata": {},
   "outputs": [],
   "source": [
    "# plt.boxplot(diff_category_dict.values())"
   ]
  },
  {
   "cell_type": "code",
   "execution_count": 63,
   "id": "8ba14775",
   "metadata": {},
   "outputs": [],
   "source": [
    "pred_lengths = [get_categories(l) for l, _ in length_data]"
   ]
  },
  {
   "cell_type": "code",
   "execution_count": 64,
   "id": "c6df0b7e",
   "metadata": {},
   "outputs": [
    {
     "data": {
      "text/plain": [
       "0.4394904458598726"
      ]
     },
     "execution_count": 64,
     "metadata": {},
     "output_type": "execute_result"
    }
   ],
   "source": [
    "accuracy_score(tar_lengths, pred_lengths)"
   ]
  },
  {
   "cell_type": "code",
   "execution_count": 65,
   "id": "e64ddea7",
   "metadata": {},
   "outputs": [
    {
     "name": "stdout",
     "output_type": "stream",
     "text": [
      "              precision    recall  f1-score   support\n",
      "\n",
      "           1       0.00      0.00      0.00         6\n",
      "           2       0.89      0.57      0.70       787\n",
      "           3       0.45      0.42      0.43       776\n",
      "           4       0.40      0.26      0.32       593\n",
      "           5       0.16      0.39      0.23       355\n",
      "           6       0.47      0.51      0.49       466\n",
      "\n",
      "    accuracy                           0.44      2983\n",
      "   macro avg       0.40      0.36      0.36      2983\n",
      "weighted avg       0.52      0.44      0.46      2983\n",
      "\n"
     ]
    },
    {
     "name": "stderr",
     "output_type": "stream",
     "text": [
      "/home/bxm200000/anaconda3/envs/tagger_4/lib/python3.7/site-packages/sklearn/metrics/_classification.py:1248: UndefinedMetricWarning: Precision and F-score are ill-defined and being set to 0.0 in labels with no predicted samples. Use `zero_division` parameter to control this behavior.\n",
      "  _warn_prf(average, modifier, msg_start, len(result))\n",
      "/home/bxm200000/anaconda3/envs/tagger_4/lib/python3.7/site-packages/sklearn/metrics/_classification.py:1248: UndefinedMetricWarning: Precision and F-score are ill-defined and being set to 0.0 in labels with no predicted samples. Use `zero_division` parameter to control this behavior.\n",
      "  _warn_prf(average, modifier, msg_start, len(result))\n",
      "/home/bxm200000/anaconda3/envs/tagger_4/lib/python3.7/site-packages/sklearn/metrics/_classification.py:1248: UndefinedMetricWarning: Precision and F-score are ill-defined and being set to 0.0 in labels with no predicted samples. Use `zero_division` parameter to control this behavior.\n",
      "  _warn_prf(average, modifier, msg_start, len(result))\n"
     ]
    }
   ],
   "source": [
    "print(classification_report(tar_lengths, pred_lengths))"
   ]
  },
  {
   "cell_type": "code",
   "execution_count": 27,
   "id": "75394f25",
   "metadata": {},
   "outputs": [
    {
     "data": {
      "text/plain": [
       "9.835243462956756"
      ]
     },
     "execution_count": 27,
     "metadata": {},
     "output_type": "execute_result"
    }
   ],
   "source": [
    "np.mean(abs( lenthg_targets - length_predictions))"
   ]
  },
  {
   "cell_type": "code",
   "execution_count": 31,
   "id": "e2e62cd6",
   "metadata": {},
   "outputs": [
    {
     "data": {
      "text/plain": [
       "14.365725957407426"
      ]
     },
     "execution_count": 31,
     "metadata": {},
     "output_type": "execute_result"
    }
   ],
   "source": [
    "rmse(lenthg_targets, length_predictions )"
   ]
  },
  {
   "cell_type": "markdown",
   "id": "b61e1a78",
   "metadata": {},
   "source": [
    "### Generated vs Target length"
   ]
  },
  {
   "cell_type": "code",
   "execution_count": 69,
   "id": "40b222d9",
   "metadata": {},
   "outputs": [
    {
     "data": {
      "text/plain": [
       "10.80154207173986"
      ]
     },
     "execution_count": 69,
     "metadata": {},
     "output_type": "execute_result"
    }
   ],
   "source": [
    "np.mean(abs( lenthg_targets - length_generations))"
   ]
  },
  {
   "cell_type": "code",
   "execution_count": 70,
   "id": "0ec51a79",
   "metadata": {},
   "outputs": [
    {
     "data": {
      "text/plain": [
       "17.316414075856766"
      ]
     },
     "execution_count": 70,
     "metadata": {},
     "output_type": "execute_result"
    }
   ],
   "source": [
    "rmse(lenthg_targets, length_generations )"
   ]
  },
  {
   "cell_type": "markdown",
   "id": "8e10449a",
   "metadata": {},
   "source": [
    "### Generation vs Predicted Length"
   ]
  },
  {
   "cell_type": "code",
   "execution_count": 42,
   "id": "047d6d36",
   "metadata": {},
   "outputs": [
    {
     "data": {
      "text/plain": [
       "Text(0.5, 1.0, 'Generated - predicted length')"
      ]
     },
     "execution_count": 42,
     "metadata": {},
     "output_type": "execute_result"
    },
    {
     "data": {
      "image/png": "[encoded data removed]",
      "text/plain": [
       "<Figure size 720x576 with 1 Axes>"
      ]
     },
     "metadata": {},
     "output_type": "display_data"
    }
   ],
   "source": [
    "diff = [tokenizer.tokenize(x[\"generated\"]).__len__() - l_pred[0] for x, l_pred in zip(accumulated_data, length_data)]\n",
    "plt.hist(diff, bins=50, range=(-60,100))\n",
    "plt.title(\"Generated - predicted length\")\n",
    "# plt.xlabel(\"Target span Length - Generated span length.\")"
   ]
  },
  {
   "cell_type": "code",
   "execution_count": 44,
   "id": "b67af9d4",
   "metadata": {},
   "outputs": [
    {
     "data": {
      "text/plain": [
       "-13.44845007123701"
      ]
     },
     "execution_count": 44,
     "metadata": {},
     "output_type": "execute_result"
    }
   ],
   "source": [
    "np.mean(diff)"
   ]
  },
  {
   "cell_type": "code",
   "execution_count": 82,
   "id": "0edb8110",
   "metadata": {},
   "outputs": [
    {
     "name": "stdout",
     "output_type": "stream",
     "text": [
      "[[  1   2   3   0   0   0]\n",
      " [  1 655 107  19   5   0]\n",
      " [  0  91 305 216 142  22]\n",
      " [  0   6  69 203 220  95]\n",
      " [  0   1  18  79 111 146]\n",
      " [  0   0   4  51 142 269]]\n"
     ]
    }
   ],
   "source": [
    "print(confusion_matrix(tar_lengths, pred_lengths))"
   ]
  },
  {
   "cell_type": "code",
   "execution_count": 42,
   "id": "5c1790e2",
   "metadata": {},
   "outputs": [],
   "source": [
    "# accumulated_data[4]"
   ]
  },
  {
   "cell_type": "code",
   "execution_count": 43,
   "id": "304506f1",
   "metadata": {},
   "outputs": [],
   "source": [
    "def get_length_difference(data, tokenizer=tokenizer):\n",
    "    \"\"\"\"\"\"\n",
    "    return tokenizer.tokenize(data[\"target\"]).__len__() - tokenizer.tokenize(data[\"generated\"]).__len__()\n",
    "    "
   ]
  },
  {
   "cell_type": "code",
   "execution_count": 29,
   "id": "58b61177",
   "metadata": {},
   "outputs": [],
   "source": [
    "old_accumulated_data = copy.deepcopy(accumulated_data)"
   ]
  },
  {
   "cell_type": "code",
   "execution_count": 44,
   "id": "0975ce0e",
   "metadata": {},
   "outputs": [
    {
     "data": {
      "text/plain": [
       "Text(0.5, 0, 'Target span Length - Generated span length.')"
      ]
     },
     "execution_count": 44,
     "metadata": {},
     "output_type": "execute_result"
    },
    {
     "data": {
      "image/png": "[encoded data removed]",
      "text/plain": [
       "<Figure size 720x576 with 1 Axes>"
      ]
     },
     "metadata": {},
     "output_type": "display_data"
    }
   ],
   "source": [
    "diff = [get_length_difference(x) for x in accumulated_data]\n",
    "plt.hist(diff, bins=50)\n",
    "plt.title(\"Span generation. Mean ~ {} Median ~{}\".format(\n",
    "    sum(diff)/len(diff), np.median(diff)))\n",
    "plt.xlabel(\"Target span Length - Generated span length.\")"
   ]
  },
  {
   "cell_type": "code",
   "execution_count": 47,
   "id": "23978d58",
   "metadata": {},
   "outputs": [
    {
     "data": {
      "text/plain": [
       "(array([2., 3., 2., 3., 4., 2., 1., 0., 0., 2.]),\n",
       " array([ 9. , 16.2, 23.4, 30.6, 37.8, 45. , 52.2, 59.4, 66.6, 73.8, 81. ]),\n",
       " <BarContainer object of 10 artists>)"
      ]
     },
     "execution_count": 47,
     "metadata": {},
     "output_type": "execute_result"
    },
    {
     "data": {
      "image/png": "[encoded data removed]",
      "text/plain": [
       "<Figure size 720x576 with 1 Axes>"
      ]
     },
     "metadata": {},
     "output_type": "display_data"
    }
   ],
   "source": [
    "plt.hist([tokenizer.tokenize(x[\"target\"]).__len__() for x in accumulated_data])"
   ]
  },
  {
   "cell_type": "code",
   "execution_count": 89,
   "id": "b2216b60",
   "metadata": {},
   "outputs": [
    {
     "data": {
      "text/plain": [
       "{'source': 'A simple (and yet effective) baseline for zero-shot translation is pivoting that chain-translates, first to a pivot language, then to a target (Cohn and Lapata, 2007; Wu and Wang, 2007; Utiyama and Isahara, 2007) .\\nDespite being a pipeline, pivoting gets better as the supervised models improve, which makes it a strong baseline in the zero-shot setting.\\nCheng et al. (2017) proposed a joint pivoting learning strategy that leads to further improvements.\\nLu et al. (2018) and Arivazhagan et al. (2018) proposed different techniques to obtain \"neural interlingual\" representations that are passed to the decoder.\\n [Dominant] \\n\\n [B_Dominant] Sestorain et al. (2018) </s> [E_Dominant] [B_Dominant] (He et al., 2016) </s> Dual Learning for Machine Translation | While neural machine translation (NMT) is making good progress in the past two years, tens of millions of bilingual sentence pairs are needed for its training. However, human labeling is very costly. To tackle this training data bottleneck, we develop a dual-learning mechanism, which can enable an NMT system to automatically learn from unlabeled data through a dual-learning game. This mechanism is inspired by the following observation: any machine translation task has a dual task, e.g., English-to-French translation (primal) versus French-to-English translation (dual); the primal and dual tasks can form a closed loop, and generate informative feedback signals to train the translation models, even if without the involvement of a human labeler. In the dual-learning mechanism, we use one agent to represent the model for the primal task and the other agent to represent the model for the dual task, then ask them to teach each other through a reinforcement learning process. Based on the feedback signals generated during this process (e.g., the languagemodel likelihood of the output of a model, and the reconstruction error of the original sentence after the primal and dual translations), we can iteratively update the two models until convergence (e.g., using the policy gradient methods). We call the corresponding approach to neural machine translation dual-NMT. Experiments show that dual-NMT works very well on English↔French translation; especially, by learning from monolingual data (with 10% bilingual data for warm start), it achieves a comparable accuracy to NMT trained from the full bilingual data for the French-to-English translation task. [E_Dominant]',\n",
       " 'target': 'Sestorain et al. (2018) proposed another fine-tuning technique that uses dual learning (He et al., 2016) , where a language model is used to provide a signal for fine-tuning zero-shot directions.',\n",
       " 'generated': 'Sestorain et al. (2018) and (He et al., 2016) proposed a dual-learning approach that can learn from unlabeled data, which can be used to train the dual-shot translation model, which is similar to the decoder setting.',\n",
       " 'part_id': '102353391_0_0_3'}"
      ]
     },
     "execution_count": 89,
     "metadata": {},
     "output_type": "execute_result"
    }
   ],
   "source": [
    "accumulated_data[0]"
   ]
  },
  {
   "cell_type": "code",
   "execution_count": 29,
   "id": "1294fd22",
   "metadata": {},
   "outputs": [],
   "source": [
    "# ### Check embedding\n",
    "\n",
    "# embed = SinusoidalPositionalEmbedding(\n",
    "#     embedding_dim=model.config.d_model,\n",
    "#     padding_idx=model.led.decoder.padding_idx,\n",
    "#     init_size=model.led.decoder.max_target_positions,\n",
    "#     sinpostype = \"ratio\"\n",
    "# )\n",
    "\n",
    "# input_shape = torch.tensor([1, 50])\n",
    "\n",
    "# length = torch.tensor([150])\n",
    "\n",
    "# positions = embed(\n",
    "#     input_shape = input_shape, \n",
    "#     length=length, \n",
    "# )\n",
    "\n",
    "# a = torch.tensor([1,2,3,4])\n",
    "\n",
    "# t = torch.tensor([7,8,9])\n",
    "\n",
    "# a.masked_scatter(torch.tensor([True, True, True, False]), t)"
   ]
  },
  {
   "cell_type": "code",
   "execution_count": 47,
   "id": "d46015e5",
   "metadata": {
    "scrolled": false
   },
   "outputs": [],
   "source": [
    "# i= 0\n",
    "# i += 1\n",
    "# accumulated_data[i]"
   ]
  },
  {
   "cell_type": "markdown",
   "id": "ed78cb0b",
   "metadata": {},
   "source": [
    "### ROUGE SCORE"
   ]
  },
  {
   "cell_type": "code",
   "execution_count": 37,
   "id": "8a3c6a8a",
   "metadata": {},
   "outputs": [],
   "source": [
    "rouge = load_metric(\"rouge\")"
   ]
  },
  {
   "cell_type": "code",
   "execution_count": 38,
   "id": "571567e3",
   "metadata": {},
   "outputs": [],
   "source": [
    "dominant_data, reference_data = analysis_utils.split_data_by_citation_type(accumulated_data)"
   ]
  },
  {
   "cell_type": "code",
   "execution_count": 39,
   "id": "6e2cf1cf",
   "metadata": {},
   "outputs": [
    {
     "data": {
      "text/plain": [
       "' proposed another fine-tuning technique that uses dual learning   where a language model is used to provide a signal for fine-tuning zero-shot directions'"
      ]
     },
     "execution_count": 39,
     "metadata": {},
     "output_type": "execute_result"
    }
   ],
   "source": [
    "analysis_utils.remove_citation_from_sentence(accumulated_data[0][\"target\"], accumulated_data[0][\"source\"])"
   ]
  },
  {
   "cell_type": "code",
   "execution_count": 40,
   "id": "146c4f5d",
   "metadata": {},
   "outputs": [
    {
     "data": {
      "text/plain": [
       "['Sestorain et al. (2018)', '(He et al., 2016)']"
      ]
     },
     "execution_count": 40,
     "metadata": {},
     "output_type": "execute_result"
    }
   ],
   "source": [
    "analysis_utils.get_citations(accumulated_data[0][\"source\"])"
   ]
  },
  {
   "cell_type": "code",
   "execution_count": 41,
   "id": "9dd292ab",
   "metadata": {},
   "outputs": [
    {
     "data": {
      "text/plain": [
       "'A simple (and yet effective) baseline for zero-shot translation is pivoting that chain-translates, first to a pivot language, then to a target (Cohn and Lapata, 2007; Wu and Wang, 2007; Utiyama and Isahara, 2007) .\\nDespite being a pipeline, pivoting gets better as the supervised models improve, which makes it a strong baseline in the zero-shot setting.\\nCheng et al. (2017) proposed a joint pivoting learning strategy that leads to further improvements.\\nLu et al. (2018) and Arivazhagan et al. (2018) proposed different techniques to obtain \"neural interlingual\" representations that are passed to the decoder.\\n [Dominant] \\n\\n [B_Dominant] Sestorain et al. (2018) </s> [E_Dominant] [B_Dominant] (He et al., 2016) </s> Dual Learning for Machine Translation | While neural machine translation (NMT) is making good progress in the past two years, tens of millions of bilingual sentence pairs are needed for its training. However, human labeling is very costly. To tackle this training data bottleneck, we develop a dual-learning mechanism, which can enable an NMT system to automatically learn from unlabeled data through a dual-learning game. This mechanism is inspired by the following observation: any machine translation task has a dual task, e.g., English-to-French translation (primal) versus French-to-English translation (dual); the primal and dual tasks can form a closed loop, and generate informative feedback signals to train the translation models, even if without the involvement of a human labeler. In the dual-learning mechanism, we use one agent to represent the model for the primal task and the other agent to represent the model for the dual task, then ask them to teach each other through a reinforcement learning process. Based on the feedback signals generated during this process (e.g., the languagemodel likelihood of the output of a model, and the reconstruction error of the original sentence after the primal and dual translations), we can iteratively update the two models until convergence (e.g., using the policy gradient methods). We call the corresponding approach to neural machine translation dual-NMT. Experiments show that dual-NMT works very well on English↔French translation; especially, by learning from monolingual data (with 10% bilingual data for warm start), it achieves a comparable accuracy to NMT trained from the full bilingual data for the French-to-English translation task. [E_Dominant]'"
      ]
     },
     "execution_count": 41,
     "metadata": {},
     "output_type": "execute_result"
    }
   ],
   "source": [
    "accumulated_data[0][\"source\"]"
   ]
  },
  {
   "cell_type": "code",
   "execution_count": 42,
   "id": "efcbaac1",
   "metadata": {},
   "outputs": [],
   "source": [
    "predicted = [analysis_utils.remove_citation_from_sentence(x[\"generated\"], x[\"source\"]) for x in accumulated_data]\n",
    "\n",
    "reference = [analysis_utils.remove_citation_from_sentence(x[\"target\"], x[\"source\"]) for x in accumulated_data]"
   ]
  },
  {
   "cell_type": "code",
   "execution_count": 43,
   "id": "637148ef",
   "metadata": {},
   "outputs": [],
   "source": [
    "dominant_predicted = [analysis_utils.remove_citation_from_sentence(x[\"generated\"], x[\"source\"]) for x in dominant_data]\n",
    "\n",
    "dominant_reference = [analysis_utils.remove_citation_from_sentence(x[\"target\"], x[\"source\"]) for x in dominant_data]"
   ]
  },
  {
   "cell_type": "code",
   "execution_count": 44,
   "id": "5cc639cf",
   "metadata": {},
   "outputs": [],
   "source": [
    "reference_predicted = [analysis_utils.remove_citation_from_sentence(x[\"generated\"], x[\"source\"]) for x in reference_data]\n",
    "\n",
    "reference_reference = [analysis_utils.remove_citation_from_sentence(x[\"target\"], x[\"source\"]) for x in reference_data]"
   ]
  },
  {
   "cell_type": "code",
   "execution_count": 45,
   "id": "5a93b57f",
   "metadata": {},
   "outputs": [],
   "source": [
    "new_accumulated_data = accumulated_data"
   ]
  },
  {
   "cell_type": "code",
   "execution_count": 46,
   "id": "89da05e6",
   "metadata": {},
   "outputs": [
    {
     "data": {
      "text/plain": [
       "{'rouge1': AggregateScore(low=Score(precision=0.271358133429492, recall=0.31171515136911593, fmeasure=0.271822994337769), mid=Score(precision=0.2794901080283654, recall=0.3192079637649109, fmeasure=0.278706841409453), high=Score(precision=0.287729427790276, recall=0.32759137035275643, fmeasure=0.2851743532359115)),\n",
       " 'rouge2': AggregateScore(low=Score(precision=0.06948764987208919, recall=0.08032208809933962, fmeasure=0.0696948369898434), mid=Score(precision=0.07420734569972809, recall=0.08588144952725613, fmeasure=0.07424946690057449), high=Score(precision=0.07900927103180688, recall=0.09160960287688139, fmeasure=0.07900013874591452)),\n",
       " 'rougeL': AggregateScore(low=Score(precision=0.20305194021629602, recall=0.23858075522283173, fmeasure=0.20577468184015907), mid=Score(precision=0.20926761083641135, recall=0.24526010678415222, fmeasure=0.21104583138233388), high=Score(precision=0.21586544361790905, recall=0.25269305612426846, fmeasure=0.21657030839701755))}"
      ]
     },
     "execution_count": 46,
     "metadata": {},
     "output_type": "execute_result"
    }
   ],
   "source": [
    "rouge.compute(\n",
    "    predictions=predicted, \n",
    "    references=reference, \n",
    "    rouge_types=[\"rouge1\",\"rouge2\",\"rougeL\"],\n",
    "    use_stemmer = True\n",
    ")"
   ]
  },
  {
   "cell_type": "markdown",
   "id": "d36f2d70",
   "metadata": {},
   "source": [
    "### Changing Desired Length Experiments"
   ]
  },
  {
   "cell_type": "code",
   "execution_count": 30,
   "id": "b0da2aa8",
   "metadata": {},
   "outputs": [],
   "source": [
    "def run_model(batch, model, length=None):\n",
    "    processed_batch = process_data_to_model_inputs(\n",
    "        batch, \n",
    "        special_tokens=['[Dominant]', '[Reference]'],\n",
    "        length=length\n",
    "    )\n",
    "    processed_batch_cuda = {}\n",
    "    for key in [\"input_ids\", \"attention_mask\", \"global_attention_mask\", \"labels\", \"length\"]:\n",
    "        processed_batch_cuda[key] = torch.tensor(processed_batch[key]).to(device)\n",
    "    model_kwargs = {'decoder_length' : processed_batch_cuda[\"length\"].unsqueeze(0)}\n",
    "    predicted_abstract_ids = model.generate(\n",
    "        processed_batch_cuda[\"input_ids\"], \n",
    "        attention_mask=processed_batch_cuda[\"attention_mask\"], \n",
    "        global_attention_mask=processed_batch_cuda[\"global_attention_mask\"],\n",
    "        **model_kwargs\n",
    "    )\n",
    "    out = tokenizer.batch_decode(predicted_abstract_ids, skip_special_tokens=False)\n",
    "    target = batch[\"target\"]\n",
    "    return out, target"
   ]
  },
  {
   "cell_type": "code",
   "execution_count": 31,
   "id": "eee89109",
   "metadata": {},
   "outputs": [],
   "source": [
    "def run_length_controlled_prediction(\n",
    "    source, target = \"dummy target\", length=None\n",
    "):\n",
    "    \"\"\"high level function for length controlled generation\"\"\"\n",
    "    test_data = {\"source\": source, \"target\": target, \"id\": \"test_123\"}\n",
    "\n",
    "    test_data_list = [test_data]\n",
    "    \n",
    "    for batch in DataLoader(test_data_list, batch_size = 1, shuffle=False):\n",
    "        out, ta = run_model(\n",
    "            batch, model,\n",
    "            length=length\n",
    "        )\n",
    "        break\n",
    "    return out[0]"
   ]
  },
  {
   "cell_type": "code",
   "execution_count": 32,
   "id": "da23869c",
   "metadata": {},
   "outputs": [],
   "source": [
    "source = \"\"\"In the past few years, neural machine translation (NMT) has drawn increasing interests due to its simplicity and promising performance (Bahdanau et al., 2014; Jean et al., 2015; Shen et al., 2016; Vaswani et al., 2017) . The widely used * Corresponding author. sequence-to-sequence (Seq2Seq) framework combined with attention mechanism achieves significant improvement over the traditional statistical machine translation (SMT) models on a variety of language pairs, such as Chinese-English Mi et al., 2016; Vaswani et al., 2017; Cheng et al., 2018) . Under an encoder-decoder architecture, the Seq2Seq framework first encodes the source sentence into a sequence of hidden vectors, and then incrementally predicts the target sentence (Cho et al., 2014a) . Recently, inspired by the success of syntaxbased SMT , researchers propose a range of interesting approaches for exploiting syntax information in NMT models, as syntactic trees could offer long-distance relations in sentences Wu et al., 2017b; Bastings et al., 2017; Hashimoto and Tsuruoka, 2017) . As a straightforward method, tree-structured recurrent neural network (Tree-RNN) can elegantly model the source-side syntax and globally encode the whole trees. Eriguchi et al. (2016) , and show that Tree-RNN can effectively integrate syntaxoriented trees into Seq2Seq NMT models. Regardless of the effectiveness of Tree-RNN, we find that it suffers from a severe low-efficiency problem because of the heterogeneity of different syntax trees, which leads to increasing difficulties for batch computation compared with sequential inputs. Even with deliberate batching method of , our preliminary experiments show that Tree-RNN with gated recurrent unit (GRU) can lead to nearly four times slower performance when it is integrated into a classical Seq2Seq system. To solve the problem, Tree-Linearization is a good alternative for syntax encoding. The main idea is to linearize syntax trees into sequential symbols, and then exploit the resulting sequences as inputs for NMT. propose a depth-first method to traverse a constituent tree, converting it into a sequence of symbols mixed with sentential words and syntax labels. Similarly, Wu et al. (2017b) combine several strategies of tree traversing for dependency syntax integration. In this work, we present an implicit syntax encoding method for NMT, enhancing NMT models by syntax-aware word representations (SAWRs). Figure 1 illustrates the basic idea, where trees are modeled indirectly by sequential vectors extracted from an encoder-decoder dependency parser. On the one hand, the method avoids the structural heterogeneity and thus can be integrated efficiently, and on the other hand, it does not require discrete 1-best tree outputs, alleviating the error propagation problem induced from syntax parsers. Concretely, the vector outputs are extracted from the encoding outputs of the encoder-decoder dependency parser. As shown in Figure 1 , the encoding outputs, denoted as o = o 1 · · · o 6 , are then integrated into Seq2Seq NMT models by directly concatenated with the source input word embeddings after a linear projection. We start with a Seq2Seq baseline with attention mechanism (Bahdanau et al., 2014) for study, following previous studies of the same research line, and then integrate source dependency syntax by SAWRs. We conduct experiments on ChineseEnglish and English-Vietnamese translation tasks, respectively. The results show that our method is very effective in source syntax integration. With source dependency syntax, the performances of Chinese-English and English-Vietnamese translation can be significantly boosted by 1.74 BLEU points and 0.80 BLEU points, respectively. We also compare the method with the representative Tree-RNN and Tree-Linearization approaches of syntax integration, finding that our method is able to achieve larger improvements than the two approaches for both tasks. All the codes are released publicly available at https://github.com/zhangmeishan/SYN4NMT under Apache License 2.0. </s> There have been several studies for NMT using dependency syntax.\\nHashimoto and Tsuruoka (2017) propose to combine the head information with sequential words together as source encoder inputs, where their input trees are latent dependency graphs.\\nRecently, there are several studies by using convolutional neural structures to represent source dependency trees, where tree nodes are modeled individually (Chen et al., 2017b; Bastings et al., 2017) .\\n [Dominant] \\nAll these methods require certain extra efforts to encode the source dependency syntax over a baseline Seq2Seq NMT.\\n\\n [B_Dominant] Wu et al. (2017b) </s> Improved neural machine translation with source syntax | Neural Machine Translation (NMT) based on the encoder-decoder architecture has recently achieved the state-of-the-art performance. Researchers have proven that extending word level attention to phrase level attention by incorporating source-side phrase structure can enhance the attention model and achieve promising improvement. However, word dependencies that can be crucial to correctly understand a source sentence are not always in a consecutive fashion (i.e. phrase structure), sometimes they can be in long distance. Phrase structures are not the best way to explicitly model long distance dependencies. In this paper we propose a simple but effective method to incorporate source-side long distance dependencies into NMT. Our method based on dependency trees enriches each source state with global dependency structures, which can better capture the inherent syntactic structure of source sentences. Experiments on Chinese-English and English-Japanese translation tasks show that our proposed method outperforms state-of-the-art SMT and NMT baselines. [E_Dominant]\"\"\""
   ]
  },
  {
   "cell_type": "code",
   "execution_count": null,
   "id": "df278513",
   "metadata": {},
   "outputs": [],
   "source": []
  },
  {
   "cell_type": "code",
   "execution_count": 51,
   "id": "c21ebb93",
   "metadata": {},
   "outputs": [],
   "source": [
    "with open(os.path.abspath(os.path.join(path, \"../sample_output.json\")), 'w') as f:\n",
    "    json.dump(new_accumulated_data, f)"
   ]
  },
  {
   "cell_type": "code",
   "execution_count": 52,
   "id": "1327b676",
   "metadata": {},
   "outputs": [],
   "source": [
    "# with open(os.path.abspath(os.path.join(path, \"../sample_output.json\")), 'r') as f:\n",
    "#     accumulated_data = json.loads(f.read())"
   ]
  },
  {
   "cell_type": "markdown",
   "id": "9b8604f7",
   "metadata": {},
   "source": [
    "### Run Text Generation on single datapoint - Exploration"
   ]
  },
  {
   "cell_type": "code",
   "execution_count": 22,
   "id": "48bf35fd",
   "metadata": {},
   "outputs": [],
   "source": [
    "source = \"\"\"Several approaches have been proposed recently to connect the rich expressiveness of contextualized word embeddings with cross-lingual transfer.\\n [Dominant] \\nLample and Conneau (2019) adapted the objectives of BERT (Devlin et al., 2018) to incorporate cross-lingual supervision from parallel data to learn cross-lingual language models (XLMs), which have obtained state-of-the-art results on several cross-lingual tasks.\\nSimilar to our approach, Schuster et al. (2019) also aligned pretrained contextualized word embeddings through linear transformation in an off-line fashion.\\nThey used the averaged contextualized embeddings as an anchor for each word type, and learn a transformation in the anchor space.\\nOur approach, however, learns this transformation directly in the contextual space, and hence is explicitly designed to be word sense-preserving.\\n\\n [B_Dominant] Shen et al. (2016) </s> Minimum Risk Training for Neural Machine Translation | We propose minimum risk training for end-to-end neural machine translation. Unlike conventional maximum likelihood estimation, minimum risk training is capable of optimizing model parameters directly with respect to arbitrary evaluation metrics, which are not necessarily differentiable. Experiments show that our approach achieves significant improvements over maximum likelihood estimation on a state-of-the-art neural machine translation system across various languages pairs. Transparent to architectures, our approach can be applied to more neural networks and potentially benefit more NLP tasks. [E_Dominant]\"\"\""
   ]
  },
  {
   "cell_type": "code",
   "execution_count": 23,
   "id": "ba2e5fdb",
   "metadata": {},
   "outputs": [],
   "source": [
    "target = \"Shen et al. (2019) proposed ml-VAE-D with multi-level latent variables.\""
   ]
  },
  {
   "cell_type": "code",
   "execution_count": 24,
   "id": "9254d84d",
   "metadata": {},
   "outputs": [],
   "source": [
    "def get_generation(gen_model, source):\n",
    "    test_data = {\"source\": source, \"target\": \"target 123\", \"id\": \"test_123\"}\n",
    "\n",
    "    test_data_list = [test_data]\n",
    "    for batch in DataLoader(test_data_list, batch_size = 1, shuffle=False):\n",
    "        out, ta = run_model(batch, gen_model)\n",
    "        break\n",
    "    return out[0]"
   ]
  },
  {
   "cell_type": "code",
   "execution_count": 25,
   "id": "c77423d0",
   "metadata": {},
   "outputs": [
    {
     "name": "stderr",
     "output_type": "stream",
     "text": [
      "/home/bxm200000/anaconda3/envs/tagger_4/lib/python3.7/site-packages/torch/utils/checkpoint.py:25: UserWarning: None of the inputs have requires_grad=True. Gradients will be None\n",
      "  warnings.warn(\"None of the inputs have requires_grad=True. Gradients will be None\")\n"
     ]
    },
    {
     "data": {
      "text/plain": [
       "'</s><s>Shen et al. (2016) proposed to train an end-to-end neural machine translation system with a minimum risk objective, where the objective is to maximize the BLEU score of the final translation model.</s>'"
      ]
     },
     "execution_count": 25,
     "metadata": {},
     "output_type": "execute_result"
    }
   ],
   "source": [
    "get_generation(model, source)"
   ]
  },
  {
   "cell_type": "code",
   "execution_count": 32,
   "id": "2bab28f9",
   "metadata": {},
   "outputs": [],
   "source": [
    "cited_paper = \"\"\"[B_Dominant] Michel and Neubig (2018) </s> Extreme Adaptation for Personalized Neural Machine Translation | Every person speaks or writes their own flavor of their native language, influenced by a number of factors: the content they tend to talk about, their gender, their social status, or their geographical origin. When attempting to perform Machine Translation (MT), these variations have a significant effect on how the system should perform translation, but this is not captured well by standard one-sizefits-all models. In this paper, we propose a simple and parameter-efficient adaptation technique that only requires adapting the bias of the output softmax to each particular user of the MT system, either directly or through a factored approximation. Experiments on TED talks in three languages demonstrate improvements in translation accuracy, and better reflection of speaker traits in the target text. [E_Dominant]\"\"\""
   ]
  },
  {
   "cell_type": "code",
   "execution_count": 34,
   "id": "792bfbf8",
   "metadata": {},
   "outputs": [
    {
     "name": "stderr",
     "output_type": "stream",
     "text": [
      "/home/bxm200000/anaconda3/envs/tagger_4/lib/python3.7/site-packages/torch/utils/checkpoint.py:25: UserWarning: None of the inputs have requires_grad=True. Gradients will be None\n",
      "  warnings.warn(\"None of the inputs have requires_grad=True. Gradients will be None\")\n"
     ]
    },
    {
     "name": "stdout",
     "output_type": "stream",
     "text": [
      "</s><s>Michel and Neubig (2018) proposed an extreme adaptation technique that only requires parameter-efficient adaptation of the output softmax to each individual speaker's native language.</s>\n",
      "\n",
      "\n",
      "\n",
      "</s><s>Michel and Neubig (2018) suggest an extreme adaptation approach for NMT</s>\n",
      "\n",
      "\n",
      "\n",
      "</s><s>Michel and Neubig (2018) use an adversarial training technique that only requires adapting the bias of the output softmax to each target user.</s>\n",
      "\n",
      "\n",
      "\n",
      "</s><s>Michel and Neubig (2018) propose a parameter-efficient adaptation technique that only requires the bias of the output softmax.</s>\n",
      "\n",
      "\n",
      "\n",
      "</s><s>of multi-turn conversation models, Michel and Neubig (2018) proposed an extreme adaptation technique that only requires adapting the bias of the output softmax to each individual user's profile.</s>\n",
      "\n",
      "\n",
      "\n",
      "</s><s>Michel and Neubig (2018) propose an extreme adaptation technique that only requires the output softmax to be factored.</s>\n",
      "\n",
      "\n",
      "\n",
      "</s><s>Michel and Neubig (2018) propose an extreme adaptation technique that only requires the output softmax to each individual user, either directly or through a factored approximation.</s>\n",
      "\n",
      "\n",
      "\n",
      "</s><s>Michel and Neubig (2018) conducted a series of experiments on different configurations of the Transformer architecture, and compared the results obtained with different configurations between 0-32k BPE.</s>\n",
      "\n",
      "\n",
      "\n",
      "</s><s>Michel and Neubig (2018) showed that RNNs can learn syntactic relations (e.g., gender, social status, etc.\n",
      "</s>\n",
      "\n",
      "\n",
      "\n",
      "</s><s>Michel and Neubig (2018) developed Neural Machine Translation (NMT) models that learn to copy and generate new words from the source text.</s>\n",
      "\n",
      "\n",
      "\n",
      "</s><s>Michel and Neubig (2018) train a discriminative neural network to predict the next word in a sentence given a sequence of input words.\n",
      "This is hard to do in a transition-based parsing setting, especially in the context of NMT.</s>\n",
      "\n",
      "\n",
      "\n",
      "</s><s>Michel and Neubig (2018) showed how an LSTM character model can be adapted to adapt to different speaker characteristics, such as gender, social status, and geographical origin.</s>\n",
      "\n",
      "\n",
      "\n",
      "</s><s>Michel and Neubig (2018) propose an extreme adaptation technique that only requires adapting the bias of the output softmax to each speaker's profile.</s>\n",
      "\n",
      "\n",
      "\n",
      "</s><s>earlier work, Michel and Neubig (2018) found that the performance of an MWE tagger on TED talks improved by adapting the bias of the output softmax to each speaker's native language.</s>\n",
      "\n",
      "\n",
      "\n",
      "</s><s>Michel and Neubig (2018) used the information from KBs to perform Extreme Adaptation (EL) to adapt the output softmax for each individual user.</s>\n",
      "\n",
      "\n",
      "\n",
      "</s><s>Michel and Neubig (2018) propose an extreme adaptation technique that only requires the bias of the output softmax to be given to a particular user.</s>\n",
      "\n",
      "\n",
      "\n",
      "</s><s>Michel and Neubig (2018) proposed an extreme adaptation approach for NMT by adapting the bias of the output softmax to each speaker's native language, and got improvements in translation accuracy.</s>\n",
      "\n",
      "\n",
      "\n",
      "\n",
      "\n",
      "\n",
      "</s><s>Inspired by TED talks, Michel and Neubig (2018) proposed an extreme adaptation approach that only requires parameter-efficient adaptation of the output softmax to each user's profile.\n",
      "They showed improvements in translation accuracy by using factored approximation.</s>\n",
      "\n",
      "\n",
      "\n",
      "</s><s>Michel and Neubig (2018) proposed a two-hop attention mechanism where the first-hop is used to extract different features in different subspaces of the text, while the second-hop serves as an additional input to the attention mechanism.</s>\n",
      "\n",
      "\n",
      "\n",
      "</s><s>Michel and Neubig (2018) used a softmax output to adapt the bias of the output softmax to each speaker of the MT system.</s>\n",
      "\n",
      "\n",
      "\n",
      "</s><s>Michel and Neubig (2018) have shown that neural machine translation (NMT) systems can benefit from adapting the output softmax to the individual user's profile, such as the gender of the speaker.</s>\n",
      "\n",
      "\n",
      "\n",
      "</s><s>Michel and Neubig (2018) proposed an extreme adaptation technique that only requires the bias of the output softmax to represent the speaker traits in the target text.</s>\n",
      "\n",
      "\n",
      "\n",
      "</s><s>Michel and Neubig (2018) used extractive summaries to improve NMT output by adapting the output softmax to each individual user's profile, such as the gender of the speaker, or the geographical location of the author(s) (Nguyen et al., 2017)</s>\n",
      "\n",
      "\n",
      "\n",
      "</s><s>Michel and Neubig (2018) proposed an extreme adaptation technique that only requires parameter-efficient adaptation of the output softmax to different users.</s>\n",
      "\n",
      "\n",
      "\n",
      "</s><s>In the context of Neural Machine Translation, Michel and Neubig (2018) propose a parameter-efficient adaptation technique that only requires adapting the output softmax to each individual user's taste.\n",
      "They show improvements in translation accuracy, and better reflection of speaker traits in the target text.</s>\n",
      "\n",
      "\n",
      "\n",
      "</s><s>Michel and Neubig (2018) proposed a parameter-efficient adaptation technique that only requires adapting the bias of the output softmax to each individual user of the system.</s>\n",
      "\n",
      "\n",
      "\n",
      "</s><s>Michel and Neubig (2018) apply a parameter-efficient adaptation technique that only requires the bias of the output softmax to each particular user's native language, to get improvements in translation accuracy.</s>\n",
      "\n",
      "\n",
      "\n",
      "</s><s>Michel and Neubig (2018) propose an extreme adaptation technique that only requires adapting the output softmax to each individual user's profile.\n",
      "This is done by training a neural network in a way that maximizes the likelihood of the output layer being generated by the neural network.</s>\n",
      "\n",
      "\n",
      "\n",
      "</s><s>Michel and Neubig (2018) proposed an extreme adaptation method for machine translation task by adapting the output softmax to each user's profile</s>\n",
      "\n",
      "\n",
      "\n",
      "</s><s>Michel and Neubig (2018) propose to model each response separately by a parameter-efficient adaptation technique, either directly or through a factored approximation.</s>\n",
      "\n",
      "\n",
      "\n",
      "</s><s>Michel and Neubig (2018) propose an extreme adaptation approach that requires adapting the output softmax to each individual user's profile, either directly or through a factored approximation, to improve the performance of the system</s>\n",
      "\n",
      "\n",
      "\n",
      "</s><s>Michel and Neubig (2018) propose an extreme adaptation technique that only requires adapting the output softmax to each individual user's profile.</s>\n",
      "\n",
      "\n",
      "\n",
      "</s><s>Michel and Neubig (2018) propose a parameter-efficient adaptation technique that only requires the bias of the output softmax to each individual user's taste.</s>\n",
      "\n",
      "\n",
      "\n",
      "</s><s>Michel and Neubig (2018) proposed an extreme adaptation technique to overcome the bias in the output softmax by directly adapting the bias of the MT output to each user's profile, which results in improvements in translation accuracy, and better reflection of speaker traits in the target text.\n",
      "[BOS]</s>\n",
      "\n",
      "\n",
      "\n",
      "</s><s>Michel and Neubig (2018) proposed an extreme adaptation technique that only requires parameter-efficient adaptation of the output softmax to each individual user.</s>\n",
      "\n",
      "\n",
      "\n",
      "</s><s>Michel and Neubig (2018) proposed an extreme adaptation technique that only requires the bias of the output softmax to each individual user.</s>\n",
      "\n",
      "\n",
      "\n",
      "</s><s>In the context of Neural Machine Translation, Michel and Neubig (2018) propose a parameter-efficient adaptation technique that only requires adapting the output softmax to each individual user's taste.\n",
      "They show improvements in translation accuracy, and better reflection of speaker traits in the target text.</s>\n",
      "\n",
      "\n",
      "\n",
      "</s><s> Personalized Neural Machine Translation (PBMT) by Michel and Neubig (2018) achieves state-of-the-art results on the TED talks dataset.</s>\n",
      "\n",
      "\n",
      "\n",
      "</s><s>Michel and Neubig (2018) adapted the output layer of a Personalized Neural Machine Translation (PBMT) system to different user characteristics.</s>\n",
      "\n",
      "\n",
      "\n",
      "</s><s>According to Michel and Neubig (2018), the performance of Spearman correlation is in line with the findings of Agirre et al. (2009), who argued that the correlation between the scores of two systems might be less informative if the scores are linearly correlated.</s>\n",
      "\n",
      "\n",
      "\n",
      "</s><s>Michel and Neubig (2018), the authors present an adaptation technique that only requires adapting the output softmax to each individual user of the MT system.</s>\n",
      "\n",
      "\n",
      "\n",
      "</s><s>Michel and Neubig (2018) proposed an extreme adaptation technique that only requires adapting the bias of the output softmax to each speaker of the MT system, either directly or through a factored approximation.\n",
      "Their experiments show improvements in translation accuracy, and better reflection of speaker traits.</s>\n",
      "\n",
      "\n",
      "\n"
     ]
    },
    {
     "name": "stdout",
     "output_type": "stream",
     "text": [
      "</s><s>Michel and Neubig (2018) pointed out that NMT systems are not able to robustly handle the level of linguistic variation in the domain of social media.</s>\n",
      "\n",
      "\n",
      "\n",
      "</s><s>Michel and Neubig (2018) assess VQA models on TED talks for robustness</s>\n",
      "\n",
      "\n",
      "\n",
      "</s><s>Michel and Neubig (2018) proposed to extract context from the input by a copy mechanism.</s>\n",
      "\n",
      "\n",
      "\n",
      "</s><s>Michel and Neubig (2018) have shown that the syntax-agnostic approach is superior to the rule-based approach.</s>\n",
      "\n",
      "\n",
      "\n",
      "</s><s>Michel and Neubig (2018) proposed an extreme adaptation technique that only requires adapting the output softmax to each speaker of the MT system.</s>\n",
      "\n",
      "\n",
      "\n",
      "</s><s>Michel and Neubig (2018) show how to adapt a parameter-efficient adaptation technique that does not require parameter training to fit the speaker's profile.</s>\n",
      "\n",
      "\n",
      "\n",
      "</s><s>Michel and Neubig (2018) propose an adaptation technique that only requires adapting the bias of the output softmax to each particular user of the MT system.\n",
      "They also report that the generated adversarial documents still preserve semantic meaning to the question.</s>\n",
      "\n",
      "\n",
      "\n",
      "</s><s>Michel and Neubig (2018) propose a parameter-efficient adaptation technique that only requires adapting the bias of the output softmax to each speaker's native language.</s>\n",
      "\n",
      "\n",
      "\n",
      "</s><s>Michel and Neubig (2018) propose a parameter-efficient adaptation technique that only requires adapting the output softmax to each speaker's profile.</s>\n",
      "\n",
      "\n",
      "\n",
      "</s><s>Miculicich and Neubig (2018) propose an extreme adaptation technique that only requires adapting the output softmax to each individual user's specific target language.\n",
      "Their experimental results show improvements in translation accuracy, and better reflection of speaker traits.</s>\n",
      "\n",
      "\n",
      "\n",
      "</s><s>Michel and Neubig (2018) propose a parameter-efficient adaptation technique that only requires the bias of the output softmax to each particular user of the MT system, either directly or through a factored approximation.\n",
      "They show improvements in translation accuracy, and better reflection of speaker traits in the target text.</s>\n",
      "\n",
      "\n",
      "\n",
      "</s><s>Michel and Neubig (2018) propose ELMo, a neural network based on a bi-directional long short-term memory (bi-LSTM) neural network.</s>\n",
      "\n",
      "\n",
      "\n",
      "</s><s>Michel and Neubig (2018) predict gender and social status of speakers</s>\n",
      "\n",
      "\n",
      "\n",
      "</s><s>Michel and Neubig (2018) propose a parameter-efficient adaptation technique that only requires adapting the output softmax to each particular user of the MT system.</s>\n",
      "\n",
      "\n",
      "\n",
      "</s><s>Michel and Neubig (2018) proposed an extreme adaptation technique that only requires adapting the output softmax to each individual user's profile.</s>\n",
      "\n",
      "\n",
      "\n",
      "</s><s>Michel and Neubig (2018) adapted Transformer for RE using parameter-efficient adaptation of the output softmax for each particular user.</s>\n",
      "\n",
      "\n",
      "\n",
      "</s><s>In the field of Neural Machine Translation, Michel and Neubig (2018) proposed a parameter-efficient adaptation technique that only requires the bias of the output softmax to each individual user, either directly or through a factored approximation.\n",
      "They showed improvements in translation accuracy, and better reflection of speaker traits in the target text.</s>\n",
      "\n",
      "\n",
      "\n",
      "</s><s>Michel and Neubig (2018) adapt an AMR-to-text translation model to generate text given various speaker characteristics, such as gender, social status, and so on (Michel et al., 2014)</s>\n",
      "\n",
      "\n",
      "\n",
      "</s><s>Michel and Neubig (2018) proposed an extreme adaptation approach that only requires adapting the output softmax to each speaker's native language, either directly or through approximation.</s>\n",
      "\n",
      "\n",
      "\n",
      "</s><s>Michel and Neubig (2018) propose an extreme adaptation technique that only requires the output softmax to adapt to a specific user's language.</s>\n",
      "\n",
      "\n",
      "\n",
      "</s><s>Michel and Neubig (2018) proposed an extreme adaptation technique that only requires adapting the output softmax to each speaker of the MT system, either directly or through a factored approximation.</s>\n",
      "\n",
      "\n",
      "\n",
      "</s><s>Michel and Neubig (2018) adapts the translation model to each speaker's own flavor of their native language based on various factors such as gender, social status, and so on.</s>\n",
      "\n",
      "\n",
      "\n",
      "</s><s> Extreme Adaptation method of Michel and Neubig (2018), this technique requires adapting the bias of the output softmax to each individual user's level of granularity.</s>\n",
      "\n",
      "\n",
      "\n",
      "</s><s>Michel and Neubig (2018) propose a parameter-efficient adaptation technique that only requires the bias of the output softmax to each individual speaker, which results in a better reflection of the speaker's personality.</s>\n",
      "\n",
      "\n",
      "\n"
     ]
    }
   ],
   "source": [
    "for i in range(0, len(val_set), 20):\n",
    "    ddd = val_set[i]\n",
    "    source = get_context(ddd[\"source\"]) + \"\\n\\n\" + cited_paper\n",
    "    try:\n",
    "        print(get_generation(model, source))\n",
    "    except:\n",
    "        pass\n",
    "    print(\"\\n\\n\")"
   ]
  },
  {
   "cell_type": "code",
   "execution_count": 85,
   "id": "c97a9b45",
   "metadata": {},
   "outputs": [
    {
     "data": {
      "text/plain": [
       "''"
      ]
     },
     "execution_count": 85,
     "metadata": {},
     "output_type": "execute_result"
    }
   ],
   "source": [
    "\"\""
   ]
  },
  {
   "cell_type": "code",
   "execution_count": 286,
   "id": "cad0b204",
   "metadata": {},
   "outputs": [],
   "source": [
    "tt = [1,2,3,4,5,6]"
   ]
  },
  {
   "cell_type": "code",
   "execution_count": 287,
   "id": "43c23a6b",
   "metadata": {},
   "outputs": [
    {
     "data": {
      "text/plain": [
       "3"
      ]
     },
     "execution_count": 287,
     "metadata": {},
     "output_type": "execute_result"
    }
   ],
   "source": [
    "tt.pop(2)"
   ]
  },
  {
   "cell_type": "code",
   "execution_count": 288,
   "id": "57b2e407",
   "metadata": {},
   "outputs": [
    {
     "data": {
      "text/plain": [
       "[1, 2, 4, 5, 6]"
      ]
     },
     "execution_count": 288,
     "metadata": {},
     "output_type": "execute_result"
    }
   ],
   "source": [
    "tt"
   ]
  },
  {
   "cell_type": "code",
   "execution_count": null,
   "id": "bedac94f",
   "metadata": {},
   "outputs": [],
   "source": []
  }
 ],
 "metadata": {
  "kernelspec": {
   "display_name": "Python 3",
   "language": "python",
   "name": "python3"
  },
  "language_info": {
   "codemirror_mode": {
    "name": "ipython",
    "version": 3
   },
   "file_extension": ".py",
   "mimetype": "text/x-python",
   "name": "python",
   "nbconvert_exporter": "python",
   "pygments_lexer": "ipython3",
   "version": "3.8.10"
  }
 },
 "nbformat": 4,
 "nbformat_minor": 5
}
